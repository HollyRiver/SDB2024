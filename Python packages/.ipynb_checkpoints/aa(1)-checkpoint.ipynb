{
  "cells": [
    {
      "cell_type": "markdown",
      "id": "5e6c502a",
      "metadata": {
        "id": "5e6c502a"
      },
      "source": [
        "\n",
        "<center><b><font size=\"+4\">통계데이터베이스 Python 기초 (1)</font></b></center>\n",
        "\n",
        "<b>    </b>\n",
        "\n",
        "<CENTER><b><font size=\"+1.5\">2024년 1학기 전북대 통계학과 김광수</font></b></center>\n"
      ]
    },
    {
      "cell_type": "code",
      "execution_count": null,
      "id": "9bb16b26",
      "metadata": {
        "id": "9bb16b26",
        "outputId": "5891285d-25aa-410c-f67e-abbfa1e52e71",
        "colab": {
          "base_uri": "https://localhost:8080/"
        }
      },
      "outputs": [
        {
          "output_type": "stream",
          "name": "stdout",
          "text": [
            "hello\n"
          ]
        }
      ],
      "source": [
        "print(\"hello\")"
      ]
    },
    {
      "cell_type": "code",
      "execution_count": null,
      "id": "81d613f5",
      "metadata": {
        "id": "81d613f5",
        "outputId": "af387e42-1cef-4849-8a79-5e901f89e453",
        "colab": {
          "base_uri": "https://localhost:8080/"
        }
      },
      "outputs": [
        {
          "output_type": "execute_result",
          "data": {
            "text/plain": [
              "8"
            ]
          },
          "metadata": {},
          "execution_count": 6
        }
      ],
      "source": [
        "3 + 5"
      ]
    },
    {
      "cell_type": "markdown",
      "id": "fd2bcf4a",
      "metadata": {
        "id": "fd2bcf4a"
      },
      "source": [
        "#### 정수형은 정수형으로 반환하게 됨"
      ]
    },
    {
      "cell_type": "code",
      "execution_count": null,
      "id": "6d6b4aff",
      "metadata": {
        "id": "6d6b4aff",
        "outputId": "418d750b-23df-4ce7-ea5e-4710d3d1277f",
        "colab": {
          "base_uri": "https://localhost:8080/"
        }
      },
      "outputs": [
        {
          "output_type": "execute_result",
          "data": {
            "text/plain": [
              "8.0"
            ]
          },
          "metadata": {},
          "execution_count": 7
        }
      ],
      "source": [
        "3.0 + 5"
      ]
    },
    {
      "cell_type": "markdown",
      "id": "9020b71a",
      "metadata": {
        "id": "9020b71a"
      },
      "source": [
        "#### 실수형과 정수형이 같이 연산되면 실수형으로 반환"
      ]
    },
    {
      "cell_type": "code",
      "execution_count": null,
      "id": "23f3c6ef",
      "metadata": {
        "id": "23f3c6ef",
        "colab": {
          "base_uri": "https://localhost:8080/"
        },
        "outputId": "816119f0-eae4-403c-9893-11a059f2dd37"
      },
      "outputs": [
        {
          "output_type": "execute_result",
          "data": {
            "text/plain": [
              "8"
            ]
          },
          "metadata": {},
          "execution_count": 8
        }
      ],
      "source": [
        "int(1.4 + 7)"
      ]
    },
    {
      "cell_type": "markdown",
      "id": "dc7637b4",
      "metadata": {
        "id": "dc7637b4"
      },
      "source": [
        "#### 실수형으로 반환되나 int 명령문을 이용하여 정수형으로 변환"
      ]
    },
    {
      "cell_type": "code",
      "execution_count": null,
      "id": "2005a4f0",
      "metadata": {
        "scrolled": true,
        "id": "2005a4f0",
        "colab": {
          "base_uri": "https://localhost:8080/"
        },
        "outputId": "576e99de-a4ae-457d-c9e9-cab1238a06cd"
      },
      "outputs": [
        {
          "output_type": "execute_result",
          "data": {
            "text/plain": [
              "2.0"
            ]
          },
          "metadata": {},
          "execution_count": 9
        }
      ],
      "source": [
        "4/2"
      ]
    },
    {
      "cell_type": "markdown",
      "id": "1df6cd7c",
      "metadata": {
        "id": "1df6cd7c"
      },
      "source": [
        "#### 나눗셈 연산은 자동으로 실수형으로 전환"
      ]
    },
    {
      "cell_type": "code",
      "execution_count": null,
      "id": "28ff7f20",
      "metadata": {
        "colab": {
          "base_uri": "https://localhost:8080/"
        },
        "id": "28ff7f20",
        "outputId": "937de9d7-112c-4feb-eb0d-0bfc9ee734ec"
      },
      "outputs": [
        {
          "output_type": "stream",
          "name": "stdout",
          "text": [
            "128\n"
          ]
        },
        {
          "output_type": "execute_result",
          "data": {
            "text/plain": [
              "2.05"
            ]
          },
          "metadata": {},
          "execution_count": 16
        }
      ],
      "source": [
        "print(2**7)\n",
        "price = 2.0451\n",
        "round(price,2)"
      ]
    },
    {
      "cell_type": "markdown",
      "source": [
        "### 반올림을 함"
      ],
      "metadata": {
        "id": "jm6kZUUQZIDx"
      },
      "id": "jm6kZUUQZIDx"
    },
    {
      "cell_type": "code",
      "execution_count": null,
      "id": "d2afff67",
      "metadata": {
        "id": "d2afff67",
        "outputId": "38dcec8d-1912-4b44-a83f-75d6019fdf23",
        "colab": {
          "base_uri": "https://localhost:8080/"
        }
      },
      "outputs": [
        {
          "output_type": "stream",
          "name": "stdout",
          "text": [
            "vb_3\n"
          ]
        }
      ],
      "source": [
        "print('vb_'+str(3))"
      ]
    },
    {
      "cell_type": "markdown",
      "id": "c46880f5",
      "metadata": {
        "id": "c46880f5"
      },
      "source": [
        "#### 숫자를 문자열로 바꾸고 + 로 연결함"
      ]
    },
    {
      "cell_type": "code",
      "execution_count": null,
      "id": "ebb5af48",
      "metadata": {
        "id": "ebb5af48",
        "outputId": "5494fbd6-147d-468d-f1d8-4370d5b4af4b",
        "colab": {
          "base_uri": "https://localhost:8080/"
        }
      },
      "outputs": [
        {
          "output_type": "stream",
          "name": "stdout",
          "text": [
            "Usage: thingy [OPTIONS]\n",
            "     -h                        Display this usage message\n",
            "     -H hostname               Hostname to connect to\n",
            "\n"
          ]
        }
      ],
      "source": [
        "print(\"\"\"\\\n",
        "Usage: thingy [OPTIONS]\n",
        "     -h                        Display this usage message\n",
        "     -H hostname               Hostname to connect to\n",
        "\"\"\")"
      ]
    },
    {
      "cell_type": "markdown",
      "id": "fc325c9d",
      "metadata": {
        "id": "fc325c9d"
      },
      "source": [
        "#### 긴 문자열을 나누어서 출력하는 것이 가능함"
      ]
    },
    {
      "cell_type": "code",
      "execution_count": null,
      "id": "2b41dfe3",
      "metadata": {
        "id": "2b41dfe3",
        "outputId": "e0811ebf-4f6d-4e9f-e641-ac0db25eb6da",
        "colab": {
          "base_uri": "https://localhost:8080/"
        }
      },
      "outputs": [
        {
          "output_type": "stream",
          "name": "stdout",
          "text": [
            "v\n"
          ]
        }
      ],
      "source": [
        "a='abv'\n",
        "print(a[2])"
      ]
    },
    {
      "cell_type": "markdown",
      "id": "23ecb4c1",
      "metadata": {
        "id": "23ecb4c1"
      },
      "source": [
        "#### 문자열을 받아서 첨자 단위로 막바로 구분, 2는 세번째 문자를 말함"
      ]
    },
    {
      "cell_type": "code",
      "execution_count": null,
      "id": "7eda5bc8",
      "metadata": {
        "id": "7eda5bc8",
        "outputId": "8a4a3a0d-c8b6-43c0-a5f1-7cc7c40125a3",
        "colab": {
          "base_uri": "https://localhost:8080/",
          "height": 236
        }
      },
      "outputs": [
        {
          "output_type": "stream",
          "name": "stdout",
          "text": [
            "ju\n",
            "r\n",
            "y\n",
            "p\n"
          ]
        },
        {
          "output_type": "error",
          "ename": "IndexError",
          "evalue": "string index out of range",
          "traceback": [
            "\u001b[0;31m---------------------------------------------------------------------------\u001b[0m",
            "\u001b[0;31mIndexError\u001b[0m                                Traceback (most recent call last)",
            "\u001b[0;32m<ipython-input-21-06c7b44cc03a>\u001b[0m in \u001b[0;36m<cell line: 6>\u001b[0;34m()\u001b[0m\n\u001b[1;32m      4\u001b[0m \u001b[0mprint\u001b[0m\u001b[0;34m(\u001b[0m\u001b[0mch\u001b[0m\u001b[0;34m[\u001b[0m\u001b[0;36m3\u001b[0m\u001b[0;34m:\u001b[0m\u001b[0;36m4\u001b[0m\u001b[0;34m]\u001b[0m\u001b[0;34m)\u001b[0m\u001b[0;34m\u001b[0m\u001b[0;34m\u001b[0m\u001b[0m\n\u001b[1;32m      5\u001b[0m \u001b[0mprint\u001b[0m\u001b[0;34m(\u001b[0m\u001b[0mch\u001b[0m\u001b[0;34m[\u001b[0m\u001b[0;34m-\u001b[0m\u001b[0;36m5\u001b[0m\u001b[0;34m]\u001b[0m\u001b[0;34m)\u001b[0m\u001b[0;34m\u001b[0m\u001b[0;34m\u001b[0m\u001b[0m\n\u001b[0;32m----> 6\u001b[0;31m \u001b[0mprint\u001b[0m\u001b[0;34m(\u001b[0m\u001b[0mch\u001b[0m\u001b[0;34m[\u001b[0m\u001b[0;36m7\u001b[0m\u001b[0;34m]\u001b[0m\u001b[0;34m)\u001b[0m\u001b[0;34m\u001b[0m\u001b[0;34m\u001b[0m\u001b[0m\n\u001b[0m",
            "\u001b[0;31mIndexError\u001b[0m: string index out of range"
          ]
        }
      ],
      "source": [
        "ch = 'jupyter'\n",
        "print(ch[0:2])\n",
        "print(ch[-1])\n",
        "print(ch[3:4])\n",
        "print(ch[-5])\n",
        "print(ch[7])"
      ]
    },
    {
      "cell_type": "markdown",
      "id": "7f1ad3c8",
      "metadata": {
        "id": "7f1ad3c8"
      },
      "source": [
        "#### 문자열의 위치를 잡아서 출력하게 함"
      ]
    },
    {
      "cell_type": "markdown",
      "id": "a148b640",
      "metadata": {
        "id": "a148b640"
      },
      "source": [
        "#### 음의 값들은 뒤로 순서를 붙이는 것으로 보면 됨"
      ]
    },
    {
      "cell_type": "markdown",
      "id": "d61a1f4e",
      "metadata": {
        "id": "d61a1f4e"
      },
      "source": [
        "#### 양수에서 첨자가 범위를 벗어나면 오류가 발생"
      ]
    },
    {
      "cell_type": "code",
      "execution_count": null,
      "id": "9d55c4c9",
      "metadata": {
        "id": "9d55c4c9",
        "outputId": "bce6e9d5-ff55-4bb5-e97d-d6c5933f7b4c",
        "colab": {
          "base_uri": "https://localhost:8080/",
          "height": 170
        }
      },
      "outputs": [
        {
          "output_type": "stream",
          "name": "stdout",
          "text": [
            "jupyter\n"
          ]
        },
        {
          "output_type": "error",
          "ename": "TypeError",
          "evalue": "'str' object does not support item assignment",
          "traceback": [
            "\u001b[0;31m---------------------------------------------------------------------------\u001b[0m",
            "\u001b[0;31mTypeError\u001b[0m                                 Traceback (most recent call last)",
            "\u001b[0;32m<ipython-input-24-6e371fdacc5f>\u001b[0m in \u001b[0;36m<cell line: 2>\u001b[0;34m()\u001b[0m\n\u001b[1;32m      1\u001b[0m \u001b[0mprint\u001b[0m\u001b[0;34m(\u001b[0m\u001b[0mch\u001b[0m\u001b[0;34m[\u001b[0m\u001b[0;36m0\u001b[0m\u001b[0;34m:\u001b[0m\u001b[0;34m]\u001b[0m\u001b[0;34m)\u001b[0m\u001b[0;34m\u001b[0m\u001b[0;34m\u001b[0m\u001b[0m\n\u001b[0;32m----> 2\u001b[0;31m \u001b[0mch\u001b[0m\u001b[0;34m[\u001b[0m\u001b[0;36m0\u001b[0m\u001b[0;34m:\u001b[0m\u001b[0;34m]\u001b[0m \u001b[0;34m=\u001b[0m \u001b[0;34m'L'\u001b[0m\u001b[0;34m\u001b[0m\u001b[0;34m\u001b[0m\u001b[0m\n\u001b[0m",
            "\u001b[0;31mTypeError\u001b[0m: 'str' object does not support item assignment"
          ]
        }
      ],
      "source": [
        "ch[0:] = 'L'"
      ]
    },
    {
      "cell_type": "markdown",
      "id": "7a3aea22",
      "metadata": {
        "id": "7a3aea22"
      },
      "source": [
        "#### 문자열에는 개별단위로 값을 집어 넣을 수가 없음"
      ]
    },
    {
      "cell_type": "code",
      "execution_count": null,
      "id": "464c3dee",
      "metadata": {
        "scrolled": true,
        "id": "464c3dee",
        "outputId": "42b414f1-c31d-4794-d5e0-368a424661bc"
      },
      "outputs": [
        {
          "name": "stdout",
          "output_type": "stream",
          "text": [
            "jupyter\n"
          ]
        }
      ],
      "source": [
        "print(ch[0:])"
      ]
    },
    {
      "cell_type": "markdown",
      "id": "400e6008",
      "metadata": {
        "id": "400e6008"
      },
      "source": [
        "#### 0 (첫번째 위치)부터 시작한 전체를 의미"
      ]
    },
    {
      "cell_type": "code",
      "execution_count": null,
      "id": "8522d042",
      "metadata": {
        "id": "8522d042",
        "outputId": "9236f215-503a-473b-c4b4-fdf73d4ffcb7",
        "colab": {
          "base_uri": "https://localhost:8080/"
        }
      },
      "outputs": [
        {
          "output_type": "stream",
          "name": "stdout",
          "text": [
            "ju\n"
          ]
        }
      ],
      "source": [
        "print(ch[:2])"
      ]
    },
    {
      "cell_type": "markdown",
      "id": "b4984229",
      "metadata": {
        "id": "b4984229"
      },
      "source": [
        "#### 처음부터 시작해서 두번째 위치까지 (0,1)"
      ]
    },
    {
      "cell_type": "code",
      "execution_count": null,
      "id": "e59d21e3",
      "metadata": {
        "id": "e59d21e3",
        "outputId": "7ec12e71-a10f-45f3-8b89-11f1d425d2cf",
        "colab": {
          "base_uri": "https://localhost:8080/"
        }
      },
      "outputs": [
        {
          "output_type": "stream",
          "name": "stdout",
          "text": [
            "[3, 4, 5, 2, 4]\n"
          ]
        }
      ],
      "source": [
        "v = [3,4,5]\n",
        "print(v+[2,4])"
      ]
    },
    {
      "cell_type": "markdown",
      "id": "9ade6537",
      "metadata": {
        "id": "9ade6537"
      },
      "source": [
        "#### 리스트 두 개에 대해서 + 는 원소별 합이 아니라 두 개를 합치는 것임"
      ]
    },
    {
      "cell_type": "code",
      "execution_count": null,
      "id": "502680df",
      "metadata": {
        "id": "502680df",
        "outputId": "e5e2f644-a6a5-4459-dad0-00dde415a121",
        "colab": {
          "base_uri": "https://localhost:8080/"
        }
      },
      "outputs": [
        {
          "output_type": "stream",
          "name": "stdout",
          "text": [
            "[3, 4, 5, 4, 4]\n"
          ]
        }
      ],
      "source": [
        "v.append(4)\n",
        "print(v)"
      ]
    },
    {
      "cell_type": "markdown",
      "id": "831b66cf",
      "metadata": {
        "id": "831b66cf"
      },
      "source": [
        "#### append 명령문을 통해서 끝에 하나의 값을 더 붙인 리스트를 만듬"
      ]
    },
    {
      "cell_type": "code",
      "execution_count": null,
      "id": "edc4442b",
      "metadata": {
        "scrolled": true,
        "id": "edc4442b",
        "outputId": "dbc08135-160e-4d20-953a-daaa3a824f58",
        "colab": {
          "base_uri": "https://localhost:8080/"
        }
      },
      "outputs": [
        {
          "output_type": "stream",
          "name": "stdout",
          "text": [
            "['d', 'D', 'f']\n"
          ]
        }
      ],
      "source": [
        "lt = ['d', 'e', 'f']\n",
        "lt[1] = 'D'\n",
        "print(lt)"
      ]
    },
    {
      "cell_type": "markdown",
      "id": "4366068f",
      "metadata": {
        "id": "4366068f"
      },
      "source": [
        "#### 원소 하나 하나를 문자로 지정하는 경우 값의 교체가 가능"
      ]
    },
    {
      "cell_type": "code",
      "execution_count": null,
      "id": "9e44f5e5",
      "metadata": {
        "id": "9e44f5e5",
        "outputId": "5bcfa104-a89e-401d-dce4-7c44a41d6471",
        "colab": {
          "base_uri": "https://localhost:8080/"
        }
      },
      "outputs": [
        {
          "output_type": "stream",
          "name": "stdout",
          "text": [
            "[['f', 'h', 'j'], [1, 2, 3]]\n",
            "['f', 'h', 'j']\n",
            "h\n"
          ]
        }
      ],
      "source": [
        "a = ['f', 'h', 'j']\n",
        "n = [1, 2, 3]\n",
        "x = [a, n]\n",
        "print(x)\n",
        "print(x[0])\n",
        "print(x[0][1])"
      ]
    },
    {
      "cell_type": "markdown",
      "id": "cc145092",
      "metadata": {
        "id": "cc145092"
      },
      "source": [
        "#### 두 개의 리스트를 합치는 것도 가능하며 이 경우 불러오는 방법은 첫번째 []를 이용, 다음 []로 원소를 불러옴"
      ]
    },
    {
      "cell_type": "code",
      "execution_count": null,
      "id": "088e07e5",
      "metadata": {
        "id": "088e07e5",
        "outputId": "3ecc390c-b678-48d0-9041-7bef6a60560a",
        "colab": {
          "base_uri": "https://localhost:8080/"
        }
      },
      "outputs": [
        {
          "output_type": "stream",
          "name": "stdout",
          "text": [
            "['f', [], 'j']\n",
            "['f', 'j']\n"
          ]
        }
      ],
      "source": [
        "x[0][1] = [] # 하나의 첨자\n",
        "print(x[0])\n",
        "x[0][1:2] =[] # 순열로 잡음\n",
        "print(x[0])"
      ]
    },
    {
      "cell_type": "markdown",
      "id": "535df843",
      "metadata": {
        "id": "535df843"
      },
      "source": [
        "#### 여기에서 첨자 하나로 잡은 것은 값만 바뀌지만, 순열을 잡은 것은 내용을 삭제하게 됨"
      ]
    },
    {
      "cell_type": "code",
      "execution_count": null,
      "id": "62368f3e",
      "metadata": {
        "id": "62368f3e",
        "outputId": "14d6e5db-b9ab-46b9-8482-d2f1ab9aa619",
        "colab": {
          "base_uri": "https://localhost:8080/"
        }
      },
      "outputs": [
        {
          "output_type": "stream",
          "name": "stdout",
          "text": [
            "Requirement already satisfied: numpy in /usr/local/lib/python3.10/dist-packages (1.25.2)\n",
            "(1, 1)\n"
          ]
        }
      ],
      "source": [
        "!python -m pip install numpy\n",
        "import numpy as np\n",
        "a = np.array([[9]])\n",
        "print(a.shape)"
      ]
    },
    {
      "cell_type": "code",
      "execution_count": null,
      "id": "bf6f9c8d",
      "metadata": {
        "id": "bf6f9c8d",
        "outputId": "974a63b3-467e-4d69-a44c-e1c099e5cb0a",
        "colab": {
          "base_uri": "https://localhost:8080/"
        }
      },
      "outputs": [
        {
          "output_type": "stream",
          "name": "stdout",
          "text": [
            "[2 3 4]\n",
            "[[2 3]\n",
            " [4 5]]\n",
            "(2, 2)\n"
          ]
        }
      ],
      "source": [
        "a = np.array([2,3,4])\n",
        "print(a)\n",
        "a = np.array([[2,3],[4,5]])\n",
        "print(a)\n",
        "print(a.shape)"
      ]
    },
    {
      "cell_type": "markdown",
      "id": "a96753bf",
      "metadata": {
        "id": "a96753bf"
      },
      "source": [
        "#### numpy 패키지를 사용 / a를 배열로 잡고 출력 / 2차원 배열 지정 및 데이터 형태 출력"
      ]
    },
    {
      "cell_type": "code",
      "execution_count": null,
      "id": "f11d33d1",
      "metadata": {
        "id": "f11d33d1",
        "outputId": "d966ac9f-8b96-43a1-e771-1d0e476ea0db",
        "colab": {
          "base_uri": "https://localhost:8080/"
        }
      },
      "outputs": [
        {
          "output_type": "stream",
          "name": "stdout",
          "text": [
            "[2 3]\n"
          ]
        }
      ],
      "source": [
        "print(a[0,0:2])"
      ]
    },
    {
      "cell_type": "code",
      "execution_count": null,
      "id": "3ec49296",
      "metadata": {
        "id": "3ec49296",
        "outputId": "331f770a-8b0a-43dd-8c74-82becd0e89ad",
        "colab": {
          "base_uri": "https://localhost:8080/"
        }
      },
      "outputs": [
        {
          "output_type": "stream",
          "name": "stdout",
          "text": [
            "[3 5]\n"
          ]
        }
      ],
      "source": [
        "print(a[0:2,1])"
      ]
    },
    {
      "cell_type": "markdown",
      "id": "9700bc7b",
      "metadata": {
        "id": "9700bc7b"
      },
      "source": [
        "#### 첨자를 지정해서 출력함"
      ]
    },
    {
      "cell_type": "code",
      "execution_count": null,
      "id": "b325cae2",
      "metadata": {
        "id": "b325cae2",
        "outputId": "8ec8f8f2-1442-4c3a-b009-f1cd29d7da75",
        "colab": {
          "base_uri": "https://localhost:8080/"
        }
      },
      "outputs": [
        {
          "output_type": "stream",
          "name": "stdout",
          "text": [
            "[2.         2.03448276 2.06896552 2.10344828 2.13793103 2.17241379\n",
            " 2.20689655 2.24137931 2.27586207 2.31034483 2.34482759 2.37931034\n",
            " 2.4137931  2.44827586 2.48275862 2.51724138 2.55172414 2.5862069\n",
            " 2.62068966 2.65517241 2.68965517 2.72413793 2.75862069 2.79310345\n",
            " 2.82758621 2.86206897 2.89655172 2.93103448 2.96551724 3.        ]\n",
            "[15 16 17 18 19 20 21 22 23 24 25 26 27 28 29]\n"
          ]
        }
      ],
      "source": [
        "a = np.linspace(2.0, 3.0, num=30)\n",
        "print(a)\n",
        "print(np.where(a>=2.5)[0])"
      ]
    },
    {
      "cell_type": "markdown",
      "id": "cb46495d",
      "metadata": {
        "id": "cb46495d"
      },
      "source": [
        "#### 2에서 3까지 30개의 등간격의 값들로 1차원 배열을 구성 / 배열 a에서 2.5 이상의 값을 가진 첨자를 반환"
      ]
    },
    {
      "cell_type": "code",
      "execution_count": null,
      "id": "09363882",
      "metadata": {
        "id": "09363882",
        "outputId": "3bb4b8c5-0ffb-4300-ee1c-febd2116f2b7",
        "colab": {
          "base_uri": "https://localhost:8080/"
        }
      },
      "outputs": [
        {
          "output_type": "stream",
          "name": "stdout",
          "text": [
            "[[2 3 4]\n",
            " [6 8 9]]\n",
            "(2, 2, 3)\n",
            "[6 8 9]\n"
          ]
        }
      ],
      "source": [
        "print(a[1])\n",
        "print(a.shape)\n",
        "print(a[1,1,:])a = np.array([[[2,3,4],[5,6,7]],[[2,3,4],[6,8,9]]])\n"
      ]
    },
    {
      "cell_type": "markdown",
      "id": "50a0674e",
      "metadata": {
        "id": "50a0674e"
      },
      "source": [
        "#### 3차원 배열을 지정, 첫 첨자가 1인 값과 차원 그리고 지정된 첨자의 값들을 보여줌"
      ]
    },
    {
      "cell_type": "code",
      "execution_count": null,
      "id": "ee0b85eb",
      "metadata": {
        "id": "ee0b85eb",
        "outputId": "bfb75279-523a-461b-c48c-54264f0e8814",
        "colab": {
          "base_uri": "https://localhost:8080/"
        }
      },
      "outputs": [
        {
          "output_type": "stream",
          "name": "stdout",
          "text": [
            "[0. 0.]\n",
            "[1. 1. 1. 1.]\n",
            "[[1. 1. 1.]\n",
            " [1. 1. 1.]]\n"
          ]
        }
      ],
      "source": [
        "print(np.zeros(2))\n",
        "print(np.ones(4))\n",
        "print(np.ones((2,3)))"
      ]
    },
    {
      "cell_type": "markdown",
      "id": "6c162a8c",
      "metadata": {
        "id": "6c162a8c"
      },
      "source": [
        "#### 모든 원소들의 값이 0이나 1인 배열을 만듬 / 2차원 배열도 가능"
      ]
    },
    {
      "cell_type": "code",
      "execution_count": null,
      "id": "b9dace63",
      "metadata": {
        "id": "b9dace63",
        "outputId": "25b36f24-dfec-4647-c751-7983bd7940c4",
        "colab": {
          "base_uri": "https://localhost:8080/"
        }
      },
      "outputs": [
        {
          "output_type": "stream",
          "name": "stdout",
          "text": [
            "[0 1 2 3]\n"
          ]
        }
      ],
      "source": [
        "a = np.array(range(4))\n",
        "print(a)\n",
        "a = np.array([3,5,2,6])"
      ]
    },
    {
      "cell_type": "markdown",
      "id": "5edf20f3",
      "metadata": {
        "id": "5edf20f3"
      },
      "source": [
        "#### range(4) = [0,1,2,3]을 배열로 입력"
      ]
    },
    {
      "cell_type": "code",
      "execution_count": null,
      "id": "b176f3b0",
      "metadata": {
        "id": "b176f3b0",
        "outputId": "1ba60792-5eb0-40f6-cc20-23c665618938",
        "colab": {
          "base_uri": "https://localhost:8080/"
        }
      },
      "outputs": [
        {
          "output_type": "execute_result",
          "data": {
            "text/plain": [
              "array([2, 3, 5, 6])"
            ]
          },
          "metadata": {},
          "execution_count": 47
        }
      ],
      "source": [
        "np.sort(a)"
      ]
    },
    {
      "cell_type": "markdown",
      "id": "b2dfb217",
      "metadata": {
        "id": "b2dfb217"
      },
      "source": [
        "#### a 에 입력된 값들을 순서대로 정렬하여 출력"
      ]
    },
    {
      "cell_type": "code",
      "execution_count": null,
      "id": "f69fb8da",
      "metadata": {
        "id": "f69fb8da",
        "outputId": "058fd479-583c-4083-eb44-257a681ce660",
        "colab": {
          "base_uri": "https://localhost:8080/"
        }
      },
      "outputs": [
        {
          "output_type": "stream",
          "name": "stdout",
          "text": [
            "[2 0 1 3]\n",
            "[2 3 5 6]\n"
          ]
        }
      ],
      "source": [
        "order = np.argsort(a)\n",
        "print(order)\n",
        "print(a[order])"
      ]
    },
    {
      "cell_type": "markdown",
      "id": "1d9be47c",
      "metadata": {
        "id": "1d9be47c"
      },
      "source": [
        "#### 작은순으로 해당 첨자를 불러오고 그 첨자로 재출력"
      ]
    },
    {
      "cell_type": "code",
      "execution_count": null,
      "id": "e3aa389b",
      "metadata": {
        "id": "e3aa389b",
        "outputId": "a63a6cf4-018f-48de-f36e-83ada2fe10a2",
        "colab": {
          "base_uri": "https://localhost:8080/"
        }
      },
      "outputs": [
        {
          "output_type": "stream",
          "name": "stdout",
          "text": [
            "[1. 1. 1. 2. 4. 6.]\n"
          ]
        }
      ],
      "source": [
        "a = np.ones(3)\n",
        "b = np.array([2,4,6])\n",
        "print(np.concatenate((a,b),axis=0))"
      ]
    },
    {
      "cell_type": "markdown",
      "id": "7c924bd1",
      "metadata": {
        "id": "7c924bd1"
      },
      "source": [
        "#### 두 개의 배열을 하나로 합침 / 벡터의 원소를 늘리는 방식임 (다차원 배열의 경우에는 별도의 규칙이 적용)"
      ]
    },
    {
      "cell_type": "code",
      "execution_count": null,
      "id": "65097046",
      "metadata": {
        "id": "65097046",
        "outputId": "e5101071-c5d7-46d9-ac35-4233c1d2757c",
        "colab": {
          "base_uri": "https://localhost:8080/"
        }
      },
      "outputs": [
        {
          "output_type": "stream",
          "name": "stdout",
          "text": [
            "(4,)\n",
            "(2, 2)\n"
          ]
        }
      ],
      "source": [
        "a = np.append(a,3)\n",
        "print(a.shape)\n",
        "a = np.reshape(a, (2,2))\n",
        "print(a.shape)\n",
        "b = np.array([[1,3],[3,4]])"
      ]
    },
    {
      "cell_type": "markdown",
      "id": "583adbfe",
      "metadata": {
        "id": "583adbfe"
      },
      "source": [
        "#### a의 원소를 네 개로 늘리고 2*2 배열로 전환 / b를 생성"
      ]
    },
    {
      "cell_type": "code",
      "execution_count": null,
      "id": "66f98837",
      "metadata": {
        "id": "66f98837",
        "outputId": "d0ecd8a7-6894-4c6e-b6ad-74d07a3cf13c",
        "colab": {
          "base_uri": "https://localhost:8080/"
        }
      },
      "outputs": [
        {
          "output_type": "stream",
          "name": "stdout",
          "text": [
            "[[1. 1.]\n",
            " [1. 3.]]\n",
            "[[1 3]\n",
            " [3 4]]\n",
            "[[1. 1.]\n",
            " [1. 3.]\n",
            " [1. 3.]\n",
            " [3. 4.]]\n",
            "[[1. 1. 1. 3.]\n",
            " [1. 3. 3. 4.]]\n"
          ]
        }
      ],
      "source": [
        "print(a)\n",
        "print(b)\n",
        "print(np.concatenate((a,b),axis=0))\n",
        "print(np.concatenate((a,b),axis=1))"
      ]
    },
    {
      "cell_type": "markdown",
      "id": "a361bfbb",
      "metadata": {
        "id": "a361bfbb"
      },
      "source": [
        "#### 행을 늘려 붙이는 방법 / 열을 늘려 붙이는 방법 (axis=1)"
      ]
    },
    {
      "cell_type": "code",
      "execution_count": null,
      "id": "8aaa45e6",
      "metadata": {
        "id": "8aaa45e6",
        "outputId": "85c8ee34-0b89-476b-f4b5-2922b5b6feaa",
        "colab": {
          "base_uri": "https://localhost:8080/"
        }
      },
      "outputs": [
        {
          "output_type": "stream",
          "name": "stdout",
          "text": [
            "2\n",
            "8\n",
            "(2, 4)\n"
          ]
        }
      ],
      "source": [
        "v = np.concatenate((a,b),axis=1)\n",
        "print(v.ndim)\n",
        "print(v.size)\n",
        "print(v.shape)"
      ]
    },
    {
      "cell_type": "markdown",
      "id": "3eddd685",
      "metadata": {
        "id": "3eddd685"
      },
      "source": [
        "\n",
        "#### 차원의 개수 / 원소의 개수 / 차원 벡터"
      ]
    },
    {
      "cell_type": "code",
      "execution_count": null,
      "id": "b8d3ed86",
      "metadata": {
        "id": "b8d3ed86",
        "outputId": "949fa9ce-ae84-462d-9762-5e5f5838ac34",
        "colab": {
          "base_uri": "https://localhost:8080/"
        }
      },
      "outputs": [
        {
          "output_type": "stream",
          "name": "stdout",
          "text": [
            "(3,)\n",
            "(3,)\n"
          ]
        }
      ],
      "source": [
        "v = np.array([3,4,5])\n",
        "print(v.shape)\n",
        "vv = np.array([[3],[4],[5]])\n",
        "print(v.shape)"
      ]
    },
    {
      "cell_type": "markdown",
      "id": "6fe7a238",
      "metadata": {
        "id": "6fe7a238"
      },
      "source": [
        "#### 차원을 확인함 / 배열의 차원은 [ ]에 의존"
      ]
    },
    {
      "cell_type": "code",
      "execution_count": null,
      "id": "0377ca10",
      "metadata": {
        "id": "0377ca10",
        "outputId": "29a85921-8a45-4ff1-d3b1-827c933973f1",
        "colab": {
          "base_uri": "https://localhost:8080/"
        }
      },
      "outputs": [
        {
          "output_type": "stream",
          "name": "stdout",
          "text": [
            "(1, 3)\n",
            "(3, 1)\n"
          ]
        }
      ],
      "source": [
        "vvv = v[np.newaxis,:]\n",
        "print(vvv.shape)\n",
        "vvv = v[:,np.newaxis]\n",
        "print(vvv.shape)"
      ]
    },
    {
      "cell_type": "markdown",
      "id": "75b62434",
      "metadata": {
        "id": "75b62434"
      },
      "source": [
        "#### 특별한 명령문을 통해서 차원을 늘림"
      ]
    },
    {
      "cell_type": "code",
      "execution_count": null,
      "id": "5f54bb64",
      "metadata": {
        "id": "5f54bb64",
        "outputId": "952ba3c3-0f28-44e6-de94-745b0e131360",
        "colab": {
          "base_uri": "https://localhost:8080/"
        }
      },
      "outputs": [
        {
          "output_type": "stream",
          "name": "stdout",
          "text": [
            "[[0 2 4]\n",
            " [1 3 5]]\n",
            "[[0 1 2]\n",
            " [3 4 5]]\n"
          ]
        }
      ],
      "source": [
        "h = np.array(range(6))\n",
        "print(np.reshape(h, (2,3), order='F'))\n",
        "print(np.reshape(h, (2,3), order='C'))"
      ]
    },
    {
      "cell_type": "markdown",
      "id": "4b5bde62",
      "metadata": {
        "id": "4b5bde62"
      },
      "source": [
        "#### 차원을 바꿀때 행이나 열단위 지정을 하는 옵션"
      ]
    },
    {
      "cell_type": "code",
      "execution_count": null,
      "id": "1777a2d4",
      "metadata": {
        "id": "1777a2d4",
        "outputId": "dc8d9f6c-0a4e-4412-d4f6-044a232944af",
        "colab": {
          "base_uri": "https://localhost:8080/"
        }
      },
      "outputs": [
        {
          "output_type": "stream",
          "name": "stdout",
          "text": [
            "[[1 2 3 4]\n",
            " [5 6 7 8]\n",
            " [3 5 7 9]]\n",
            "[1 2 3 3]\n"
          ]
        }
      ],
      "source": [
        "aa = np.array([[1,2,3,4],[5,6,7,8],[3,5,7,9]])\n",
        "print(aa)\n",
        "print(aa[aa<4])"
      ]
    },
    {
      "cell_type": "markdown",
      "id": "20cdac69",
      "metadata": {
        "id": "20cdac69"
      },
      "source": [
        "#### 배열에서 특정 조건을 만족하는 원소를 찾음 / 배열구조는 깨짐"
      ]
    },
    {
      "cell_type": "code",
      "execution_count": null,
      "id": "9418e530",
      "metadata": {
        "id": "9418e530",
        "outputId": "a1334ac3-1487-437c-e657-df7c51dd6ead",
        "colab": {
          "base_uri": "https://localhost:8080/"
        }
      },
      "outputs": [
        {
          "output_type": "execute_result",
          "data": {
            "text/plain": [
              "array([[False, False, False,  True],\n",
              "       [False, False, False, False],\n",
              "       [False, False, False, False]])"
            ]
          },
          "metadata": {},
          "execution_count": 59
        }
      ],
      "source": [
        "(aa > 3) & (aa < 5)"
      ]
    },
    {
      "cell_type": "markdown",
      "id": "49245d83",
      "metadata": {
        "id": "49245d83"
      },
      "source": [
        "#### 논리형으로 3보다 크고 5보다 작은 위치를 T, F로 표시"
      ]
    },
    {
      "cell_type": "code",
      "execution_count": null,
      "id": "4333699e",
      "metadata": {
        "id": "4333699e",
        "outputId": "a47fcbe0-7af1-4cf8-8a09-e1b61dd34683",
        "colab": {
          "base_uri": "https://localhost:8080/"
        }
      },
      "outputs": [
        {
          "output_type": "stream",
          "name": "stdout",
          "text": [
            "[[2 3]\n",
            " [1 2]\n",
            " [1 4]\n",
            " [2 6]]\n",
            "[[2 3 1 4]\n",
            " [1 2 2 6]]\n"
          ]
        }
      ],
      "source": [
        "a = np.array([[2,3],[1,2]])\n",
        "b = np.array([[1,4],[2,6]])\n",
        "c = np.vstack([a,b])\n",
        "print(c)\n",
        "print(np.hstack([a,b]))"
      ]
    },
    {
      "cell_type": "markdown",
      "id": "4721b3b3",
      "metadata": {
        "id": "4721b3b3"
      },
      "source": [
        "#### 두개의 배열을 행으로 쌓거나 열로 쌓는 함수"
      ]
    },
    {
      "cell_type": "code",
      "execution_count": null,
      "id": "4bf29add",
      "metadata": {
        "id": "4bf29add",
        "outputId": "18f39c50-f3f6-4858-c8a8-604b51580df2",
        "colab": {
          "base_uri": "https://localhost:8080/"
        }
      },
      "outputs": [
        {
          "output_type": "stream",
          "name": "stdout",
          "text": [
            "[[ 0  1  2  3  4  5]\n",
            " [ 6  7  8  9 10 11]\n",
            " [12 13 14 15 16 17]\n",
            " [18 19 20 21 22 23]\n",
            " [24 25 26 27 28 29]]\n",
            "[array([[ 0,  1,  2],\n",
            "       [ 6,  7,  8],\n",
            "       [12, 13, 14],\n",
            "       [18, 19, 20],\n",
            "       [24, 25, 26]]), array([[ 3,  4,  5],\n",
            "       [ 9, 10, 11],\n",
            "       [15, 16, 17],\n",
            "       [21, 22, 23],\n",
            "       [27, 28, 29]])]\n",
            "[[ 0  1  2]\n",
            " [ 6  7  8]\n",
            " [12 13 14]\n",
            " [18 19 20]\n",
            " [24 25 26]]\n"
          ]
        }
      ],
      "source": [
        "cc = np.arange(30).reshape(5,6)\n",
        "print(cc)\n",
        "nn = np.hsplit(cc,2)\n",
        "print(nn)\n",
        "print(nn[0])"
      ]
    },
    {
      "cell_type": "markdown",
      "id": "0555b69a",
      "metadata": {
        "id": "0555b69a"
      },
      "source": [
        "#### 0부터 29까지의 수열을 5*6 배열로 전환 / 열로 두 개로 쪼개서 저장함 - 리스트로 저장됨에 유의"
      ]
    },
    {
      "cell_type": "code",
      "execution_count": null,
      "id": "f6b85e72",
      "metadata": {
        "id": "f6b85e72",
        "outputId": "a180e329-9bf5-44dd-f0da-730fcdee7357",
        "colab": {
          "base_uri": "https://localhost:8080/",
          "height": 170
        }
      },
      "outputs": [
        {
          "output_type": "stream",
          "name": "stdout",
          "text": [
            "(5, 6)\n"
          ]
        },
        {
          "output_type": "error",
          "ename": "AttributeError",
          "evalue": "'list' object has no attribute 'shape'",
          "traceback": [
            "\u001b[0;31m---------------------------------------------------------------------------\u001b[0m",
            "\u001b[0;31mAttributeError\u001b[0m                            Traceback (most recent call last)",
            "\u001b[0;32m<ipython-input-62-1063360e76ee>\u001b[0m in \u001b[0;36m<cell line: 2>\u001b[0;34m()\u001b[0m\n\u001b[1;32m      1\u001b[0m \u001b[0mprint\u001b[0m\u001b[0;34m(\u001b[0m\u001b[0mcc\u001b[0m\u001b[0;34m.\u001b[0m\u001b[0mshape\u001b[0m\u001b[0;34m)\u001b[0m\u001b[0;34m\u001b[0m\u001b[0;34m\u001b[0m\u001b[0m\n\u001b[0;32m----> 2\u001b[0;31m \u001b[0mprint\u001b[0m\u001b[0;34m(\u001b[0m\u001b[0mnn\u001b[0m\u001b[0;34m.\u001b[0m\u001b[0mshape\u001b[0m\u001b[0;34m)\u001b[0m\u001b[0;34m\u001b[0m\u001b[0;34m\u001b[0m\u001b[0m\n\u001b[0m",
            "\u001b[0;31mAttributeError\u001b[0m: 'list' object has no attribute 'shape'"
          ]
        }
      ],
      "source": [
        "print(cc.shape)\n",
        "print(nn.shape)"
      ]
    },
    {
      "cell_type": "markdown",
      "id": "cdca8431",
      "metadata": {
        "id": "cdca8431"
      },
      "source": [
        "#### numpy 배열은 shape이 지정되지만 list는 지정되지 않음"
      ]
    },
    {
      "cell_type": "code",
      "execution_count": null,
      "id": "bc1ea1cd",
      "metadata": {
        "id": "bc1ea1cd",
        "outputId": "956e555f-1453-45f6-8e72-62aa348aa5fb",
        "colab": {
          "base_uri": "https://localhost:8080/"
        }
      },
      "outputs": [
        {
          "output_type": "stream",
          "name": "stdout",
          "text": [
            "[3. 4.]\n",
            "[2. 3.]\n",
            "[0.5        0.33333333]\n"
          ]
        }
      ],
      "source": [
        "a = np.ones(2, dtype='int')\n",
        "b = np.array([2.0,3])\n",
        "print(a+b)\n",
        "print(a*b)\n",
        "print(a/b)"
      ]
    },
    {
      "cell_type": "markdown",
      "id": "43cd5338",
      "metadata": {
        "id": "43cd5338"
      },
      "source": [
        "#### 모든 원소가 1인 배열을 정수형으로 지정, 다음 배열은 실수형임 / 모든 연산의 결과를 실수형임"
      ]
    },
    {
      "cell_type": "code",
      "execution_count": null,
      "id": "353e514e",
      "metadata": {
        "id": "353e514e",
        "outputId": "34b0c9fe-4cc1-4c0b-a451-b8d4aa42091f",
        "colab": {
          "base_uri": "https://localhost:8080/"
        }
      },
      "outputs": [
        {
          "output_type": "stream",
          "name": "stdout",
          "text": [
            "[[1. 1.]\n",
            " [2. 3.]]\n"
          ]
        }
      ],
      "source": [
        "c = np.vstack([a,b])\n",
        "print(c)"
      ]
    },
    {
      "cell_type": "markdown",
      "id": "e8f3f40e",
      "metadata": {
        "id": "e8f3f40e"
      },
      "source": [
        "#### 배열 두 개를 수직방향으로 쌓음"
      ]
    },
    {
      "cell_type": "code",
      "execution_count": null,
      "id": "97b86383",
      "metadata": {
        "id": "97b86383",
        "outputId": "e9b3db52-b6a5-414c-d59a-4f62c28503c2",
        "colab": {
          "base_uri": "https://localhost:8080/"
        }
      },
      "outputs": [
        {
          "output_type": "execute_result",
          "data": {
            "text/plain": [
              "7.0"
            ]
          },
          "metadata": {},
          "execution_count": 65
        }
      ],
      "source": [
        "c.sum()"
      ]
    },
    {
      "cell_type": "markdown",
      "id": "55329a35",
      "metadata": {
        "id": "55329a35"
      },
      "source": [
        "#### 모든 원소의 합은 7"
      ]
    },
    {
      "cell_type": "code",
      "execution_count": null,
      "id": "9ce151cc",
      "metadata": {
        "id": "9ce151cc",
        "outputId": "b5a0a76e-f8ad-4dee-b5c9-47bf4aef2005",
        "colab": {
          "base_uri": "https://localhost:8080/"
        }
      },
      "outputs": [
        {
          "output_type": "stream",
          "name": "stdout",
          "text": [
            "[3. 4.]\n",
            "[2. 5.]\n"
          ]
        }
      ],
      "source": [
        "print(np.sum(c,axis=0))\n",
        "print(np.sum(c,axis=1))"
      ]
    },
    {
      "cell_type": "markdown",
      "id": "a2cf9ecf",
      "metadata": {
        "id": "a2cf9ecf"
      },
      "source": [
        "#### axis는 연산을 수행하는 축"
      ]
    },
    {
      "cell_type": "code",
      "execution_count": null,
      "id": "9b3cfab5",
      "metadata": {
        "id": "9b3cfab5",
        "outputId": "58028767-0f59-4683-8b26-542e28876709",
        "colab": {
          "base_uri": "https://localhost:8080/"
        }
      },
      "outputs": [
        {
          "output_type": "stream",
          "name": "stdout",
          "text": [
            "[2. 3.]\n",
            "[1. 3.]\n"
          ]
        }
      ],
      "source": [
        "print(np.max(c,axis=0))\n",
        "print(np.max(c,axis=1))"
      ]
    },
    {
      "cell_type": "markdown",
      "id": "4d01458f",
      "metadata": {
        "id": "4d01458f"
      },
      "source": [
        "#### 열단위 최댓값과 행단위 최댓값"
      ]
    },
    {
      "cell_type": "code",
      "execution_count": null,
      "id": "67fc18a8",
      "metadata": {
        "id": "67fc18a8",
        "outputId": "beb4c888-4933-4101-f49f-73be4b9db3f3",
        "colab": {
          "base_uri": "https://localhost:8080/"
        }
      },
      "outputs": [
        {
          "output_type": "stream",
          "name": "stdout",
          "text": [
            "[[1.5 2.5]\n",
            " [2.5 4.5]]\n"
          ]
        }
      ],
      "source": [
        "c = np.array([[[1,2],[1,4]],[[2,3],[4,5]]])\n",
        "print(np.mean(c,axis=0))"
      ]
    },
    {
      "cell_type": "markdown",
      "id": "7bae2ed4",
      "metadata": {
        "id": "7bae2ed4"
      },
      "source": [
        "#### 첫번째 첨자 단위로 평균을 계산 (나머지 2차원 첨자로 출력)"
      ]
    },
    {
      "cell_type": "code",
      "execution_count": null,
      "id": "5992764f",
      "metadata": {
        "scrolled": true,
        "id": "5992764f",
        "outputId": "16dd03c6-9e5e-43bc-b494-dccc176fcbd1",
        "colab": {
          "base_uri": "https://localhost:8080/"
        }
      },
      "outputs": [
        {
          "output_type": "stream",
          "name": "stdout",
          "text": [
            "[2.  3.5]\n"
          ]
        }
      ],
      "source": [
        "print(np.mean(c,axis=(0,1)))"
      ]
    },
    {
      "cell_type": "markdown",
      "id": "1751925a",
      "metadata": {
        "id": "1751925a"
      },
      "source": [
        "#### 첫번째와 두번째 첨자에 있는 모든 원소로 연산"
      ]
    },
    {
      "cell_type": "code",
      "execution_count": null,
      "id": "c3bf6d36",
      "metadata": {
        "id": "c3bf6d36",
        "outputId": "179bd35d-2e11-4abc-9a1f-5678fe2917e1",
        "colab": {
          "base_uri": "https://localhost:8080/"
        }
      },
      "outputs": [
        {
          "output_type": "stream",
          "name": "stdout",
          "text": [
            "[[[2. 2. 2. 2.]\n",
            "  [2. 2. 2. 2.]\n",
            "  [2. 2. 2. 2.]]\n",
            "\n",
            " [[2. 2. 2. 2.]\n",
            "  [2. 2. 2. 2.]\n",
            "  [2. 2. 2. 2.]]]\n"
          ]
        }
      ],
      "source": [
        "v = np.ones((2,3,4))*2\n",
        "print(v)"
      ]
    },
    {
      "cell_type": "markdown",
      "id": "0fc00bce",
      "metadata": {
        "id": "0fc00bce"
      },
      "source": [
        "#### 배열로 차원을 3차원으로 잡음"
      ]
    },
    {
      "cell_type": "code",
      "execution_count": null,
      "id": "bd6afd7d",
      "metadata": {
        "id": "bd6afd7d",
        "outputId": "99001fb1-2372-4328-dff8-aaf6db2e6950",
        "colab": {
          "base_uri": "https://localhost:8080/"
        }
      },
      "outputs": [
        {
          "output_type": "execute_result",
          "data": {
            "text/plain": [
              "array([0.72769406, 0.24716828, 0.97481047, 0.73675585])"
            ]
          },
          "metadata": {},
          "execution_count": 71
        }
      ],
      "source": [
        "a = np.random.default_rng()\n",
        "a.random(4)"
      ]
    },
    {
      "cell_type": "markdown",
      "id": "6584f268",
      "metadata": {
        "id": "6584f268"
      },
      "source": [
        "#### 4개의 난수를 생성함"
      ]
    },
    {
      "cell_type": "code",
      "execution_count": null,
      "id": "654a58f8",
      "metadata": {
        "id": "654a58f8",
        "outputId": "157a520b-f7df-4845-b5dd-514f37a00e83",
        "colab": {
          "base_uri": "https://localhost:8080/"
        }
      },
      "outputs": [
        {
          "output_type": "execute_result",
          "data": {
            "text/plain": [
              "array([[0.90161925, 0.27815814, 0.04665982, 0.84746112, 0.42222611],\n",
              "       [0.1827799 , 0.05236477, 0.05309317, 0.40739973, 0.52122631],\n",
              "       [0.3035209 , 0.57839029, 0.01470269, 0.09367125, 0.94705791]])"
            ]
          },
          "metadata": {},
          "execution_count": 72
        }
      ],
      "source": [
        "a.random((3,5))"
      ]
    },
    {
      "cell_type": "markdown",
      "id": "4c7600b4",
      "metadata": {
        "id": "4c7600b4"
      },
      "source": [
        "#### 3*5 배열의 난수를 생성"
      ]
    },
    {
      "cell_type": "code",
      "execution_count": null,
      "id": "bd01b55e",
      "metadata": {
        "scrolled": true,
        "id": "bd01b55e",
        "outputId": "8f7d33a2-bc5e-44b7-bfae-5942497a9a09",
        "colab": {
          "base_uri": "https://localhost:8080/"
        }
      },
      "outputs": [
        {
          "output_type": "stream",
          "name": "stdout",
          "text": [
            "[2 3 4 5]\n",
            "[2 2 2 1]\n"
          ]
        }
      ],
      "source": [
        "a = np.array([2,4,2,3,5,3,4])\n",
        "v, pt = np.unique(a, return_counts =True)\n",
        "print(v)\n",
        "print(pt)"
      ]
    },
    {
      "cell_type": "markdown",
      "id": "f21aee70",
      "metadata": {
        "id": "f21aee70"
      },
      "source": [
        "#### 배열 a에 있는 구별되는 값들과 그 갯수를 반환"
      ]
    },
    {
      "cell_type": "code",
      "execution_count": null,
      "id": "07cc1b55",
      "metadata": {
        "id": "07cc1b55",
        "outputId": "2d415959-e9e4-40e2-b527-69e301e82bdd",
        "colab": {
          "base_uri": "https://localhost:8080/"
        }
      },
      "outputs": [
        {
          "output_type": "stream",
          "name": "stdout",
          "text": [
            "[[2 3]\n",
            " [4 5]]\n",
            "[0 1]\n",
            "[2 3 4 5]\n"
          ]
        }
      ],
      "source": [
        "ss = np.array([[2,3],[4,5],[2,3]])\n",
        "v, l = np.unique(ss,axis=0,return_index=True)\n",
        "print(v)\n",
        "print(l)\n",
        "print(np.unique(ss))"
      ]
    },
    {
      "cell_type": "markdown",
      "id": "168b9858",
      "metadata": {
        "id": "168b9858"
      },
      "source": [
        "#### 이차원 배열에서 행들의 유일성을 살펴보거나 원소들의 유일성을 살펴봄\n",
        "\n",
        "\n"
      ]
    },
    {
      "cell_type": "code",
      "execution_count": null,
      "id": "02fb1e9c",
      "metadata": {
        "id": "02fb1e9c",
        "outputId": "6fca09ba-f761-4900-8c3d-f47a1c0d1a2b",
        "colab": {
          "base_uri": "https://localhost:8080/"
        }
      },
      "outputs": [
        {
          "output_type": "stream",
          "name": "stdout",
          "text": [
            "[[6 4]\n",
            " [3 2]]\n",
            "[[3 2]\n",
            " [6 4]]\n",
            "[[4 6]\n",
            " [2 3]]\n"
          ]
        }
      ],
      "source": [
        "a = np.array([[2,3],[4,6]])\n",
        "print(np.flip(a))\n",
        "print(np.flip(a,axis=1))\n",
        "print(np.flip(a,axis=0))"
      ]
    },
    {
      "cell_type": "markdown",
      "id": "e78762a9",
      "metadata": {
        "id": "e78762a9"
      },
      "source": [
        "#### 순서를 바꿀때 축 단위로 지정해서 하는 것이 가능함"
      ]
    }
  ],
  "metadata": {
    "kernelspec": {
      "display_name": "Python 3 (ipykernel)",
      "language": "python",
      "name": "python3"
    },
    "language_info": {
      "codemirror_mode": {
        "name": "ipython",
        "version": 3
      },
      "file_extension": ".py",
      "mimetype": "text/x-python",
      "name": "python",
      "nbconvert_exporter": "python",
      "pygments_lexer": "ipython3",
      "version": "3.11.2"
    },
    "colab": {
      "provenance": []
    }
  },
  "nbformat": 4,
  "nbformat_minor": 5
}