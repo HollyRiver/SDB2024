{
 "cells": [
  {
   "cell_type": "markdown",
   "id": "dc8c8402-dab1-452c-ad5e-63768edfb7a0",
   "metadata": {},
   "source": [
    "## 1. library imports"
   ]
  },
  {
   "cell_type": "code",
   "execution_count": 2,
   "id": "d200ca92-9db4-4921-abaf-540220a11580",
   "metadata": {},
   "outputs": [],
   "source": [
    "import pandas as pd\n",
    "import numpy as np\n",
    "import matplotlib.pyplot as plt\n",
    "import seaborn as sns"
   ]
  },
  {
   "cell_type": "markdown",
   "id": "6dcf7a23-e847-4df6-8873-aa95d19367ea",
   "metadata": {},
   "source": [
    "## 2. `DataFrame()`"
   ]
  },
  {
   "cell_type": "code",
   "execution_count": 4,
   "id": "e959b549-3a46-4d57-aa07-807a4729bc0c",
   "metadata": {},
   "outputs": [
    {
     "name": "stdout",
     "output_type": "stream",
     "text": [
      "  c1 c2\n",
      "A  2  a\n",
      "B  3  b\n"
     ]
    }
   ],
   "source": [
    "pd1 = pd.DataFrame({'c1' : ['2', '3'], 'c2' : ['a', 'b']}, index = ['A', 'B'])  ## dictionary\n",
    "print(pd1)"
   ]
  },
  {
   "cell_type": "code",
   "execution_count": 7,
   "id": "84cf6057-c956-4084-91b3-622a03263354",
   "metadata": {},
   "outputs": [
    {
     "data": {
      "image/png": "[encoded data removed]",
      "text/plain": [
       "<Figure size 640x480 with 1 Axes>"
      ]
     },
     "metadata": {},
     "output_type": "display_data"
    }
   ],
   "source": [
    "pd1 = pd.DataFrame({'c1':[2,3], 'c2':[3,4]})\n",
    "plt.plot(pd1)\n",
    "plt.show()"
   ]
  },
  {
   "cell_type": "markdown",
   "id": "d50f7015-1913-4e08-81c3-20dcf6579feb",
   "metadata": {},
   "source": [
    "> matplotlib가 애초에 딕셔너리로 나눠서 이렇게 될걸?"
   ]
  },
  {
   "cell_type": "code",
   "execution_count": 66,
   "id": "faa0dcc2-b74a-4b70-bae7-95bdb16f675b",
   "metadata": {},
   "outputs": [
    {
     "data": {
      "text/html": [
       "<div>\n",
       "<style scoped>\n",
       "    .dataframe tbody tr th:only-of-type {\n",
       "        vertical-align: middle;\n",
       "    }\n",
       "\n",
       "    .dataframe tbody tr th {\n",
       "        vertical-align: top;\n",
       "    }\n",
       "\n",
       "    .dataframe thead th {\n",
       "        text-align: right;\n",
       "    }\n",
       "</style>\n",
       "<table border=\"1\" class=\"dataframe\">\n",
       "  <thead>\n",
       "    <tr style=\"text-align: right;\">\n",
       "      <th></th>\n",
       "      <th>Manufacturer</th>\n",
       "      <th>Model</th>\n",
       "      <th>Type</th>\n",
       "      <th>Min.Price</th>\n",
       "      <th>Price</th>\n",
       "      <th>Max.Price</th>\n",
       "      <th>MPG.city</th>\n",
       "      <th>MPG.highway</th>\n",
       "      <th>AirBags</th>\n",
       "      <th>DriveTrain</th>\n",
       "      <th>...</th>\n",
       "      <th>Passengers</th>\n",
       "      <th>Length</th>\n",
       "      <th>Wheelbase</th>\n",
       "      <th>Width</th>\n",
       "      <th>Turn.circle</th>\n",
       "      <th>Rear.seat.room</th>\n",
       "      <th>Luggage.room</th>\n",
       "      <th>Weight</th>\n",
       "      <th>Origin</th>\n",
       "      <th>Make</th>\n",
       "    </tr>\n",
       "  </thead>\n",
       "  <tbody>\n",
       "    <tr>\n",
       "      <th>0</th>\n",
       "      <td>Acura</td>\n",
       "      <td>Integra</td>\n",
       "      <td>Small</td>\n",
       "      <td>12.9</td>\n",
       "      <td>15.9</td>\n",
       "      <td>18.8</td>\n",
       "      <td>25</td>\n",
       "      <td>31</td>\n",
       "      <td>None</td>\n",
       "      <td>Front</td>\n",
       "      <td>...</td>\n",
       "      <td>5</td>\n",
       "      <td>177</td>\n",
       "      <td>102</td>\n",
       "      <td>68</td>\n",
       "      <td>37</td>\n",
       "      <td>26.5</td>\n",
       "      <td>11.0</td>\n",
       "      <td>2705</td>\n",
       "      <td>non-USA</td>\n",
       "      <td>Acura Integra</td>\n",
       "    </tr>\n",
       "    <tr>\n",
       "      <th>1</th>\n",
       "      <td>Acura</td>\n",
       "      <td>Legend</td>\n",
       "      <td>Midsize</td>\n",
       "      <td>29.2</td>\n",
       "      <td>33.9</td>\n",
       "      <td>38.7</td>\n",
       "      <td>18</td>\n",
       "      <td>25</td>\n",
       "      <td>Driver &amp; Passenger</td>\n",
       "      <td>Front</td>\n",
       "      <td>...</td>\n",
       "      <td>5</td>\n",
       "      <td>195</td>\n",
       "      <td>115</td>\n",
       "      <td>71</td>\n",
       "      <td>38</td>\n",
       "      <td>30.0</td>\n",
       "      <td>15.0</td>\n",
       "      <td>3560</td>\n",
       "      <td>non-USA</td>\n",
       "      <td>Acura Legend</td>\n",
       "    </tr>\n",
       "    <tr>\n",
       "      <th>2</th>\n",
       "      <td>Audi</td>\n",
       "      <td>90</td>\n",
       "      <td>Compact</td>\n",
       "      <td>25.9</td>\n",
       "      <td>29.1</td>\n",
       "      <td>32.3</td>\n",
       "      <td>20</td>\n",
       "      <td>26</td>\n",
       "      <td>Driver only</td>\n",
       "      <td>Front</td>\n",
       "      <td>...</td>\n",
       "      <td>5</td>\n",
       "      <td>180</td>\n",
       "      <td>102</td>\n",
       "      <td>67</td>\n",
       "      <td>37</td>\n",
       "      <td>28.0</td>\n",
       "      <td>14.0</td>\n",
       "      <td>3375</td>\n",
       "      <td>non-USA</td>\n",
       "      <td>Audi 90</td>\n",
       "    </tr>\n",
       "    <tr>\n",
       "      <th>3</th>\n",
       "      <td>Audi</td>\n",
       "      <td>100</td>\n",
       "      <td>Midsize</td>\n",
       "      <td>30.8</td>\n",
       "      <td>37.7</td>\n",
       "      <td>44.6</td>\n",
       "      <td>19</td>\n",
       "      <td>26</td>\n",
       "      <td>Driver &amp; Passenger</td>\n",
       "      <td>Front</td>\n",
       "      <td>...</td>\n",
       "      <td>6</td>\n",
       "      <td>193</td>\n",
       "      <td>106</td>\n",
       "      <td>70</td>\n",
       "      <td>37</td>\n",
       "      <td>31.0</td>\n",
       "      <td>17.0</td>\n",
       "      <td>3405</td>\n",
       "      <td>non-USA</td>\n",
       "      <td>Audi 100</td>\n",
       "    </tr>\n",
       "    <tr>\n",
       "      <th>4</th>\n",
       "      <td>BMW</td>\n",
       "      <td>535i</td>\n",
       "      <td>Midsize</td>\n",
       "      <td>23.7</td>\n",
       "      <td>30.0</td>\n",
       "      <td>36.2</td>\n",
       "      <td>22</td>\n",
       "      <td>30</td>\n",
       "      <td>Driver only</td>\n",
       "      <td>Rear</td>\n",
       "      <td>...</td>\n",
       "      <td>4</td>\n",
       "      <td>186</td>\n",
       "      <td>109</td>\n",
       "      <td>69</td>\n",
       "      <td>39</td>\n",
       "      <td>27.0</td>\n",
       "      <td>13.0</td>\n",
       "      <td>3640</td>\n",
       "      <td>non-USA</td>\n",
       "      <td>BMW 535i</td>\n",
       "    </tr>\n",
       "  </tbody>\n",
       "</table>\n",
       "<p>5 rows × 27 columns</p>\n",
       "</div>"
      ],
      "text/plain": [
       "  Manufacturer    Model     Type  Min.Price  Price  Max.Price  MPG.city  \\\n",
       "0        Acura  Integra    Small       12.9   15.9       18.8        25   \n",
       "1        Acura   Legend  Midsize       29.2   33.9       38.7        18   \n",
       "2         Audi       90  Compact       25.9   29.1       32.3        20   \n",
       "3         Audi      100  Midsize       30.8   37.7       44.6        19   \n",
       "4          BMW     535i  Midsize       23.7   30.0       36.2        22   \n",
       "\n",
       "   MPG.highway             AirBags DriveTrain  ... Passengers  Length  \\\n",
       "0           31                None      Front  ...          5     177   \n",
       "1           25  Driver & Passenger      Front  ...          5     195   \n",
       "2           26         Driver only      Front  ...          5     180   \n",
       "3           26  Driver & Passenger      Front  ...          6     193   \n",
       "4           30         Driver only       Rear  ...          4     186   \n",
       "\n",
       "   Wheelbase  Width  Turn.circle Rear.seat.room  Luggage.room  Weight  \\\n",
       "0        102     68           37           26.5          11.0    2705   \n",
       "1        115     71           38           30.0          15.0    3560   \n",
       "2        102     67           37           28.0          14.0    3375   \n",
       "3        106     70           37           31.0          17.0    3405   \n",
       "4        109     69           39           27.0          13.0    3640   \n",
       "\n",
       "    Origin           Make  \n",
       "0  non-USA  Acura Integra  \n",
       "1  non-USA   Acura Legend  \n",
       "2  non-USA        Audi 90  \n",
       "3  non-USA       Audi 100  \n",
       "4  non-USA       BMW 535i  \n",
       "\n",
       "[5 rows x 27 columns]"
      ]
     },
     "execution_count": 66,
     "metadata": {},
     "output_type": "execute_result"
    }
   ],
   "source": [
    "df = pd.read_csv(\"/root/SDB2024/Python/data/v(1).csv\", index_col = False, encoding = \"UTF-8\")  ## CP949 등\n",
    "df.head()"
   ]
  },
  {
   "cell_type": "code",
   "execution_count": 17,
   "id": "0b768a02-f34e-4505-9939-181436da1876",
   "metadata": {},
   "outputs": [
    {
     "name": "stdout",
     "output_type": "stream",
     "text": [
      "93\n"
     ]
    },
    {
     "data": {
      "text/plain": [
       "0     non-USA\n",
       "1     non-USA\n",
       "2     non-USA\n",
       "3     non-USA\n",
       "4     non-USA\n",
       "       ...   \n",
       "88    non-USA\n",
       "89    non-USA\n",
       "90    non-USA\n",
       "91    non-USA\n",
       "92    non-USA\n",
       "Name: Origin, Length: 93, dtype: object"
      ]
     },
     "execution_count": 17,
     "metadata": {},
     "output_type": "execute_result"
    }
   ],
   "source": [
    "print(len(df))\n",
    "df.Origin\n",
    "# df[\"Origin\"]"
   ]
  },
  {
   "cell_type": "code",
   "execution_count": 33,
   "id": "f287e539-a069-4751-8669-831bf2b490ab",
   "metadata": {},
   "outputs": [
    {
     "data": {
      "image/png": "[encoded data removed]",
      "text/plain": [
       "<Figure size 640x480 with 1 Axes>"
      ]
     },
     "metadata": {},
     "output_type": "display_data"
    }
   ],
   "source": [
    "p = df['Width'].value_counts()\n",
    "p.sort_index().plot()  ## value의 sorting을 원하면 sort_values()\n",
    "plt.show()"
   ]
  },
  {
   "cell_type": "markdown",
   "id": "88958bae-0eb9-4e90-b03c-9d2dacde4ba0",
   "metadata": {},
   "source": [
    "> $y$축의 값들이 빈도가 됨"
   ]
  },
  {
   "cell_type": "markdown",
   "id": "82f4c2b2-ce35-46b2-8859-a33b9384e1ae",
   "metadata": {},
   "source": [
    "> 그룹별 연산 (`pivot_table`, `groupby().agg()`)"
   ]
  },
  {
   "cell_type": "code",
   "execution_count": 36,
   "id": "bc155a68-7f11-4418-8bdf-b8b89729c978",
   "metadata": {},
   "outputs": [
    {
     "data": {
      "text/plain": [
       "Origin\n",
       "USA        48\n",
       "non-USA    45\n",
       "dtype: int64"
      ]
     },
     "execution_count": 36,
     "metadata": {},
     "output_type": "execute_result"
    }
   ],
   "source": [
    "df.groupby(\"Origin\").size()  ## 각 그룹이 몇 개 있는지 빈도"
   ]
  },
  {
   "cell_type": "code",
   "execution_count": 43,
   "id": "92e0f8ca-65fc-4d4a-827d-e02f56a3b1f4",
   "metadata": {},
   "outputs": [
    {
     "data": {
      "text/html": [
       "<div>\n",
       "<style scoped>\n",
       "    .dataframe tbody tr th:only-of-type {\n",
       "        vertical-align: middle;\n",
       "    }\n",
       "\n",
       "    .dataframe tbody tr th {\n",
       "        vertical-align: top;\n",
       "    }\n",
       "\n",
       "    .dataframe thead th {\n",
       "        text-align: right;\n",
       "    }\n",
       "</style>\n",
       "<table border=\"1\" class=\"dataframe\">\n",
       "  <thead>\n",
       "    <tr style=\"text-align: right;\">\n",
       "      <th></th>\n",
       "      <th>Origin</th>\n",
       "    </tr>\n",
       "    <tr>\n",
       "      <th>Origin</th>\n",
       "      <th></th>\n",
       "    </tr>\n",
       "  </thead>\n",
       "  <tbody>\n",
       "    <tr>\n",
       "      <th>USA</th>\n",
       "      <td>48</td>\n",
       "    </tr>\n",
       "    <tr>\n",
       "      <th>non-USA</th>\n",
       "      <td>45</td>\n",
       "    </tr>\n",
       "  </tbody>\n",
       "</table>\n",
       "</div>"
      ],
      "text/plain": [
       "         Origin\n",
       "Origin         \n",
       "USA          48\n",
       "non-USA      45"
      ]
     },
     "execution_count": 43,
     "metadata": {},
     "output_type": "execute_result"
    }
   ],
   "source": [
    "df.groupby(\"Origin\").aggregate({\"Origin\" : \"count\"})  ## size도 됨"
   ]
  },
  {
   "cell_type": "code",
   "execution_count": 44,
   "id": "e772c7e1-814b-4a88-af73-ec357135cb99",
   "metadata": {},
   "outputs": [],
   "source": [
    "sf = df.groupby([\"Origin\", \"Type\"]).size()"
   ]
  },
  {
   "cell_type": "code",
   "execution_count": 48,
   "id": "7f5778fd-cc52-436d-a7c2-bc056f2090b4",
   "metadata": {},
   "outputs": [
    {
     "data": {
      "text/plain": [
       "<AxesSubplot: xlabel='Origin'>"
      ]
     },
     "execution_count": 48,
     "metadata": {},
     "output_type": "execute_result"
    },
    {
     "data": {
      "image/png": "[encoded data removed]",
      "text/plain": [
       "<Figure size 640x480 with 1 Axes>"
      ]
     },
     "metadata": {},
     "output_type": "display_data"
    },
    {
     "data": {
      "image/png": "[encoded data removed]",
      "text/plain": [
       "<Figure size 640x480 with 1 Axes>"
      ]
     },
     "metadata": {},
     "output_type": "display_data"
    }
   ],
   "source": [
    "sf.unstack().plot()\n",
    "sf.unstack().plot.bar()"
   ]
  },
  {
   "cell_type": "markdown",
   "id": "8081d373-a663-46e3-886f-795a83502aae",
   "metadata": {},
   "source": [
    "> 원산지별 타입에 따른 비중으로 표시, Large는 미국만 있어서 선이 보이지 않음"
   ]
  },
  {
   "cell_type": "markdown",
   "id": "be3d9aba-d309-4425-a73a-47d993928292",
   "metadata": {},
   "source": [
    "`-` 데이터 슬라이싱, 병합"
   ]
  },
  {
   "cell_type": "code",
   "execution_count": 55,
   "id": "cb12be75-8221-4153-83ee-33c6e4558fd6",
   "metadata": {},
   "outputs": [
    {
     "name": "stdout",
     "output_type": "stream",
     "text": [
      "   Manufacturer    Model     Type  Min.Price  Price\n",
      "0         Acura  Integra    Small       12.9   15.9\n",
      "1         Acura   Legend  Midsize       29.2   33.9\n",
      "2          Audi       90  Compact       25.9   29.1\n",
      "3          Audi      100  Midsize       30.8   37.7\n",
      "4           BMW     535i  Midsize       23.7   30.0\n",
      "..          ...      ...      ...        ...    ...\n",
      "88   Volkswagen  Eurovan      Van       16.6   19.7\n",
      "89   Volkswagen   Passat  Compact       17.6   20.0\n",
      "90   Volkswagen  Corrado   Sporty       22.9   23.3\n",
      "91        Volvo      240  Compact       21.8   22.7\n",
      "92        Volvo      850  Midsize       24.8   26.7\n",
      "\n",
      "[93 rows x 5 columns]\n",
      "   Manufacturer    Model  Max.Price  MPG.city  MPG.highway  \\\n",
      "0         Acura  Integra       18.8        25           31   \n",
      "1         Acura   Legend       38.7        18           25   \n",
      "2          Audi       90       32.3        20           26   \n",
      "3          Audi      100       44.6        19           26   \n",
      "4           BMW     535i       36.2        22           30   \n",
      "..          ...      ...        ...       ...          ...   \n",
      "88   Volkswagen  Eurovan       22.7        17           21   \n",
      "89   Volkswagen   Passat       22.4        21           30   \n",
      "90   Volkswagen  Corrado       23.7        18           25   \n",
      "91        Volvo      240       23.5        21           28   \n",
      "92        Volvo      850       28.5        20           28   \n",
      "\n",
      "               AirBags DriveTrain Cylinders  EngineSize  Horsepower  ...  \\\n",
      "0                 None      Front         4         1.8         140  ...   \n",
      "1   Driver & Passenger      Front         6         3.2         200  ...   \n",
      "2          Driver only      Front         6         2.8         172  ...   \n",
      "3   Driver & Passenger      Front         6         2.8         172  ...   \n",
      "4          Driver only       Rear         4         3.5         208  ...   \n",
      "..                 ...        ...       ...         ...         ...  ...   \n",
      "88                None      Front         5         2.5         109  ...   \n",
      "89                None      Front         4         2.0         134  ...   \n",
      "90                None      Front         6         2.8         178  ...   \n",
      "91         Driver only       Rear         4         2.3         114  ...   \n",
      "92  Driver & Passenger      Front         5         2.4         168  ...   \n",
      "\n",
      "    Passengers  Length Wheelbase  Width  Turn.circle  Rear.seat.room  \\\n",
      "0            5     177       102     68           37            26.5   \n",
      "1            5     195       115     71           38            30.0   \n",
      "2            5     180       102     67           37            28.0   \n",
      "3            6     193       106     70           37            31.0   \n",
      "4            4     186       109     69           39            27.0   \n",
      "..         ...     ...       ...    ...          ...             ...   \n",
      "88           7     187       115     72           38            34.0   \n",
      "89           5     180       103     67           35            31.5   \n",
      "90           4     159        97     66           36            26.0   \n",
      "91           5     190       104     67           37            29.5   \n",
      "92           5     184       105     69           38            30.0   \n",
      "\n",
      "    Luggage.room  Weight   Origin                Make  \n",
      "0           11.0    2705  non-USA       Acura Integra  \n",
      "1           15.0    3560  non-USA        Acura Legend  \n",
      "2           14.0    3375  non-USA             Audi 90  \n",
      "3           17.0    3405  non-USA            Audi 100  \n",
      "4           13.0    3640  non-USA            BMW 535i  \n",
      "..           ...     ...      ...                 ...  \n",
      "88           NaN    3960  non-USA  Volkswagen Eurovan  \n",
      "89          14.0    2985  non-USA   Volkswagen Passat  \n",
      "90          15.0    2810  non-USA  Volkswagen Corrado  \n",
      "91          14.0    2985  non-USA           Volvo 240  \n",
      "92          15.0    3245  non-USA           Volvo 850  \n",
      "\n",
      "[93 rows x 24 columns]\n"
     ]
    }
   ],
   "source": [
    "sf1 = df.iloc[:, 0:5]  ## [:, range(5)]\n",
    "print(sf1)\n",
    "\n",
    "sf2 = pd.concat((df.iloc[:, :2], df.iloc[:, 5:27]), axis = 1)\n",
    "print(sf2)"
   ]
  },
  {
   "cell_type": "code",
   "execution_count": 62,
   "id": "82e95109-b2ae-446d-b6e1-2067ff755f3c",
   "metadata": {},
   "outputs": [
    {
     "data": {
      "text/html": [
       "<div>\n",
       "<style scoped>\n",
       "    .dataframe tbody tr th:only-of-type {\n",
       "        vertical-align: middle;\n",
       "    }\n",
       "\n",
       "    .dataframe tbody tr th {\n",
       "        vertical-align: top;\n",
       "    }\n",
       "\n",
       "    .dataframe thead th {\n",
       "        text-align: right;\n",
       "    }\n",
       "</style>\n",
       "<table border=\"1\" class=\"dataframe\">\n",
       "  <thead>\n",
       "    <tr style=\"text-align: right;\">\n",
       "      <th></th>\n",
       "      <th>Manufacturer_x</th>\n",
       "      <th>Model</th>\n",
       "      <th>Type</th>\n",
       "      <th>Min.Price</th>\n",
       "      <th>Price</th>\n",
       "      <th>Manufacturer_y</th>\n",
       "      <th>Max.Price</th>\n",
       "      <th>MPG.city</th>\n",
       "      <th>MPG.highway</th>\n",
       "      <th>AirBags</th>\n",
       "      <th>...</th>\n",
       "      <th>Passengers</th>\n",
       "      <th>Length</th>\n",
       "      <th>Wheelbase</th>\n",
       "      <th>Width</th>\n",
       "      <th>Turn.circle</th>\n",
       "      <th>Rear.seat.room</th>\n",
       "      <th>Luggage.room</th>\n",
       "      <th>Weight</th>\n",
       "      <th>Origin</th>\n",
       "      <th>Make</th>\n",
       "    </tr>\n",
       "  </thead>\n",
       "  <tbody>\n",
       "    <tr>\n",
       "      <th>0</th>\n",
       "      <td>Acura</td>\n",
       "      <td>Integra</td>\n",
       "      <td>Small</td>\n",
       "      <td>12.9</td>\n",
       "      <td>15.9</td>\n",
       "      <td>Acura</td>\n",
       "      <td>18.8</td>\n",
       "      <td>25</td>\n",
       "      <td>31</td>\n",
       "      <td>None</td>\n",
       "      <td>...</td>\n",
       "      <td>5</td>\n",
       "      <td>177</td>\n",
       "      <td>102</td>\n",
       "      <td>68</td>\n",
       "      <td>37</td>\n",
       "      <td>26.5</td>\n",
       "      <td>11.0</td>\n",
       "      <td>2705</td>\n",
       "      <td>non-USA</td>\n",
       "      <td>Acura Integra</td>\n",
       "    </tr>\n",
       "    <tr>\n",
       "      <th>1</th>\n",
       "      <td>Acura</td>\n",
       "      <td>Legend</td>\n",
       "      <td>Midsize</td>\n",
       "      <td>29.2</td>\n",
       "      <td>33.9</td>\n",
       "      <td>Acura</td>\n",
       "      <td>38.7</td>\n",
       "      <td>18</td>\n",
       "      <td>25</td>\n",
       "      <td>Driver &amp; Passenger</td>\n",
       "      <td>...</td>\n",
       "      <td>5</td>\n",
       "      <td>195</td>\n",
       "      <td>115</td>\n",
       "      <td>71</td>\n",
       "      <td>38</td>\n",
       "      <td>30.0</td>\n",
       "      <td>15.0</td>\n",
       "      <td>3560</td>\n",
       "      <td>non-USA</td>\n",
       "      <td>Acura Legend</td>\n",
       "    </tr>\n",
       "    <tr>\n",
       "      <th>2</th>\n",
       "      <td>Audi</td>\n",
       "      <td>90</td>\n",
       "      <td>Compact</td>\n",
       "      <td>25.9</td>\n",
       "      <td>29.1</td>\n",
       "      <td>Audi</td>\n",
       "      <td>32.3</td>\n",
       "      <td>20</td>\n",
       "      <td>26</td>\n",
       "      <td>Driver only</td>\n",
       "      <td>...</td>\n",
       "      <td>5</td>\n",
       "      <td>180</td>\n",
       "      <td>102</td>\n",
       "      <td>67</td>\n",
       "      <td>37</td>\n",
       "      <td>28.0</td>\n",
       "      <td>14.0</td>\n",
       "      <td>3375</td>\n",
       "      <td>non-USA</td>\n",
       "      <td>Audi 90</td>\n",
       "    </tr>\n",
       "    <tr>\n",
       "      <th>3</th>\n",
       "      <td>Audi</td>\n",
       "      <td>100</td>\n",
       "      <td>Midsize</td>\n",
       "      <td>30.8</td>\n",
       "      <td>37.7</td>\n",
       "      <td>Audi</td>\n",
       "      <td>44.6</td>\n",
       "      <td>19</td>\n",
       "      <td>26</td>\n",
       "      <td>Driver &amp; Passenger</td>\n",
       "      <td>...</td>\n",
       "      <td>6</td>\n",
       "      <td>193</td>\n",
       "      <td>106</td>\n",
       "      <td>70</td>\n",
       "      <td>37</td>\n",
       "      <td>31.0</td>\n",
       "      <td>17.0</td>\n",
       "      <td>3405</td>\n",
       "      <td>non-USA</td>\n",
       "      <td>Audi 100</td>\n",
       "    </tr>\n",
       "    <tr>\n",
       "      <th>4</th>\n",
       "      <td>BMW</td>\n",
       "      <td>535i</td>\n",
       "      <td>Midsize</td>\n",
       "      <td>23.7</td>\n",
       "      <td>30.0</td>\n",
       "      <td>BMW</td>\n",
       "      <td>36.2</td>\n",
       "      <td>22</td>\n",
       "      <td>30</td>\n",
       "      <td>Driver only</td>\n",
       "      <td>...</td>\n",
       "      <td>4</td>\n",
       "      <td>186</td>\n",
       "      <td>109</td>\n",
       "      <td>69</td>\n",
       "      <td>39</td>\n",
       "      <td>27.0</td>\n",
       "      <td>13.0</td>\n",
       "      <td>3640</td>\n",
       "      <td>non-USA</td>\n",
       "      <td>BMW 535i</td>\n",
       "    </tr>\n",
       "    <tr>\n",
       "      <th>...</th>\n",
       "      <td>...</td>\n",
       "      <td>...</td>\n",
       "      <td>...</td>\n",
       "      <td>...</td>\n",
       "      <td>...</td>\n",
       "      <td>...</td>\n",
       "      <td>...</td>\n",
       "      <td>...</td>\n",
       "      <td>...</td>\n",
       "      <td>...</td>\n",
       "      <td>...</td>\n",
       "      <td>...</td>\n",
       "      <td>...</td>\n",
       "      <td>...</td>\n",
       "      <td>...</td>\n",
       "      <td>...</td>\n",
       "      <td>...</td>\n",
       "      <td>...</td>\n",
       "      <td>...</td>\n",
       "      <td>...</td>\n",
       "      <td>...</td>\n",
       "    </tr>\n",
       "    <tr>\n",
       "      <th>88</th>\n",
       "      <td>Volkswagen</td>\n",
       "      <td>Eurovan</td>\n",
       "      <td>Van</td>\n",
       "      <td>16.6</td>\n",
       "      <td>19.7</td>\n",
       "      <td>Volkswagen</td>\n",
       "      <td>22.7</td>\n",
       "      <td>17</td>\n",
       "      <td>21</td>\n",
       "      <td>None</td>\n",
       "      <td>...</td>\n",
       "      <td>7</td>\n",
       "      <td>187</td>\n",
       "      <td>115</td>\n",
       "      <td>72</td>\n",
       "      <td>38</td>\n",
       "      <td>34.0</td>\n",
       "      <td>NaN</td>\n",
       "      <td>3960</td>\n",
       "      <td>non-USA</td>\n",
       "      <td>Volkswagen Eurovan</td>\n",
       "    </tr>\n",
       "    <tr>\n",
       "      <th>89</th>\n",
       "      <td>Volkswagen</td>\n",
       "      <td>Passat</td>\n",
       "      <td>Compact</td>\n",
       "      <td>17.6</td>\n",
       "      <td>20.0</td>\n",
       "      <td>Volkswagen</td>\n",
       "      <td>22.4</td>\n",
       "      <td>21</td>\n",
       "      <td>30</td>\n",
       "      <td>None</td>\n",
       "      <td>...</td>\n",
       "      <td>5</td>\n",
       "      <td>180</td>\n",
       "      <td>103</td>\n",
       "      <td>67</td>\n",
       "      <td>35</td>\n",
       "      <td>31.5</td>\n",
       "      <td>14.0</td>\n",
       "      <td>2985</td>\n",
       "      <td>non-USA</td>\n",
       "      <td>Volkswagen Passat</td>\n",
       "    </tr>\n",
       "    <tr>\n",
       "      <th>90</th>\n",
       "      <td>Volkswagen</td>\n",
       "      <td>Corrado</td>\n",
       "      <td>Sporty</td>\n",
       "      <td>22.9</td>\n",
       "      <td>23.3</td>\n",
       "      <td>Volkswagen</td>\n",
       "      <td>23.7</td>\n",
       "      <td>18</td>\n",
       "      <td>25</td>\n",
       "      <td>None</td>\n",
       "      <td>...</td>\n",
       "      <td>4</td>\n",
       "      <td>159</td>\n",
       "      <td>97</td>\n",
       "      <td>66</td>\n",
       "      <td>36</td>\n",
       "      <td>26.0</td>\n",
       "      <td>15.0</td>\n",
       "      <td>2810</td>\n",
       "      <td>non-USA</td>\n",
       "      <td>Volkswagen Corrado</td>\n",
       "    </tr>\n",
       "    <tr>\n",
       "      <th>91</th>\n",
       "      <td>Volvo</td>\n",
       "      <td>240</td>\n",
       "      <td>Compact</td>\n",
       "      <td>21.8</td>\n",
       "      <td>22.7</td>\n",
       "      <td>Volvo</td>\n",
       "      <td>23.5</td>\n",
       "      <td>21</td>\n",
       "      <td>28</td>\n",
       "      <td>Driver only</td>\n",
       "      <td>...</td>\n",
       "      <td>5</td>\n",
       "      <td>190</td>\n",
       "      <td>104</td>\n",
       "      <td>67</td>\n",
       "      <td>37</td>\n",
       "      <td>29.5</td>\n",
       "      <td>14.0</td>\n",
       "      <td>2985</td>\n",
       "      <td>non-USA</td>\n",
       "      <td>Volvo 240</td>\n",
       "    </tr>\n",
       "    <tr>\n",
       "      <th>92</th>\n",
       "      <td>Volvo</td>\n",
       "      <td>850</td>\n",
       "      <td>Midsize</td>\n",
       "      <td>24.8</td>\n",
       "      <td>26.7</td>\n",
       "      <td>Volvo</td>\n",
       "      <td>28.5</td>\n",
       "      <td>20</td>\n",
       "      <td>28</td>\n",
       "      <td>Driver &amp; Passenger</td>\n",
       "      <td>...</td>\n",
       "      <td>5</td>\n",
       "      <td>184</td>\n",
       "      <td>105</td>\n",
       "      <td>69</td>\n",
       "      <td>38</td>\n",
       "      <td>30.0</td>\n",
       "      <td>15.0</td>\n",
       "      <td>3245</td>\n",
       "      <td>non-USA</td>\n",
       "      <td>Volvo 850</td>\n",
       "    </tr>\n",
       "  </tbody>\n",
       "</table>\n",
       "<p>93 rows × 28 columns</p>\n",
       "</div>"
      ],
      "text/plain": [
       "   Manufacturer_x    Model     Type  Min.Price  Price Manufacturer_y  \\\n",
       "0           Acura  Integra    Small       12.9   15.9          Acura   \n",
       "1           Acura   Legend  Midsize       29.2   33.9          Acura   \n",
       "2            Audi       90  Compact       25.9   29.1           Audi   \n",
       "3            Audi      100  Midsize       30.8   37.7           Audi   \n",
       "4             BMW     535i  Midsize       23.7   30.0            BMW   \n",
       "..            ...      ...      ...        ...    ...            ...   \n",
       "88     Volkswagen  Eurovan      Van       16.6   19.7     Volkswagen   \n",
       "89     Volkswagen   Passat  Compact       17.6   20.0     Volkswagen   \n",
       "90     Volkswagen  Corrado   Sporty       22.9   23.3     Volkswagen   \n",
       "91          Volvo      240  Compact       21.8   22.7          Volvo   \n",
       "92          Volvo      850  Midsize       24.8   26.7          Volvo   \n",
       "\n",
       "    Max.Price  MPG.city  MPG.highway             AirBags  ... Passengers  \\\n",
       "0        18.8        25           31                None  ...          5   \n",
       "1        38.7        18           25  Driver & Passenger  ...          5   \n",
       "2        32.3        20           26         Driver only  ...          5   \n",
       "3        44.6        19           26  Driver & Passenger  ...          6   \n",
       "4        36.2        22           30         Driver only  ...          4   \n",
       "..        ...       ...          ...                 ...  ...        ...   \n",
       "88       22.7        17           21                None  ...          7   \n",
       "89       22.4        21           30                None  ...          5   \n",
       "90       23.7        18           25                None  ...          4   \n",
       "91       23.5        21           28         Driver only  ...          5   \n",
       "92       28.5        20           28  Driver & Passenger  ...          5   \n",
       "\n",
       "   Length  Wheelbase  Width  Turn.circle  Rear.seat.room Luggage.room  Weight  \\\n",
       "0     177        102     68           37            26.5         11.0    2705   \n",
       "1     195        115     71           38            30.0         15.0    3560   \n",
       "2     180        102     67           37            28.0         14.0    3375   \n",
       "3     193        106     70           37            31.0         17.0    3405   \n",
       "4     186        109     69           39            27.0         13.0    3640   \n",
       "..    ...        ...    ...          ...             ...          ...     ...   \n",
       "88    187        115     72           38            34.0          NaN    3960   \n",
       "89    180        103     67           35            31.5         14.0    2985   \n",
       "90    159         97     66           36            26.0         15.0    2810   \n",
       "91    190        104     67           37            29.5         14.0    2985   \n",
       "92    184        105     69           38            30.0         15.0    3245   \n",
       "\n",
       "     Origin                Make  \n",
       "0   non-USA       Acura Integra  \n",
       "1   non-USA        Acura Legend  \n",
       "2   non-USA             Audi 90  \n",
       "3   non-USA            Audi 100  \n",
       "4   non-USA            BMW 535i  \n",
       "..      ...                 ...  \n",
       "88  non-USA  Volkswagen Eurovan  \n",
       "89  non-USA   Volkswagen Passat  \n",
       "90  non-USA  Volkswagen Corrado  \n",
       "91  non-USA           Volvo 240  \n",
       "92  non-USA           Volvo 850  \n",
       "\n",
       "[93 rows x 28 columns]"
      ]
     },
     "execution_count": 62,
     "metadata": {},
     "output_type": "execute_result"
    }
   ],
   "source": [
    "sf1.merge(sf2, on = [\"Model\"])  ## 둘다 모델이 완전히 겹침.\n",
    "pd.merge(sf1, sf2, on = [\"Model\"], how = \"inner\")  ## 뭘로 하든 똑같음. 값이 똑같아서."
   ]
  },
  {
   "cell_type": "markdown",
   "id": "9e61f133-7eaa-4d5d-887b-30f389003c01",
   "metadata": {},
   "source": [
    "> inner join입니당."
   ]
  },
  {
   "cell_type": "code",
   "execution_count": 70,
   "id": "96acb0de-ac89-491b-9b38-703f096dd587",
   "metadata": {},
   "outputs": [
    {
     "name": "stdout",
     "output_type": "stream",
     "text": [
      "           Manufacturer     Type  Min.Price  Price  Max.Price  MPG.city  \\\n",
      "Model                                                                     \n",
      "100                Audi  Midsize       30.8   37.7       44.6        19   \n",
      "190E      Mercedes-Benz  Compact       29.0   31.9       34.9        20   \n",
      "240               Volvo  Compact       21.8   22.7       23.5        21   \n",
      "300E      Mercedes-Benz  Midsize       43.8   61.9       80.0        19   \n",
      "323               Mazda    Small        7.4    8.3        9.1        29   \n",
      "...                 ...      ...        ...    ...        ...       ...   \n",
      "Taurus             Ford  Midsize       15.6   20.2       24.8        21   \n",
      "Tempo              Ford  Compact       10.4   11.3       12.2        22   \n",
      "Tercel           Toyota    Small        7.8    9.8       11.8        32   \n",
      "Town_Car        Lincoln    Large       34.4   36.1       37.8        18   \n",
      "Vision            Eagle    Large       17.5   19.3       21.2        20   \n",
      "\n",
      "          MPG.highway             AirBags DriveTrain Cylinders  ...  \\\n",
      "Model                                                           ...   \n",
      "100                26  Driver & Passenger      Front         6  ...   \n",
      "190E               29         Driver only       Rear         4  ...   \n",
      "240                28         Driver only       Rear         4  ...   \n",
      "300E               25  Driver & Passenger       Rear         6  ...   \n",
      "323                37                None      Front         4  ...   \n",
      "...               ...                 ...        ...       ...  ...   \n",
      "Taurus             30         Driver only      Front         6  ...   \n",
      "Tempo              27                None      Front         4  ...   \n",
      "Tercel             37         Driver only      Front         4  ...   \n",
      "Town_Car           26  Driver & Passenger       Rear         8  ...   \n",
      "Vision             28  Driver & Passenger      Front         6  ...   \n",
      "\n",
      "          Passengers  Length  Wheelbase  Width Turn.circle  Rear.seat.room  \\\n",
      "Model                                                                        \n",
      "100                6     193        106     70          37            31.0   \n",
      "190E               5     175        105     67          34            26.0   \n",
      "240                5     190        104     67          37            29.5   \n",
      "300E               5     187        110     69          37            27.0   \n",
      "323                4     164         97     66          34            27.0   \n",
      "...              ...     ...        ...    ...         ...             ...   \n",
      "Taurus             5     192        106     71          40            27.5   \n",
      "Tempo              5     177        100     68          39            27.5   \n",
      "Tercel             5     162         94     65          36            24.0   \n",
      "Town_Car           6     219        117     77          45            31.5   \n",
      "Vision             6     202        113     74          40            30.0   \n",
      "\n",
      "          Luggage.room  Weight   Origin                Make  \n",
      "Model                                                        \n",
      "100               17.0    3405  non-USA            Audi 100  \n",
      "190E              12.0    2920  non-USA  Mercedes-Benz 190E  \n",
      "240               14.0    2985  non-USA           Volvo 240  \n",
      "300E              15.0    3525  non-USA  Mercedes-Benz 300E  \n",
      "323               16.0    2325  non-USA           Mazda 323  \n",
      "...                ...     ...      ...                 ...  \n",
      "Taurus            18.0    3325      USA         Ford Taurus  \n",
      "Tempo             13.0    2690      USA          Ford Tempo  \n",
      "Tercel            11.0    2055  non-USA       Toyota Tercel  \n",
      "Town_Car          22.0    4055      USA    Lincoln Town_Car  \n",
      "Vision            15.0    3490      USA        Eagle Vision  \n",
      "\n",
      "[93 rows x 26 columns]\n"
     ]
    }
   ],
   "source": [
    "sf = df.set_index([\"Model\"])\n",
    "print(sf.sort_index())"
   ]
  },
  {
   "cell_type": "code",
   "execution_count": 69,
   "id": "1eefa9f2-a432-413e-b19a-4748db77c505",
   "metadata": {},
   "outputs": [
    {
     "data": {
      "text/html": [
       "<div>\n",
       "<style scoped>\n",
       "    .dataframe tbody tr th:only-of-type {\n",
       "        vertical-align: middle;\n",
       "    }\n",
       "\n",
       "    .dataframe tbody tr th {\n",
       "        vertical-align: top;\n",
       "    }\n",
       "\n",
       "    .dataframe thead th {\n",
       "        text-align: right;\n",
       "    }\n",
       "</style>\n",
       "<table border=\"1\" class=\"dataframe\">\n",
       "  <thead>\n",
       "    <tr style=\"text-align: right;\">\n",
       "      <th></th>\n",
       "      <th>Manufacturer</th>\n",
       "      <th>Model</th>\n",
       "      <th>Type</th>\n",
       "      <th>Min.Price</th>\n",
       "      <th>Price</th>\n",
       "      <th>Max.Price</th>\n",
       "      <th>MPG.city</th>\n",
       "      <th>MPG.highway</th>\n",
       "      <th>AirBags</th>\n",
       "      <th>DriveTrain</th>\n",
       "      <th>...</th>\n",
       "      <th>Passengers</th>\n",
       "      <th>Length</th>\n",
       "      <th>Wheelbase</th>\n",
       "      <th>Width</th>\n",
       "      <th>Turn.circle</th>\n",
       "      <th>Rear.seat.room</th>\n",
       "      <th>Luggage.room</th>\n",
       "      <th>Weight</th>\n",
       "      <th>Origin</th>\n",
       "      <th>Make</th>\n",
       "    </tr>\n",
       "  </thead>\n",
       "  <tbody>\n",
       "    <tr>\n",
       "      <th>0</th>\n",
       "      <td>Audi</td>\n",
       "      <td>100</td>\n",
       "      <td>Midsize</td>\n",
       "      <td>30.8</td>\n",
       "      <td>37.7</td>\n",
       "      <td>44.6</td>\n",
       "      <td>19</td>\n",
       "      <td>26</td>\n",
       "      <td>Driver &amp; Passenger</td>\n",
       "      <td>Front</td>\n",
       "      <td>...</td>\n",
       "      <td>6</td>\n",
       "      <td>193</td>\n",
       "      <td>106</td>\n",
       "      <td>70</td>\n",
       "      <td>37</td>\n",
       "      <td>31.0</td>\n",
       "      <td>17.0</td>\n",
       "      <td>3405</td>\n",
       "      <td>non-USA</td>\n",
       "      <td>Audi 100</td>\n",
       "    </tr>\n",
       "    <tr>\n",
       "      <th>1</th>\n",
       "      <td>Mercedes-Benz</td>\n",
       "      <td>190E</td>\n",
       "      <td>Compact</td>\n",
       "      <td>29.0</td>\n",
       "      <td>31.9</td>\n",
       "      <td>34.9</td>\n",
       "      <td>20</td>\n",
       "      <td>29</td>\n",
       "      <td>Driver only</td>\n",
       "      <td>Rear</td>\n",
       "      <td>...</td>\n",
       "      <td>5</td>\n",
       "      <td>175</td>\n",
       "      <td>105</td>\n",
       "      <td>67</td>\n",
       "      <td>34</td>\n",
       "      <td>26.0</td>\n",
       "      <td>12.0</td>\n",
       "      <td>2920</td>\n",
       "      <td>non-USA</td>\n",
       "      <td>Mercedes-Benz 190E</td>\n",
       "    </tr>\n",
       "    <tr>\n",
       "      <th>2</th>\n",
       "      <td>Volvo</td>\n",
       "      <td>240</td>\n",
       "      <td>Compact</td>\n",
       "      <td>21.8</td>\n",
       "      <td>22.7</td>\n",
       "      <td>23.5</td>\n",
       "      <td>21</td>\n",
       "      <td>28</td>\n",
       "      <td>Driver only</td>\n",
       "      <td>Rear</td>\n",
       "      <td>...</td>\n",
       "      <td>5</td>\n",
       "      <td>190</td>\n",
       "      <td>104</td>\n",
       "      <td>67</td>\n",
       "      <td>37</td>\n",
       "      <td>29.5</td>\n",
       "      <td>14.0</td>\n",
       "      <td>2985</td>\n",
       "      <td>non-USA</td>\n",
       "      <td>Volvo 240</td>\n",
       "    </tr>\n",
       "    <tr>\n",
       "      <th>3</th>\n",
       "      <td>Mercedes-Benz</td>\n",
       "      <td>300E</td>\n",
       "      <td>Midsize</td>\n",
       "      <td>43.8</td>\n",
       "      <td>61.9</td>\n",
       "      <td>80.0</td>\n",
       "      <td>19</td>\n",
       "      <td>25</td>\n",
       "      <td>Driver &amp; Passenger</td>\n",
       "      <td>Rear</td>\n",
       "      <td>...</td>\n",
       "      <td>5</td>\n",
       "      <td>187</td>\n",
       "      <td>110</td>\n",
       "      <td>69</td>\n",
       "      <td>37</td>\n",
       "      <td>27.0</td>\n",
       "      <td>15.0</td>\n",
       "      <td>3525</td>\n",
       "      <td>non-USA</td>\n",
       "      <td>Mercedes-Benz 300E</td>\n",
       "    </tr>\n",
       "    <tr>\n",
       "      <th>4</th>\n",
       "      <td>Mazda</td>\n",
       "      <td>323</td>\n",
       "      <td>Small</td>\n",
       "      <td>7.4</td>\n",
       "      <td>8.3</td>\n",
       "      <td>9.1</td>\n",
       "      <td>29</td>\n",
       "      <td>37</td>\n",
       "      <td>None</td>\n",
       "      <td>Front</td>\n",
       "      <td>...</td>\n",
       "      <td>4</td>\n",
       "      <td>164</td>\n",
       "      <td>97</td>\n",
       "      <td>66</td>\n",
       "      <td>34</td>\n",
       "      <td>27.0</td>\n",
       "      <td>16.0</td>\n",
       "      <td>2325</td>\n",
       "      <td>non-USA</td>\n",
       "      <td>Mazda 323</td>\n",
       "    </tr>\n",
       "    <tr>\n",
       "      <th>...</th>\n",
       "      <td>...</td>\n",
       "      <td>...</td>\n",
       "      <td>...</td>\n",
       "      <td>...</td>\n",
       "      <td>...</td>\n",
       "      <td>...</td>\n",
       "      <td>...</td>\n",
       "      <td>...</td>\n",
       "      <td>...</td>\n",
       "      <td>...</td>\n",
       "      <td>...</td>\n",
       "      <td>...</td>\n",
       "      <td>...</td>\n",
       "      <td>...</td>\n",
       "      <td>...</td>\n",
       "      <td>...</td>\n",
       "      <td>...</td>\n",
       "      <td>...</td>\n",
       "      <td>...</td>\n",
       "      <td>...</td>\n",
       "      <td>...</td>\n",
       "    </tr>\n",
       "    <tr>\n",
       "      <th>88</th>\n",
       "      <td>Ford</td>\n",
       "      <td>Taurus</td>\n",
       "      <td>Midsize</td>\n",
       "      <td>15.6</td>\n",
       "      <td>20.2</td>\n",
       "      <td>24.8</td>\n",
       "      <td>21</td>\n",
       "      <td>30</td>\n",
       "      <td>Driver only</td>\n",
       "      <td>Front</td>\n",
       "      <td>...</td>\n",
       "      <td>5</td>\n",
       "      <td>192</td>\n",
       "      <td>106</td>\n",
       "      <td>71</td>\n",
       "      <td>40</td>\n",
       "      <td>27.5</td>\n",
       "      <td>18.0</td>\n",
       "      <td>3325</td>\n",
       "      <td>USA</td>\n",
       "      <td>Ford Taurus</td>\n",
       "    </tr>\n",
       "    <tr>\n",
       "      <th>89</th>\n",
       "      <td>Ford</td>\n",
       "      <td>Tempo</td>\n",
       "      <td>Compact</td>\n",
       "      <td>10.4</td>\n",
       "      <td>11.3</td>\n",
       "      <td>12.2</td>\n",
       "      <td>22</td>\n",
       "      <td>27</td>\n",
       "      <td>None</td>\n",
       "      <td>Front</td>\n",
       "      <td>...</td>\n",
       "      <td>5</td>\n",
       "      <td>177</td>\n",
       "      <td>100</td>\n",
       "      <td>68</td>\n",
       "      <td>39</td>\n",
       "      <td>27.5</td>\n",
       "      <td>13.0</td>\n",
       "      <td>2690</td>\n",
       "      <td>USA</td>\n",
       "      <td>Ford Tempo</td>\n",
       "    </tr>\n",
       "    <tr>\n",
       "      <th>90</th>\n",
       "      <td>Toyota</td>\n",
       "      <td>Tercel</td>\n",
       "      <td>Small</td>\n",
       "      <td>7.8</td>\n",
       "      <td>9.8</td>\n",
       "      <td>11.8</td>\n",
       "      <td>32</td>\n",
       "      <td>37</td>\n",
       "      <td>Driver only</td>\n",
       "      <td>Front</td>\n",
       "      <td>...</td>\n",
       "      <td>5</td>\n",
       "      <td>162</td>\n",
       "      <td>94</td>\n",
       "      <td>65</td>\n",
       "      <td>36</td>\n",
       "      <td>24.0</td>\n",
       "      <td>11.0</td>\n",
       "      <td>2055</td>\n",
       "      <td>non-USA</td>\n",
       "      <td>Toyota Tercel</td>\n",
       "    </tr>\n",
       "    <tr>\n",
       "      <th>91</th>\n",
       "      <td>Lincoln</td>\n",
       "      <td>Town_Car</td>\n",
       "      <td>Large</td>\n",
       "      <td>34.4</td>\n",
       "      <td>36.1</td>\n",
       "      <td>37.8</td>\n",
       "      <td>18</td>\n",
       "      <td>26</td>\n",
       "      <td>Driver &amp; Passenger</td>\n",
       "      <td>Rear</td>\n",
       "      <td>...</td>\n",
       "      <td>6</td>\n",
       "      <td>219</td>\n",
       "      <td>117</td>\n",
       "      <td>77</td>\n",
       "      <td>45</td>\n",
       "      <td>31.5</td>\n",
       "      <td>22.0</td>\n",
       "      <td>4055</td>\n",
       "      <td>USA</td>\n",
       "      <td>Lincoln Town_Car</td>\n",
       "    </tr>\n",
       "    <tr>\n",
       "      <th>92</th>\n",
       "      <td>Eagle</td>\n",
       "      <td>Vision</td>\n",
       "      <td>Large</td>\n",
       "      <td>17.5</td>\n",
       "      <td>19.3</td>\n",
       "      <td>21.2</td>\n",
       "      <td>20</td>\n",
       "      <td>28</td>\n",
       "      <td>Driver &amp; Passenger</td>\n",
       "      <td>Front</td>\n",
       "      <td>...</td>\n",
       "      <td>6</td>\n",
       "      <td>202</td>\n",
       "      <td>113</td>\n",
       "      <td>74</td>\n",
       "      <td>40</td>\n",
       "      <td>30.0</td>\n",
       "      <td>15.0</td>\n",
       "      <td>3490</td>\n",
       "      <td>USA</td>\n",
       "      <td>Eagle Vision</td>\n",
       "    </tr>\n",
       "  </tbody>\n",
       "</table>\n",
       "<p>93 rows × 27 columns</p>\n",
       "</div>"
      ],
      "text/plain": [
       "     Manufacturer     Model     Type  Min.Price  Price  Max.Price  MPG.city  \\\n",
       "0            Audi       100  Midsize       30.8   37.7       44.6        19   \n",
       "1   Mercedes-Benz      190E  Compact       29.0   31.9       34.9        20   \n",
       "2           Volvo       240  Compact       21.8   22.7       23.5        21   \n",
       "3   Mercedes-Benz      300E  Midsize       43.8   61.9       80.0        19   \n",
       "4           Mazda       323    Small        7.4    8.3        9.1        29   \n",
       "..            ...       ...      ...        ...    ...        ...       ...   \n",
       "88           Ford    Taurus  Midsize       15.6   20.2       24.8        21   \n",
       "89           Ford     Tempo  Compact       10.4   11.3       12.2        22   \n",
       "90         Toyota    Tercel    Small        7.8    9.8       11.8        32   \n",
       "91        Lincoln  Town_Car    Large       34.4   36.1       37.8        18   \n",
       "92          Eagle    Vision    Large       17.5   19.3       21.2        20   \n",
       "\n",
       "    MPG.highway             AirBags DriveTrain  ... Passengers  Length  \\\n",
       "0            26  Driver & Passenger      Front  ...          6     193   \n",
       "1            29         Driver only       Rear  ...          5     175   \n",
       "2            28         Driver only       Rear  ...          5     190   \n",
       "3            25  Driver & Passenger       Rear  ...          5     187   \n",
       "4            37                None      Front  ...          4     164   \n",
       "..          ...                 ...        ...  ...        ...     ...   \n",
       "88           30         Driver only      Front  ...          5     192   \n",
       "89           27                None      Front  ...          5     177   \n",
       "90           37         Driver only      Front  ...          5     162   \n",
       "91           26  Driver & Passenger       Rear  ...          6     219   \n",
       "92           28  Driver & Passenger      Front  ...          6     202   \n",
       "\n",
       "    Wheelbase  Width  Turn.circle Rear.seat.room  Luggage.room  Weight  \\\n",
       "0         106     70           37           31.0          17.0    3405   \n",
       "1         105     67           34           26.0          12.0    2920   \n",
       "2         104     67           37           29.5          14.0    2985   \n",
       "3         110     69           37           27.0          15.0    3525   \n",
       "4          97     66           34           27.0          16.0    2325   \n",
       "..        ...    ...          ...            ...           ...     ...   \n",
       "88        106     71           40           27.5          18.0    3325   \n",
       "89        100     68           39           27.5          13.0    2690   \n",
       "90         94     65           36           24.0          11.0    2055   \n",
       "91        117     77           45           31.5          22.0    4055   \n",
       "92        113     74           40           30.0          15.0    3490   \n",
       "\n",
       "     Origin                Make  \n",
       "0   non-USA            Audi 100  \n",
       "1   non-USA  Mercedes-Benz 190E  \n",
       "2   non-USA           Volvo 240  \n",
       "3   non-USA  Mercedes-Benz 300E  \n",
       "4   non-USA           Mazda 323  \n",
       "..      ...                 ...  \n",
       "88      USA         Ford Taurus  \n",
       "89      USA          Ford Tempo  \n",
       "90  non-USA       Toyota Tercel  \n",
       "91      USA    Lincoln Town_Car  \n",
       "92      USA        Eagle Vision  \n",
       "\n",
       "[93 rows x 27 columns]"
      ]
     },
     "execution_count": 69,
     "metadata": {},
     "output_type": "execute_result"
    }
   ],
   "source": [
    "df.sort_values(\"Model\").reset_index(drop = True)"
   ]
  },
  {
   "cell_type": "code",
   "execution_count": 71,
   "id": "7da08667-cd31-443d-b604-a9f29c63518d",
   "metadata": {},
   "outputs": [
    {
     "name": "stdout",
     "output_type": "stream",
     "text": [
      "                         Type  Min.Price  Price  Max.Price  MPG.city  \\\n",
      "Manufacturer Model                                                     \n",
      "Acura        Integra    Small       12.9   15.9       18.8        25   \n",
      "             Legend   Midsize       29.2   33.9       38.7        18   \n",
      "Audi         100      Midsize       30.8   37.7       44.6        19   \n",
      "             90       Compact       25.9   29.1       32.3        20   \n",
      "BMW          535i     Midsize       23.7   30.0       36.2        22   \n",
      "...                       ...        ...    ...        ...       ...   \n",
      "Volkswagen   Eurovan      Van       16.6   19.7       22.7        17   \n",
      "             Fox        Small        8.7    9.1        9.5        25   \n",
      "             Passat   Compact       17.6   20.0       22.4        21   \n",
      "Volvo        240      Compact       21.8   22.7       23.5        21   \n",
      "             850      Midsize       24.8   26.7       28.5        20   \n",
      "\n",
      "                      MPG.highway             AirBags DriveTrain Cylinders  \\\n",
      "Manufacturer Model                                                           \n",
      "Acura        Integra           31                None      Front         4   \n",
      "             Legend            25  Driver & Passenger      Front         6   \n",
      "Audi         100               26  Driver & Passenger      Front         6   \n",
      "             90                26         Driver only      Front         6   \n",
      "BMW          535i              30         Driver only       Rear         4   \n",
      "...                           ...                 ...        ...       ...   \n",
      "Volkswagen   Eurovan           21                None      Front         5   \n",
      "             Fox               33                None      Front         4   \n",
      "             Passat            30                None      Front         4   \n",
      "Volvo        240               28         Driver only       Rear         4   \n",
      "             850               28  Driver & Passenger      Front         5   \n",
      "\n",
      "                      EngineSize  ...  Passengers  Length  Wheelbase Width  \\\n",
      "Manufacturer Model                ...                                        \n",
      "Acura        Integra         1.8  ...           5     177        102    68   \n",
      "             Legend          3.2  ...           5     195        115    71   \n",
      "Audi         100             2.8  ...           6     193        106    70   \n",
      "             90              2.8  ...           5     180        102    67   \n",
      "BMW          535i            3.5  ...           4     186        109    69   \n",
      "...                          ...  ...         ...     ...        ...   ...   \n",
      "Volkswagen   Eurovan         2.5  ...           7     187        115    72   \n",
      "             Fox             1.8  ...           4     163         93    63   \n",
      "             Passat          2.0  ...           5     180        103    67   \n",
      "Volvo        240             2.3  ...           5     190        104    67   \n",
      "             850             2.4  ...           5     184        105    69   \n",
      "\n",
      "                      Turn.circle  Rear.seat.room  Luggage.room  Weight  \\\n",
      "Manufacturer Model                                                        \n",
      "Acura        Integra           37            26.5          11.0    2705   \n",
      "             Legend            38            30.0          15.0    3560   \n",
      "Audi         100               37            31.0          17.0    3405   \n",
      "             90                37            28.0          14.0    3375   \n",
      "BMW          535i              39            27.0          13.0    3640   \n",
      "...                           ...             ...           ...     ...   \n",
      "Volkswagen   Eurovan           38            34.0           NaN    3960   \n",
      "             Fox               34            26.0          10.0    2240   \n",
      "             Passat            35            31.5          14.0    2985   \n",
      "Volvo        240               37            29.5          14.0    2985   \n",
      "             850               38            30.0          15.0    3245   \n",
      "\n",
      "                       Origin                Make  \n",
      "Manufacturer Model                                 \n",
      "Acura        Integra  non-USA       Acura Integra  \n",
      "             Legend   non-USA        Acura Legend  \n",
      "Audi         100      non-USA            Audi 100  \n",
      "             90       non-USA             Audi 90  \n",
      "BMW          535i     non-USA            BMW 535i  \n",
      "...                       ...                 ...  \n",
      "Volkswagen   Eurovan  non-USA  Volkswagen Eurovan  \n",
      "             Fox      non-USA      Volkswagen Fox  \n",
      "             Passat   non-USA   Volkswagen Passat  \n",
      "Volvo        240      non-USA           Volvo 240  \n",
      "             850      non-USA           Volvo 850  \n",
      "\n",
      "[93 rows x 25 columns]\n"
     ]
    }
   ],
   "source": [
    "sf = df.set_index(['Manufacturer','Model'])\n",
    "print(sf.sort_index())"
   ]
  },
  {
   "cell_type": "markdown",
   "id": "dcb5cf07-2862-41d8-a429-32327ff44a3b",
   "metadata": {},
   "source": [
    "> 생산업체와 모델이 종속성이 있음. 특정 업체에서만 특정 모델이 생산."
   ]
  },
  {
   "cell_type": "code",
   "execution_count": 72,
   "id": "624a57f4-96fa-478e-b60b-91e3243be4cd",
   "metadata": {},
   "outputs": [],
   "source": [
    "import csv"
   ]
  },
  {
   "cell_type": "code",
   "execution_count": 77,
   "id": "2e896e9e-89e5-4577-a4bc-f0da68abdc29",
   "metadata": {},
   "outputs": [
    {
     "data": {
      "text/plain": [
       "93"
      ]
     },
     "execution_count": 77,
     "metadata": {},
     "output_type": "execute_result"
    }
   ],
   "source": [
    "vv = list(csv.DictReader(open(\"/root/SDB2024/Python/data/v(1).csv\")))\n",
    "len(vv)  ## 튜플마다 딕셔너리로 저장되었음."
   ]
  },
  {
   "cell_type": "code",
   "execution_count": 78,
   "id": "0a6adcfb-eea6-48a5-9b7c-5881000a89c8",
   "metadata": {},
   "outputs": [
    {
     "data": {
      "text/plain": [
       "{'Manufacturer': 'Acura',\n",
       " 'Model': 'Integra',\n",
       " 'Type': 'Small',\n",
       " 'Min.Price': '12.9',\n",
       " 'Price': '15.9',\n",
       " 'Max.Price': '18.8',\n",
       " 'MPG.city': '25',\n",
       " 'MPG.highway': '31',\n",
       " 'AirBags': 'None',\n",
       " 'DriveTrain': 'Front',\n",
       " 'Cylinders': '4',\n",
       " 'EngineSize': '1.8',\n",
       " 'Horsepower': '140',\n",
       " 'RPM': '6300',\n",
       " 'Rev.per.mile': '2890',\n",
       " 'Man.trans.avail': 'Yes',\n",
       " 'Fuel.tank.capacity': '13.2',\n",
       " 'Passengers': '5',\n",
       " 'Length': '177',\n",
       " 'Wheelbase': '102',\n",
       " 'Width': '68',\n",
       " 'Turn.circle': '37',\n",
       " 'Rear.seat.room': '26.5',\n",
       " 'Luggage.room': '11',\n",
       " 'Weight': '2705',\n",
       " 'Origin': 'non-USA',\n",
       " 'Make': 'Acura Integra'}"
      ]
     },
     "execution_count": 78,
     "metadata": {},
     "output_type": "execute_result"
    }
   ],
   "source": [
    "vv[0]"
   ]
  },
  {
   "cell_type": "markdown",
   "id": "8fd622d1-b8b6-4997-92c7-c5f427366f81",
   "metadata": {},
   "source": [
    "`-` 컴프리헨션"
   ]
  },
  {
   "cell_type": "code",
   "execution_count": 81,
   "id": "82266135-8c5d-44b6-ba46-55baf60015b0",
   "metadata": {},
   "outputs": [
    {
     "name": "stdout",
     "output_type": "stream",
     "text": [
      "21\n",
      "{'Manufacturer': 'Acura', 'Model': 'Integra', 'Type': 'Small', 'Min.Price': '12.9', 'Price': '15.9', 'Max.Price': '18.8', 'MPG.city': '25', 'MPG.highway': '31', 'AirBags': 'None', 'DriveTrain': 'Front', 'Cylinders': '4', 'EngineSize': '1.8', 'Horsepower': '140', 'RPM': '6300', 'Rev.per.mile': '2890', 'Man.trans.avail': 'Yes', 'Fuel.tank.capacity': '13.2', 'Passengers': '5', 'Length': '177', 'Wheelbase': '102', 'Width': '68', 'Turn.circle': '37', 'Rear.seat.room': '26.5', 'Luggage.room': '11', 'Weight': '2705', 'Origin': 'non-USA', 'Make': 'Acura Integra'}\n"
     ]
    }
   ],
   "source": [
    "yy = [a for a in vv if a['Type'] == 'Small']\n",
    "print(len(yy))\n",
    "print(yy[0])"
   ]
  },
  {
   "cell_type": "code",
   "execution_count": 92,
   "id": "cdae2bf6-ec94-4ade-a0bf-cd9c4321a955",
   "metadata": {},
   "outputs": [
    {
     "name": "stdout",
     "output_type": "stream",
     "text": [
      "22\n",
      "['Midsize', 'Midsize', 'Midsize', 'Midsize', 'Midsize', 'Midsize', 'Midsize', 'Midsize', 'Midsize', 'Midsize', 'Midsize', 'Midsize', 'Midsize', 'Midsize', 'Midsize', 'Midsize', 'Midsize', 'Midsize', 'Midsize', 'Midsize', 'Midsize', 'Midsize']\n"
     ]
    }
   ],
   "source": [
    "maa = [a['Type']for a in vv if a['Type'].startswith(\"M\")]  ## 딕셔너리 리스트에서의 메소드인듯, M으로 시작하는 튜플들만 반환\n",
    "print(len(maa))\n",
    "print(maa)"
   ]
  },
  {
   "cell_type": "markdown",
   "id": "88a43917-d0c3-4f41-9694-85938ac286c9",
   "metadata": {},
   "source": [
    "`-` Type 변수의 빈도를 세어보고 그 중 가장 빈도가 높은 세 가지를 반환. 근데 이건 다른 방법도 많을듯."
   ]
  },
  {
   "cell_type": "code",
   "execution_count": 87,
   "id": "1f7015da-a6f9-48a2-b31e-0ac478728c85",
   "metadata": {},
   "outputs": [
    {
     "name": "stdout",
     "output_type": "stream",
     "text": [
      "Counter({'Midsize': 22, 'Small': 21, 'Compact': 16, 'Sporty': 14, 'Large': 11, 'Van': 9})\n"
     ]
    },
    {
     "data": {
      "text/plain": [
       "[('Midsize', 22), ('Small', 21), ('Compact', 16)]"
      ]
     },
     "execution_count": 87,
     "metadata": {},
     "output_type": "execute_result"
    }
   ],
   "source": [
    "from collections import Counter\n",
    "by_type = Counter(t['Type'] for t in vv)\n",
    "print(by_type)\n",
    "by_type.most_common(3)"
   ]
  },
  {
   "cell_type": "markdown",
   "id": "9049fdf6-ede4-437a-9466-e90f557c1314",
   "metadata": {},
   "source": [
    "`-` 멀티 인덱스"
   ]
  },
  {
   "cell_type": "code",
   "execution_count": 93,
   "id": "e72b4e60-79cb-48e4-9e4a-1db0dbab8adc",
   "metadata": {},
   "outputs": [
    {
     "name": "stdout",
     "output_type": "stream",
     "text": [
      "a  A    1\n",
      "b  A    2\n",
      "c  A    3\n",
      "a  B    4\n",
      "b  B    5\n",
      "c  B    6\n",
      "dtype: int64\n",
      "A    1\n",
      "B    4\n",
      "dtype: int64\n"
     ]
    },
    {
     "data": {
      "text/plain": [
       "a    4\n",
       "b    5\n",
       "c    6\n",
       "dtype: int64"
      ]
     },
     "execution_count": 93,
     "metadata": {},
     "output_type": "execute_result"
    }
   ],
   "source": [
    "da = pd.Series([1,2,3,4,5,6], index = [['a','b','c','a','b','c'], ['A','A','A','B','B','B']] )\n",
    "print(da)\n",
    "print(da['a'])\n",
    "da[:,'B']"
   ]
  },
  {
   "cell_type": "code",
   "execution_count": 95,
   "id": "4d0485df-88d4-42ab-a18b-21c7c786d1f4",
   "metadata": {},
   "outputs": [
    {
     "name": "stdout",
     "output_type": "stream",
     "text": [
      "   A  B\n",
      "a  1  4\n",
      "b  2  5\n",
      "c  3  6\n",
      "   a  b  c\n",
      "A  1  2  3\n",
      "B  4  5  6\n"
     ]
    }
   ],
   "source": [
    "print(da.unstack())\n",
    "print(da.unstack(0))  ## 기본적으론 안쪽거를 위로 올림"
   ]
  },
  {
   "cell_type": "code",
   "execution_count": 96,
   "id": "c4b162c2-c056-4936-99f4-ebf438bc1023",
   "metadata": {},
   "outputs": [
    {
     "name": "stdout",
     "output_type": "stream",
     "text": [
      "     v1  v2\n",
      "      v   v\n",
      "a A   0   1\n",
      "b A   2   3\n",
      "c A   4   5\n",
      "a B   6   7\n",
      "b B   8   9\n",
      "c B  10  11\n",
      "MultiIndex([('v1', 'v'),\n",
      "            ('v2', 'v')],\n",
      "           )\n"
     ]
    }
   ],
   "source": [
    "da = pd.DataFrame(np.arange(12).reshape(6,2), index = [['a','b','c','a','b','c'], ['A','A','A','B','B','B']], columns=[['v1','v2'],['v','v']] )\n",
    "print(da)\n",
    "print(da.columns)"
   ]
  },
  {
   "cell_type": "code",
   "execution_count": 97,
   "id": "8e03e634-56fc-44b9-b667-723b20e774f6",
   "metadata": {},
   "outputs": [
    {
     "name": "stdout",
     "output_type": "stream",
     "text": [
      "      v\n",
      "a A   0\n",
      "b A   2\n",
      "c A   4\n",
      "a B   6\n",
      "b B   8\n",
      "c B  10\n",
      "  v1 v2\n",
      "   v  v\n",
      "A  0  1\n",
      "B  6  7\n"
     ]
    }
   ],
   "source": [
    "print(da['v1'])\n",
    "print(da.loc['a'])"
   ]
  },
  {
   "cell_type": "code",
   "execution_count": 99,
   "id": "18077096-2b97-416b-bbba-bd513d15cc14",
   "metadata": {},
   "outputs": [
    {
     "name": "stdout",
     "output_type": "stream",
     "text": [
      "0\n"
     ]
    }
   ],
   "source": [
    "print(da.loc[('a', 'A'), ('v1', 'v')])"
   ]
  },
  {
   "cell_type": "markdown",
   "id": "937d6004-cfcb-4bf9-a7d2-11f0f49cdae4",
   "metadata": {},
   "source": [
    "`-` 인덱스 이름"
   ]
  },
  {
   "cell_type": "code",
   "execution_count": 100,
   "id": "2c40ec5f-a55f-4d7f-9c37-756f0fa93e70",
   "metadata": {},
   "outputs": [
    {
     "name": "stdout",
     "output_type": "stream",
     "text": [
      "c1     v1  v2\n",
      "c2      v   v\n",
      "r1 r2        \n",
      "a  A    0   1\n",
      "b  A    2   3\n",
      "c  A    4   5\n",
      "a  B    6   7\n",
      "b  B    8   9\n",
      "c  B   10  11\n"
     ]
    }
   ],
   "source": [
    "da.index.names=['r1','r2']\n",
    "da.columns.names=['c1','c2']\n",
    "print(da)"
   ]
  },
  {
   "cell_type": "code",
   "execution_count": 103,
   "id": "3d52f01f-542e-4063-99de-0c2ca1bd3d10",
   "metadata": {},
   "outputs": [
    {
     "name": "stdout",
     "output_type": "stream",
     "text": [
      "c1  c2\n",
      "v1  v     5.0\n",
      "v2  v     6.0\n",
      "dtype: float64\n",
      "r1  r2\n",
      "a   A      0.5\n",
      "b   A      2.5\n",
      "c   A      4.5\n",
      "a   B      6.5\n",
      "b   B      8.5\n",
      "c   B     10.5\n",
      "dtype: float64\n"
     ]
    }
   ],
   "source": [
    "print(da.mean())  ## default : axis = 0\n",
    "print(da.mean(axis = 1))"
   ]
  },
  {
   "cell_type": "code",
   "execution_count": null,
   "id": "423e0d6a-3d0e-4034-8d9a-0661829b0006",
   "metadata": {},
   "outputs": [],
   "source": [
    "df.to_csv(\"directory\", header = True, index = False)"
   ]
  },
  {
   "cell_type": "markdown",
   "id": "d597d3f4-81d4-4fe0-8ff8-98bca61c6287",
   "metadata": {},
   "source": [
    "`-` `Join`에 대한 부분, 중요함!"
   ]
  },
  {
   "cell_type": "code",
   "execution_count": 105,
   "id": "8e478d07-c932-4654-ab47-bf7716147148",
   "metadata": {},
   "outputs": [
    {
     "name": "stdout",
     "output_type": "stream",
     "text": [
      "  key  data1\n",
      "0   f      3\n",
      "1   g      4\n",
      "2   h      6\n",
      "  key  data2\n",
      "0   a      1\n",
      "1   g      4\n",
      "2   d      5\n",
      "3   g      7\n",
      "4   h      9\n",
      "5   h     10\n"
     ]
    }
   ],
   "source": [
    "d1 = pd.DataFrame({'key':['f','g','h'], 'data1':[3,4,6]})\n",
    "d2 = pd.DataFrame({'key':['a','g','d','g','h','h'], 'data2':[1,4,5,7,9,10]})\n",
    "print(d1)\n",
    "print(d2)"
   ]
  },
  {
   "cell_type": "code",
   "execution_count": 108,
   "id": "362b8c44-0123-42d2-af69-2a0510fd66fd",
   "metadata": {},
   "outputs": [
    {
     "data": {
      "text/html": [
       "<div>\n",
       "<style scoped>\n",
       "    .dataframe tbody tr th:only-of-type {\n",
       "        vertical-align: middle;\n",
       "    }\n",
       "\n",
       "    .dataframe tbody tr th {\n",
       "        vertical-align: top;\n",
       "    }\n",
       "\n",
       "    .dataframe thead th {\n",
       "        text-align: right;\n",
       "    }\n",
       "</style>\n",
       "<table border=\"1\" class=\"dataframe\">\n",
       "  <thead>\n",
       "    <tr style=\"text-align: right;\">\n",
       "      <th></th>\n",
       "      <th>key</th>\n",
       "      <th>data1</th>\n",
       "      <th>data2</th>\n",
       "    </tr>\n",
       "  </thead>\n",
       "  <tbody>\n",
       "    <tr>\n",
       "      <th>0</th>\n",
       "      <td>g</td>\n",
       "      <td>4</td>\n",
       "      <td>4</td>\n",
       "    </tr>\n",
       "    <tr>\n",
       "      <th>1</th>\n",
       "      <td>g</td>\n",
       "      <td>4</td>\n",
       "      <td>7</td>\n",
       "    </tr>\n",
       "    <tr>\n",
       "      <th>2</th>\n",
       "      <td>h</td>\n",
       "      <td>6</td>\n",
       "      <td>9</td>\n",
       "    </tr>\n",
       "    <tr>\n",
       "      <th>3</th>\n",
       "      <td>h</td>\n",
       "      <td>6</td>\n",
       "      <td>10</td>\n",
       "    </tr>\n",
       "  </tbody>\n",
       "</table>\n",
       "</div>"
      ],
      "text/plain": [
       "  key  data1  data2\n",
       "0   g      4      4\n",
       "1   g      4      7\n",
       "2   h      6      9\n",
       "3   h      6     10"
      ]
     },
     "execution_count": 108,
     "metadata": {},
     "output_type": "execute_result"
    }
   ],
   "source": [
    "pd.merge(d1, d2, on = \"key\")  ## 자연조인."
   ]
  },
  {
   "cell_type": "markdown",
   "id": "45d0bef6-9506-4459-940f-9d7e19de26a8",
   "metadata": {},
   "source": [
    "`-` 조인 구현 구문"
   ]
  },
  {
   "cell_type": "code",
   "execution_count": 109,
   "id": "9c8e76f4-6184-4f51-8c9a-356a3a93d11b",
   "metadata": {},
   "outputs": [
    {
     "name": "stdout",
     "output_type": "stream",
     "text": [
      "  key  data1  data2\n",
      "0   g      4      4\n",
      "1   g      4      7\n",
      "2   h      6      9\n",
      "3   h      6     10\n",
      "  key  data1  data2\n",
      "0   a    NaN      1\n",
      "1   g    4.0      4\n",
      "2   d    NaN      5\n",
      "3   g    4.0      7\n",
      "4   h    6.0      9\n",
      "5   h    6.0     10\n",
      "  key  data1  data2\n",
      "0   f      3    NaN\n",
      "1   g      4    4.0\n",
      "2   g      4    7.0\n",
      "3   h      6    9.0\n",
      "4   h      6   10.0\n",
      "  key  data1  data2\n",
      "0   f    3.0    NaN\n",
      "1   g    4.0    4.0\n",
      "2   g    4.0    7.0\n",
      "3   h    6.0    9.0\n",
      "4   h    6.0   10.0\n",
      "5   a    NaN    1.0\n",
      "6   d    NaN    5.0\n",
      "   key  data1 key2  data2\n",
      "0    f    3.0  NaN    NaN\n",
      "1    g    4.0    g    4.0\n",
      "2    g    4.0    g    7.0\n",
      "3    h    6.0    h    9.0\n",
      "4    h    6.0    h   10.0\n",
      "5  NaN    NaN    a    1.0\n",
      "6  NaN    NaN    d    5.0\n",
      "  key  data1 key2  data2\n",
      "0   g      4    g      4\n",
      "1   g      4    g      7\n",
      "2   h      6    h      9\n",
      "3   h      6    h     10\n"
     ]
    }
   ],
   "source": [
    "d1 = pd.DataFrame({'key':['f','g','h'], 'data1':[3,4,6]})\n",
    "d2 = pd.DataFrame({'key':['a','g','d','g','h','h'], 'data2':[1,4,5,7,9,10]})\n",
    "print(pd.merge(d1,d2))\n",
    "\n",
    "print(pd.merge(d1,d2, left_on='key', right_on='key', how='right'))  ## right outer join\n",
    "print(pd.merge(d1,d2, left_on='key', right_on='key', how='left'))   ## left outer join\n",
    "print(pd.merge(d1,d2, left_on='key', right_on='key', how='outer'))  ## full outer join\n",
    "\n",
    "## default : how = 'inner'\n",
    "\n",
    "d2 = pd.DataFrame({'key2':['a','g','d','g','h','h'], 'data2':[1,4,5,7,9,10]})\n",
    "print(pd.merge(d1,d2, left_on='key', right_on='key2', how='outer'))  ## 속성의 이름값이 달라도 지정이 가능\n",
    "print(pd.merge(d1,d2, left_on='key', right_on='key2', how='inner'))  ## 자연조인이 아닌, 동등조인을 해줌"
   ]
  },
  {
   "cell_type": "markdown",
   "id": "0998475d-3e0f-445d-a36f-b9a058edca96",
   "metadata": {},
   "source": [
    "`-` 집합 연산"
   ]
  },
  {
   "cell_type": "code",
   "execution_count": 115,
   "id": "7ec8944b-f7b0-4de6-b955-c1c275644248",
   "metadata": {},
   "outputs": [
    {
     "name": "stdout",
     "output_type": "stream",
     "text": [
      "A    1\n",
      "B    2\n",
      "A    2\n",
      "D    4\n",
      "E    5\n",
      "dtype: int64\n",
      "     0    1\n",
      "A  1.0  2.0\n",
      "B  2.0  NaN\n",
      "D  NaN  4.0\n",
      "E  NaN  5.0\n"
     ]
    },
    {
     "data": {
      "text/plain": [
       "one    A    1\n",
       "       B    2\n",
       "two    A    2\n",
       "       D    4\n",
       "       E    5\n",
       "three  F    6\n",
       "       G    7\n",
       "dtype: int64"
      ]
     },
     "execution_count": 115,
     "metadata": {},
     "output_type": "execute_result"
    }
   ],
   "source": [
    "s1 = pd.Series([1,2], index=['A', 'B'])\n",
    "s2 = pd.Series([2,4,5], index=['A', 'D', 'E'])\n",
    "s3 = pd.Series([6,7], index=['F', 'G'])\n",
    "\n",
    "print(pd.concat([s1,s2],axis=0))\n",
    "print(pd.concat([s1,s2],axis=1))  ## cbind, NaN값으로 표시하여 데이터 보존.\n",
    "pd.concat([s1, s2, s3], keys=['one', 'two', 'three'])  ## index를 멀티로 따로 지정해줌. 어떤 개체에서 왔는지를 명시"
   ]
  },
  {
   "cell_type": "code",
   "execution_count": 118,
   "id": "b2a071c7-f98a-451a-a26b-7a047322de59",
   "metadata": {},
   "outputs": [
    {
     "name": "stdout",
     "output_type": "stream",
     "text": [
      "   one  two\n",
      "A    1    2\n"
     ]
    },
    {
     "data": {
      "text/html": [
       "<div>\n",
       "<style scoped>\n",
       "    .dataframe tbody tr th:only-of-type {\n",
       "        vertical-align: middle;\n",
       "    }\n",
       "\n",
       "    .dataframe tbody tr th {\n",
       "        vertical-align: top;\n",
       "    }\n",
       "\n",
       "    .dataframe thead th {\n",
       "        text-align: right;\n",
       "    }\n",
       "</style>\n",
       "<table border=\"1\" class=\"dataframe\">\n",
       "  <thead>\n",
       "    <tr style=\"text-align: right;\">\n",
       "      <th></th>\n",
       "      <th>one</th>\n",
       "      <th>two</th>\n",
       "    </tr>\n",
       "  </thead>\n",
       "  <tbody>\n",
       "    <tr>\n",
       "      <th>A</th>\n",
       "      <td>1.0</td>\n",
       "      <td>2.0</td>\n",
       "    </tr>\n",
       "    <tr>\n",
       "      <th>B</th>\n",
       "      <td>2.0</td>\n",
       "      <td>NaN</td>\n",
       "    </tr>\n",
       "    <tr>\n",
       "      <th>D</th>\n",
       "      <td>NaN</td>\n",
       "      <td>4.0</td>\n",
       "    </tr>\n",
       "    <tr>\n",
       "      <th>E</th>\n",
       "      <td>NaN</td>\n",
       "      <td>5.0</td>\n",
       "    </tr>\n",
       "  </tbody>\n",
       "</table>\n",
       "</div>"
      ],
      "text/plain": [
       "   one  two\n",
       "A  1.0  2.0\n",
       "B  2.0  NaN\n",
       "D  NaN  4.0\n",
       "E  NaN  5.0"
      ]
     },
     "execution_count": 118,
     "metadata": {},
     "output_type": "execute_result"
    }
   ],
   "source": [
    "print(pd.concat([s1, s2], join='inner', axis=1, keys=['one', 'two']))  ## 조인하듯 없애버림\n",
    "pd.concat([s1, s2], axis=1, keys=['one', 'two'])"
   ]
  },
  {
   "cell_type": "markdown",
   "id": "f1982b15-11f6-462d-905d-12a81ae9b74d",
   "metadata": {},
   "source": [
    "`-` 중복 여부 확인"
   ]
  },
  {
   "cell_type": "code",
   "execution_count": 119,
   "id": "08457c8b-19c1-47df-afd2-b074baf0429d",
   "metadata": {},
   "outputs": [
    {
     "name": "stdout",
     "output_type": "stream",
     "text": [
      "  key  data1\n",
      "0   g      3\n",
      "1   g      4\n",
      "2   h      4\n"
     ]
    }
   ],
   "source": [
    "d1 = pd.DataFrame({'key':['g','g','h'], 'data1':[3,4,4]})\n",
    "d1.duplicated()\n",
    "print(d1)"
   ]
  },
  {
   "cell_type": "code",
   "execution_count": 121,
   "id": "62def499-788b-4095-8b8b-066dc915a59a",
   "metadata": {},
   "outputs": [
    {
     "data": {
      "text/plain": [
       "0    False\n",
       "1    False\n",
       "2    False\n",
       "dtype: bool"
      ]
     },
     "execution_count": 121,
     "metadata": {},
     "output_type": "execute_result"
    }
   ],
   "source": [
    "d1.duplicated()  ## 튜플의 유일성 만족"
   ]
  },
  {
   "cell_type": "markdown",
   "id": "380d3f1b-a7ed-4df1-a5a0-85d749800855",
   "metadata": {},
   "source": [
    "`-` 중복을 없앨 때, 중복된 값 중 마지막을 남겨둠."
   ]
  },
  {
   "cell_type": "code",
   "execution_count": 123,
   "id": "e63b8f0e-45a7-4876-b3af-1683c74bb64e",
   "metadata": {},
   "outputs": [
    {
     "data": {
      "text/html": [
       "<div>\n",
       "<style scoped>\n",
       "    .dataframe tbody tr th:only-of-type {\n",
       "        vertical-align: middle;\n",
       "    }\n",
       "\n",
       "    .dataframe tbody tr th {\n",
       "        vertical-align: top;\n",
       "    }\n",
       "\n",
       "    .dataframe thead th {\n",
       "        text-align: right;\n",
       "    }\n",
       "</style>\n",
       "<table border=\"1\" class=\"dataframe\">\n",
       "  <thead>\n",
       "    <tr style=\"text-align: right;\">\n",
       "      <th></th>\n",
       "      <th>key</th>\n",
       "      <th>data1</th>\n",
       "    </tr>\n",
       "  </thead>\n",
       "  <tbody>\n",
       "    <tr>\n",
       "      <th>0</th>\n",
       "      <td>g</td>\n",
       "      <td>3</td>\n",
       "    </tr>\n",
       "    <tr>\n",
       "      <th>2</th>\n",
       "      <td>h</td>\n",
       "      <td>4</td>\n",
       "    </tr>\n",
       "  </tbody>\n",
       "</table>\n",
       "</div>"
      ],
      "text/plain": [
       "  key  data1\n",
       "0   g      3\n",
       "2   h      4"
      ]
     },
     "execution_count": 123,
     "metadata": {},
     "output_type": "execute_result"
    }
   ],
   "source": [
    "d1.drop_duplicates(['data1'], keep='last')  ## 'data1'을 기준으로 중복을 제거, (h, 4)가 남았음."
   ]
  },
  {
   "cell_type": "markdown",
   "id": "d201b809-df17-46d3-86fb-6ad0f84a014f",
   "metadata": {},
   "source": [
    "`-` 키와 데이터프레임으로 나뉘는 객체 생성"
   ]
  },
  {
   "cell_type": "code",
   "execution_count": 124,
   "id": "5b1662c8-5b5a-4502-9135-2ebf798f7cca",
   "metadata": {},
   "outputs": [
    {
     "name": "stdout",
     "output_type": "stream",
     "text": [
      "<pandas.core.groupby.generic.SeriesGroupBy object at 0x7f2ab1023cd0>\n"
     ]
    }
   ],
   "source": [
    "dd = d1['data1'].groupby(d1['key'])\n",
    "print(dd)"
   ]
  },
  {
   "cell_type": "markdown",
   "id": "3f40ec33-2a67-479a-9e91-744cf55c339d",
   "metadata": {},
   "source": [
    "`-` 객체를 `key`로 구분하여 평균을 출력(리스트 컴프리헨션을 사용하여 연산하기 편하게 만들어짐.)"
   ]
  },
  {
   "cell_type": "code",
   "execution_count": 125,
   "id": "e5929f4d-83a3-4230-9735-b036fbf7f7f8",
   "metadata": {},
   "outputs": [
    {
     "data": {
      "text/plain": [
       "key\n",
       "g    3.5\n",
       "h    4.0\n",
       "Name: data1, dtype: float64"
      ]
     },
     "execution_count": 125,
     "metadata": {},
     "output_type": "execute_result"
    }
   ],
   "source": [
    "dd.mean()"
   ]
  },
  {
   "cell_type": "code",
   "execution_count": 130,
   "id": "bc0c78a6-7137-4957-8c77-481949284338",
   "metadata": {},
   "outputs": [
    {
     "data": {
      "text/plain": [
       "[3.5, 4.0]"
      ]
     },
     "execution_count": 130,
     "metadata": {},
     "output_type": "execute_result"
    }
   ],
   "source": [
    "[v.mean() for k, v in dd]"
   ]
  },
  {
   "cell_type": "markdown",
   "id": "36b1a0ca-ef6f-4f01-8548-83f8f538511a",
   "metadata": {},
   "source": [
    "`-` `key`로 구분하여 평균, 최솟값, 중앙값을 출력"
   ]
  },
  {
   "cell_type": "code",
   "execution_count": 131,
   "id": "dceb7595-74e7-4286-944c-e87b86a5ca53",
   "metadata": {},
   "outputs": [
    {
     "data": {
      "text/plain": [
       "key\n",
       "g    4\n",
       "h    4\n",
       "Name: data1, dtype: int64"
      ]
     },
     "execution_count": 131,
     "metadata": {},
     "output_type": "execute_result"
    }
   ],
   "source": [
    "dd.max()"
   ]
  },
  {
   "cell_type": "code",
   "execution_count": 132,
   "id": "e5c49754-40ff-403b-9d8c-f5388a268f2b",
   "metadata": {},
   "outputs": [
    {
     "data": {
      "text/plain": [
       "key\n",
       "g    3\n",
       "h    4\n",
       "Name: data1, dtype: int64"
      ]
     },
     "execution_count": 132,
     "metadata": {},
     "output_type": "execute_result"
    }
   ],
   "source": [
    "dd.min()"
   ]
  },
  {
   "cell_type": "code",
   "execution_count": 133,
   "id": "d9443172-f0ca-4abf-a19e-00340fc4943f",
   "metadata": {},
   "outputs": [
    {
     "data": {
      "text/plain": [
       "key\n",
       "g    3.5\n",
       "h    4.0\n",
       "Name: data1, dtype: float64"
      ]
     },
     "execution_count": 133,
     "metadata": {},
     "output_type": "execute_result"
    }
   ],
   "source": [
    "dd.median()"
   ]
  }
 ],
 "metadata": {
  "kernelspec": {
   "display_name": "Python 3 (ipykernel)",
   "language": "python",
   "name": "python3"
  },
  "language_info": {
   "codemirror_mode": {
    "name": "ipython",
    "version": 3
   },
   "file_extension": ".py",
   "mimetype": "text/x-python",
   "name": "python",
   "nbconvert_exporter": "python",
   "pygments_lexer": "ipython3",
   "version": "3.10.13"
  }
 },
 "nbformat": 4,
 "nbformat_minor": 5
}
