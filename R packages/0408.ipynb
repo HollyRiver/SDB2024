{
 "cells": [
  {
   "cell_type": "markdown",
   "id": "5545c871-7564-40f2-8d53-5c8f6770b805",
   "metadata": {},
   "source": [
    "`-` R 패키지\n",
    "\n",
    "> CRAN에서 pdf를 다운받으면 그 설명이 가장 상세하다."
   ]
  },
  {
   "cell_type": "code",
   "execution_count": null,
   "id": "a8a9ac7e-84d4-4b9e-8c54-04dd281ec45f",
   "metadata": {},
   "outputs": [],
   "source": [
    "install.packages(\"remotes\")\n",
    "library(remotes)"
   ]
  },
  {
   "cell_type": "code",
   "execution_count": null,
   "id": "4beb3684-6154-4133-be90-59c00c5ec525",
   "metadata": {},
   "outputs": [],
   "source": [
    "install_github(\"URL\", force = TRUE)  ## 깃허브에 있는 것을 직접 인스톨하는 것"
   ]
  },
  {
   "cell_type": "code",
   "execution_count": 1,
   "id": "ac52de39-97b2-43e1-abed-4dd3f18b8001",
   "metadata": {},
   "outputs": [],
   "source": [
    "library(MASS)"
   ]
  },
  {
   "cell_type": "code",
   "execution_count": 2,
   "id": "cc5ad248-8a3b-44ff-b304-e2c52eebe6bc",
   "metadata": {},
   "outputs": [
    {
     "name": "stderr",
     "output_type": "stream",
     "text": [
      "Warning message in ls(packages:MASS):\n",
      "“‘packages:MASS’ converted to character string”\n"
     ]
    },
    {
     "ename": "ERROR",
     "evalue": "Error in as.environment(pos): no item called \"packages:MASS\" on the search list\n",
     "output_type": "error",
     "traceback": [
      "Error in as.environment(pos): no item called \"packages:MASS\" on the search list\nTraceback:\n",
      "1. ls(packages:MASS)"
     ]
    }
   ],
   "source": [
    "ls(packages:MASS)"
   ]
  },
  {
   "cell_type": "code",
   "execution_count": null,
   "id": "563a1d18-d4ec-469f-afaa-70fbd94e9718",
   "metadata": {},
   "outputs": [],
   "source": []
  }
 ],
 "metadata": {
  "kernelspec": {
   "display_name": "R",
   "language": "R",
   "name": "ir"
  },
  "language_info": {
   "codemirror_mode": "r",
   "file_extension": ".r",
   "mimetype": "text/x-r-source",
   "name": "R",
   "pygments_lexer": "r",
   "version": "4.3.3"
  }
 },
 "nbformat": 4,
 "nbformat_minor": 5
}
