{
 "cells": [
  {
   "cell_type": "markdown",
   "id": "99b5b10b-b5f9-4139-b635-9a7db344c1e3",
   "metadata": {},
   "source": [
    "### QnA"
   ]
  },
  {
   "cell_type": "markdown",
   "id": "61e9bb79-f44f-4eb0-9af2-f516912c5f14",
   "metadata": {},
   "source": [
    "* Midterm exam : 4월 15일(월) (예정)"
   ]
  },
  {
   "cell_type": "markdown",
   "id": "c80b0da4-a3ea-4ec4-97d5-ac3d6e2922fd",
   "metadata": {},
   "source": [
    "문제풀이 + $\\alpha$"
   ]
  },
  {
   "cell_type": "markdown",
   "id": "58cceb45-3cda-4339-9873-89184a32b434",
   "metadata": {},
   "source": [
    "* 데이터베이스의 정의와 네 가지 데이터 정의 : 공유 / 통합 / 저장 / 운영\n",
    "\n",
    "* 데이터베이스의 네 가지 특징 : 동시 공유 / 실시간 접근성 / 내용 기반 참조 / 계속 변화\n",
    "\n",
    "* 범주형 데이터에서 성별은 (명목)형이며, 학점은 (순서)형이다. : 명목 / 순서 / 이산 / 연속\n",
    "\n",
    "* 파일의 구조가 바뀌면 응용프로그램도 함께 변경해야 한다면 이는 데이터의 (무결성)에 문제가 있다고 할 수 있다. : 무결성의 개념, 데이터베이스 관리 시스템 유지 및 운영의 지속성을 확보하기 위한 모든 것들\n",
    "\n",
    "* 사용자의 요구에 따라 데이터에 접근하고, 삽입/삭제/수정/검색을 위한 데이터 언어를 데이터(조작어)라고 한다. : 데이터 정의어 / 데이터 조작어 / 데이터 제어어\n",
    "\n",
    "* 데이터베이스 관리시스템은 (데이터 독립성 유지, 데이터 중복성 회피)라는 장점과, (중앙집중적 시스템에 의한 취약점 존재, 시스템 장애 원인 파악과 백업이 어려워 회복이 곤란)하다는 단점이 있다. : 일부 마비 -> 전체 업무 중단\n",
    "\n",
    "* 대체로 4단계로 구분되는 DBMS에 현재도 많이 쓰이는 관계 DBMS는 (2)단계에 해당한다. : 관계 DBMS의 단계\n",
    "\n",
    "* 객체 성격과 관계 성격을 동반한 (개체-관계) DBMS가 존재하며 이는 일반적으로 3단계의 형태로 구성된다.\n",
    "\n",
    "* Non(SQL) DBMS는 (SQL)을 사용하지 않는 DBMS로 관계 DBMS와 기본 철학이 다르다. : CAP중 Partitional Tolerance를 중시\n",
    "\n",
    "* 메타 데이터는 1)데이터 관리 시스템이 생성하고, 2)일반 이용자는 검색만 가능하며, 같은 의미로는 시스템 데이터베이스, 데이터 사전 또는 시스템 (카탈로그)가 있다. : 메타데이터에 대한 표현, 데이터 사전 / 카탈로그\n",
    "\n",
    "* 데이터베이스의 스키마를 정의-변경-삭제하는 데이터 언어를 데이터 (정의어)라고 한다. : 제이터 정의어 - 조작어 - 제어어\n",
    "\n",
    "* 데이터 모델링은 크게 (연산), 데이터 구조, 그리고 제약조건으로 구성된다. : 데이터 모델링의 구성\n",
    "\n",
    "* 개체의 특성을 (속성)이라 하며, 속성이 실제 값을 가지면 개체 (인스턴스)가 된다. : E-R 모델에서의 명칭\n",
    "\n",
    "* 속성은 일반적으로 의미있는 데이터의 가장 작은 (논리적) 단위이다. : 속성의 원자성\n",
    "\n",
    "* 속성은 단일값/다중값, 단순/복합, (유도) 속성으로 나뉜다.\n",
    "\n",
    "* 개체-관계 다이어그램에서 개체는 사각형, 관계는 (다이아몬드), 속성은 원으로 표시하며, 개체가 여러 개의 속성을 가진다는 것은 개체-관계 다이어그램에서 여러 개의 (원)을 가진다는 의미이다.\n",
    "\n",
    "* 아직 결정되지 않았거나 모르는 값을 (NULL)값이라고 한다. : NULL값의 정의\n",
    "\n",
    "* 관게는 일대일 관계만을 고려하지 않고 (일대다) 관계와 (다대다) 관계를 고려하게 된다. 또한 관계에서 종속성이 존재한다면 이를 (이중) 마름모선으로 표시한다. : 유도속성, 종속관계 성립 시\n",
    "\n",
    "* 고객이 반드시 구매를 하는 상황이라면 고객과 구매는 종속이지만 구매할 책이 존재하지 않는다면 구매와 책은 (종속)이 아니다. : 구매를 해야만 책이 있는 것은 아님, 고객은 구매를 했으니까 존재함.\n",
    "\n",
    "* 개체-관계 다이어그램은 데이터베이스에 저장될 파일의 (스키마)에 대한 정보를 줄 수 있다. : 스키마의 이름을 담고 있음\n",
    "\n",
    "* 개체는 반드시 (물리적) 실체일 필요는 없으며, 개념적 정의 사용이 가능하다. : 물리적 / 개념적 -> entity\n",
    "\n",
    "* 데이터 모델링은 크게 개념 모델링과 (논리) 모델링이 있다. : 전체 구조를 잡는 모델링\n",
    "\n",
    "* 릴레이션은 여러 개 존재할 수 있으며 각각의 릴레이션은 릴레이션 이름 (속성) 이름들로 구별된다. : 개체와 속성으로 값이 나뉘어지니까\n",
    "\n",
    "* 튜플의 유일성은 속성의 부분집합인 키로 구별되며, 이때 사용될 수 있는 키는 (슈퍼키), (후보키), (기본키)가 있다. : + 대체키\n",
    "\n",
    "* 기본키는 (NULL)값을 가질 수 없으나, (외래)키는 (NULL)값을 가질 수 있다. : 아직 결정되지 않았거나 모르는 값. 개체 무결성 제약\n",
    "\n",
    "* 기본키와 외래키는 (도메인)이 같아야 하며, 만약에 기본키 중 특정값이 삭제된다면 그 값에 해당하는 외래키 값에 널값을 넣거나 해당 (튜플)을 삭제해야 한다. : 참조 무결성 제약\n",
    "\n",
    "* 관계 데이터의 무결성을 위해서는 기본키가 (NULL)값을 가지면 안되며, 이를 위해서 (NULL)값에 대한 입력 자체를 제한해야 한다.\n",
    "\n",
    "* (참조 무결성) 제약조건은 외래키의 도메인과 기본키의 도메인을 일치시켜야 하는 제약조건이다.\n",
    "\n",
    "* 릴레이션에서 차수는 (속성의 개수)를 카디널리티는 (튜플의 개수)를 의미한다. : 속성의 증가는 복잡도를 증가시키므로 차수, 튜플은 원소의 값이므로 카디널리티\n",
    "\n",
    "* 만약의 외래키의 값을 ()하는 경우 참조 무결성 제약조건에 영향을 주게 된다. : 변경, 삭제, 추가 등등"
   ]
  },
  {
   "cell_type": "markdown",
   "id": "0f8e8f92-dbdf-4d62-8c7a-5ba0bca56f1b",
   "metadata": {},
   "source": [
    "`-` OX\n",
    "\n",
    "* 비정형 데이터는 수치화가 불가능한 데이터이다. X : 컴퓨터로 읽어와야 하므로 무조건 수치화가 이루어짐\n",
    "\n",
    "* 비정형 데이터는 다차원 배열 / 텐서를 이용해서 표현이 가능한 경우가 많으며, 그 길이나 차원이 가변적일 수 있다. O\n",
    "\n",
    "* 이미지나 음성 데이터는 기본적으로 비정형 데이터로 속성을 정의하기가 쉽다. X : 애초에 비정형 데이터는 속성을 정의하기가 어려움. 둘 중 하나만 맞는 것.\n",
    "\n",
    "* 비정형 데이터로 데이터베이스를 구축하는 것은 불가능하다. X : Non-SQL DBMS\n",
    "\n",
    "* 몽고 DB는 key-document 구조의 비정형 데이터베이스이다. O\n",
    "\n",
    "* 몽고 DB는 컬렉션이 관계 DB의 속성에 해당한다. X : 컬렉션, 다큐먼트, 필드\n",
    "\n",
    "* 몽고 DB에선 빠른 검색 자체가 불가능하다. O : 비정형 데이터는 어렵다.\n",
    "\n",
    "* 분산환경 하에 DB는 Consistency, Availability, Partitions Tolerance를 동시에 만족하기 위해서 노력해야 하며, 이를 동시에 만족하는 해가 존재한다. X : CA는 관계형 데이터베이스, P는 분산환경의 비정형 데이터베이스에 초점을 맞춘다. 일관성과 분할 작동은 공존하기 어렵다."
   ]
  },
  {
   "cell_type": "markdown",
   "id": "6cd451d9-e11d-49e5-b7fe-59a02092fc45",
   "metadata": {},
   "source": [
    "`-` 연산\n",
    "\n",
    "|번호|이름|나이|\n",
    "|-|-|-|\n",
    "|1|김민서|30|\n",
    "|2|이나영|25|\n",
    "\n",
    "|번호|이름|나이|\n",
    "|-|-|-|\n",
    "|1|김민서|30|\n",
    "|4|이철희|27|\n",
    "\n",
    "* 오른쪽과 왼쪽 릴레이션에 대한 합집합과 교집합을 구하시오.(교집합을 G라 명명)\n",
    "> 튜플의 개수 : 원소의 개수\n",
    "\n",
    "|번호|이름|나이|\n",
    "|-|-|-|\n",
    "|1|김민서|30|\n",
    "|2|이나영|25|\n",
    "|4|이철희|27|\n",
    "\n",
    "|번호|이름|나이|\n",
    "|-|-|-|\n",
    "|1|김민서|30|\n",
    "\n",
    "* 오른쪽 릴레이션에서 왼쪽 릴레이션에 대한 차집합을 구하시오.\n",
    "\n",
    "|번호|이름|나이|\n",
    "|-|-|-|\n",
    "|2|이나영|25|\n",
    "\n",
    "|이름|나이|주소|성별|학년|주거형태|\n",
    "|-|-|-|-|-|-|\n",
    "|김민서|30|경기|남|4|원룸|\n",
    "|이나영|25|광주|여|3|기숙사|\n",
    "|김주형|30|전주|남|3|자택|\n",
    "\n",
    "* 교집합과 위 릴레이션의 카티션 프로덕트를 구하시오 (H라 명명)\n",
    "> 차수가 9인 릴레이션이 나옴\n",
    "\n",
    "|G.번호|G.이름|G.나이|S.이름|S.나이|S.주소|S.성별|S.학년|S.주거형태|\n",
    "|-|-|-|-|-|-|-|-|-|\n",
    "|1|김민서|30|김민서|30|경기|남|4|원룸|\n",
    "|1|김민서|30|이나영|25|광주|여|3|기숙사|\n",
    "|1|김민서|30|김주형|30|전주|남|3|자택|\n",
    "\n",
    "* H에서 이름이 겹치는 튜플만 남기기 위한 select 구문을 기술하고, 그 결과를 구하시오.\n",
    "\n",
    "$$\\sigma_{R.이름 = S.이름}(H)$$\n",
    "\n",
    "|R.번호|R.이름|R.나이|S.이름|S.나이|S.주소|S.성별|S.학년|S.주거형태|\n",
    "|-|-|-|-|-|-|-|-|-|\n",
    "|1|김민서|30|김민서|30|경기|남|4|원룸|\n",
    "\n",
    "각 속성에 대해서 릴레이션의 이름을 붙여 구분하기 편하게 한다. (동등조인)\n",
    "\n",
    "\n",
    "* 왼쪽 릴레이션에서 번호와 이름만으로 구성된 릴레이션을 구하기 위한 project 구문을 쓰고 이를 구하시오. (K로 명명)\n",
    "\n",
    "$$\\pi_{이름, 번호}(R)$$\n",
    "\n",
    "* 오른쪽 릴레이션을 K로 division한 결과를 구하시오.\n",
    "\n",
    "|번호|이름|나이|주소|\n",
    "|-|-|-|-|\n",
    "|1|김민서|20|서울|\n",
    "|2|이나영|30|전주|\n",
    "|5|김철수|25|경기|\n",
    "\n",
    "|번호|이름|학년|키|\n",
    "|-|-|-|-|\n",
    "|1|김민서|3|167|\n",
    "|2|이나영|3|158|\n",
    "|3|김민서|3|180|\n",
    "\n",
    "* 두 개의 릴레이션에 대한 자연조인에 대한 구문을 쓰고 이를 구하시오. (번호와 이름으로 데이터 보존)\n",
    "$$R\\Join_NS$$\n",
    "\n",
    "|번호|이름|나이|주소|학년|키|\n",
    "|-|-|-|-|-|-|\n",
    "|1|김민서|20|서울|3|167|\n",
    "|2|이나영|30|전주|3|158|\n",
    "\n",
    "> 둘 중 하나를 지우는 것, 안지우면 동등조인이고 이름을 달라지게 해야.\n",
    "\n",
    "* 두 개의 릴레이션에 대한 전체 외부조인의 구문을 쓰고 이를 구하시오.\n",
    "\n",
    "|번호|이름|나이|주소|학년|키|\n",
    "|-|-|-|-|-|-|\n",
    "|1|김민서|20|서울|3|167|\n",
    "|2|이나영|30|전주|3|158|\n",
    "|3|김민서|NULL|NULL|3|180|\n",
    "|5|김철수|25|경기|NULL|NULL|\n",
    "\n",
    "* 두 개의 릴레이션에 대한 자연조인 (이름으로)\n",
    "\n",
    "|번호|번호|이름|나이|주소|학년|키|\n",
    "|-|-|-|-|-|-|-|\n",
    "|1|1|김민서|20|서울|3|167|\n",
    "|1|3|김민서|20|서울|4|180|\n",
    "|2|2|이나영|30|전주|3|158|\n",
    "\n",
    "> 중복되는 경우 카티션 프로덕트로 나오게 된다. 즉, 왠만해선 조인을 할 때 기본키에 해당하는 것으로 하는 게 좋다.\n",
    "\n",
    "* 두 개의 릴레이션에 대한 오른쪽 세미조인의 구문을 쓰고 이를 구하시오.\n",
    "\n",
    "|번호|이름|나이|주소|\n",
    "|-|-|-|-|\n",
    "|1|김민서|20|서울|\n",
    "|2|이나영|30|전주|"
   ]
  },
  {
   "cell_type": "markdown",
   "id": "4b778641-10aa-4088-b46c-7d88d5b73488",
   "metadata": {},
   "source": [
    "* 세타조인 : 속성의 종류로 조인\n",
    "\n",
    "$$R \\Join_{R.ID < S.ID} S$$\n",
    "\n",
    "> 릴레이션 간 비교를 하기 위한 조인이라고 보면 된다. (일반적인 조인, 조건을 만족하는 것들을 다 붙여야 함)\n",
    ">\n",
    "> 그냥 카티션 프로덕트를 먼저 만들어놓고 조건에 해당하는 것만 고르면 된다. (select)"
   ]
  },
  {
   "cell_type": "markdown",
   "id": "4dabb191-baea-49b4-ae2b-b5fd44abe002",
   "metadata": {},
   "source": [
    "`-` R 코드 리뷰"
   ]
  },
  {
   "cell_type": "markdown",
   "id": "953223c3-bed0-4d5f-8554-d9ef9043c55a",
   "metadata": {},
   "source": [
    "R은 기본적으로 벡터의 형식으로 자료를 저장한다."
   ]
  },
  {
   "cell_type": "code",
   "execution_count": 7,
   "id": "b4f37d22-28a3-413c-a86f-cb69b2a01fbf",
   "metadata": {},
   "outputs": [
    {
     "name": "stdout",
     "output_type": "stream",
     "text": [
      "[1] TRUE\n",
      "[1] TRUE\n"
     ]
    }
   ],
   "source": [
    "## 논리연산자\n",
    "print(1 < 5 && 5 > 3)  ## 그냥 &, |는 bool이 저장된 벡터간 논리연산을 한다.\n",
    "print(1 > 3 || 5 > 3)"
   ]
  },
  {
   "cell_type": "code",
   "execution_count": 12,
   "id": "459db115-a017-40e4-90aa-fe312eb132e9",
   "metadata": {},
   "outputs": [
    {
     "data": {
      "text/html": [
       "'list'"
      ],
      "text/latex": [
       "'list'"
      ],
      "text/markdown": [
       "'list'"
      ],
      "text/plain": [
       "[1] \"list\""
      ]
     },
     "metadata": {},
     "output_type": "display_data"
    },
    {
     "data": {
      "text/html": [
       "'data.frame'"
      ],
      "text/latex": [
       "'data.frame'"
      ],
      "text/markdown": [
       "'data.frame'"
      ],
      "text/plain": [
       "[1] \"data.frame\""
      ]
     },
     "metadata": {},
     "output_type": "display_data"
    }
   ],
   "source": [
    "## 자료형\n",
    "mode(data.frame(x = 1, y = 2))  ## data formation\n",
    "class(data.frame(x = 1, y = 2)) ## data resourse"
   ]
  },
  {
   "cell_type": "code",
   "execution_count": 13,
   "id": "edde86ea-9bf1-4262-a1e7-416443779676",
   "metadata": {},
   "outputs": [
    {
     "name": "stderr",
     "output_type": "stream",
     "text": [
      "Warning message in 1:3 + 1:40:\n",
      "“longer object length is not a multiple of shorter object length”\n"
     ]
    },
    {
     "data": {
      "text/html": [
       "<style>\n",
       ".list-inline {list-style: none; margin:0; padding: 0}\n",
       ".list-inline>li {display: inline-block}\n",
       ".list-inline>li:not(:last-child)::after {content: \"\\00b7\"; padding: 0 .5ex}\n",
       "</style>\n",
       "<ol class=list-inline><li>2</li><li>4</li><li>6</li><li>5</li><li>7</li><li>9</li><li>8</li><li>10</li><li>12</li><li>11</li><li>13</li><li>15</li><li>14</li><li>16</li><li>18</li><li>17</li><li>19</li><li>21</li><li>20</li><li>22</li><li>24</li><li>23</li><li>25</li><li>27</li><li>26</li><li>28</li><li>30</li><li>29</li><li>31</li><li>33</li><li>32</li><li>34</li><li>36</li><li>35</li><li>37</li><li>39</li><li>38</li><li>40</li><li>42</li><li>41</li></ol>\n"
      ],
      "text/latex": [
       "\\begin{enumerate*}\n",
       "\\item 2\n",
       "\\item 4\n",
       "\\item 6\n",
       "\\item 5\n",
       "\\item 7\n",
       "\\item 9\n",
       "\\item 8\n",
       "\\item 10\n",
       "\\item 12\n",
       "\\item 11\n",
       "\\item 13\n",
       "\\item 15\n",
       "\\item 14\n",
       "\\item 16\n",
       "\\item 18\n",
       "\\item 17\n",
       "\\item 19\n",
       "\\item 21\n",
       "\\item 20\n",
       "\\item 22\n",
       "\\item 24\n",
       "\\item 23\n",
       "\\item 25\n",
       "\\item 27\n",
       "\\item 26\n",
       "\\item 28\n",
       "\\item 30\n",
       "\\item 29\n",
       "\\item 31\n",
       "\\item 33\n",
       "\\item 32\n",
       "\\item 34\n",
       "\\item 36\n",
       "\\item 35\n",
       "\\item 37\n",
       "\\item 39\n",
       "\\item 38\n",
       "\\item 40\n",
       "\\item 42\n",
       "\\item 41\n",
       "\\end{enumerate*}\n"
      ],
      "text/markdown": [
       "1. 2\n",
       "2. 4\n",
       "3. 6\n",
       "4. 5\n",
       "5. 7\n",
       "6. 9\n",
       "7. 8\n",
       "8. 10\n",
       "9. 12\n",
       "10. 11\n",
       "11. 13\n",
       "12. 15\n",
       "13. 14\n",
       "14. 16\n",
       "15. 18\n",
       "16. 17\n",
       "17. 19\n",
       "18. 21\n",
       "19. 20\n",
       "20. 22\n",
       "21. 24\n",
       "22. 23\n",
       "23. 25\n",
       "24. 27\n",
       "25. 26\n",
       "26. 28\n",
       "27. 30\n",
       "28. 29\n",
       "29. 31\n",
       "30. 33\n",
       "31. 32\n",
       "32. 34\n",
       "33. 36\n",
       "34. 35\n",
       "35. 37\n",
       "36. 39\n",
       "37. 38\n",
       "38. 40\n",
       "39. 42\n",
       "40. 41\n",
       "\n",
       "\n"
      ],
      "text/plain": [
       " [1]  2  4  6  5  7  9  8 10 12 11 13 15 14 16 18 17 19 21 20 22 24 23 25 27 26\n",
       "[26] 28 30 29 31 33 32 34 36 35 37 39 38 40 42 41"
      ]
     },
     "metadata": {},
     "output_type": "display_data"
    }
   ],
   "source": [
    "## operation with two vector differnt length\n",
    "1:3 + 1:40  ## times short vector"
   ]
  },
  {
   "cell_type": "code",
   "execution_count": 20,
   "id": "f3ec4266-3d9b-4e9a-acbf-47a4f6168464",
   "metadata": {},
   "outputs": [
    {
     "data": {
      "text/html": [
       "<style>\n",
       ".list-inline {list-style: none; margin:0; padding: 0}\n",
       ".list-inline>li {display: inline-block}\n",
       ".list-inline>li:not(:last-child)::after {content: \"\\00b7\"; padding: 0 .5ex}\n",
       "</style>\n",
       "<ol class=list-inline><li>1</li><li>0</li><li>0</li></ol>\n"
      ],
      "text/latex": [
       "\\begin{enumerate*}\n",
       "\\item 1\n",
       "\\item 0\n",
       "\\item 0\n",
       "\\end{enumerate*}\n"
      ],
      "text/markdown": [
       "1. 1\n",
       "2. 0\n",
       "3. 0\n",
       "\n",
       "\n"
      ],
      "text/plain": [
       "[1] 1 0 0"
      ]
     },
     "metadata": {},
     "output_type": "display_data"
    }
   ],
   "source": [
    "## multy variable assign\n",
    "a = c(1,2,3)\n",
    "a[which(a >= 2)] = 0\n",
    "a"
   ]
  },
  {
   "cell_type": "code",
   "execution_count": 22,
   "id": "c1c5f62d-d912-4ac2-8b8f-b5690d4e8fa6",
   "metadata": {},
   "outputs": [
    {
     "name": "stdout",
     "output_type": "stream",
     "text": [
      ", , 1\n",
      "\n",
      "     [,1] [,2]\n",
      "[1,]    1    3\n",
      "[2,]    2    4\n",
      "\n",
      ", , 2\n",
      "\n",
      "     [,1] [,2]\n",
      "[1,]    5    7\n",
      "[2,]    6    8\n",
      "\n",
      ", , 3\n",
      "\n",
      "     [,1] [,2]\n",
      "[1,]    9   11\n",
      "[2,]   10   12\n",
      "\n"
     ]
    }
   ],
   "source": [
    "## array\n",
    "print(array(1:12, c(2,2,3)))"
   ]
  },
  {
   "cell_type": "markdown",
   "id": "a4095cc7-26da-4512-af52-815abd9a570f",
   "metadata": {},
   "source": [
    "> 파이썬은 뒤 두개가 행, 열인데 여기는 수학적으로 생각함(스택의 개념이 아님). 그리고 행렬 구조를 유지하고자 함"
   ]
  },
  {
   "cell_type": "code",
   "execution_count": 23,
   "id": "254b7df8-f2e7-4248-bcd9-08543e111a3b",
   "metadata": {},
   "outputs": [
    {
     "data": {
      "text/html": [
       "<table class=\"dataframe\">\n",
       "<caption>A data.frame: 3 × 2</caption>\n",
       "<thead>\n",
       "\t<tr><th></th><th scope=col>a</th><th scope=col>b</th></tr>\n",
       "\t<tr><th></th><th scope=col>&lt;dbl&gt;</th><th scope=col>&lt;dbl&gt;</th></tr>\n",
       "</thead>\n",
       "<tbody>\n",
       "\t<tr><th scope=row>1</th><td>1</td><td>2</td></tr>\n",
       "\t<tr><th scope=row>3</th><td>2</td><td>3</td></tr>\n",
       "\t<tr><th scope=row>4</th><td>3</td><td>5</td></tr>\n",
       "</tbody>\n",
       "</table>\n"
      ],
      "text/latex": [
       "A data.frame: 3 × 2\n",
       "\\begin{tabular}{r|ll}\n",
       "  & a & b\\\\\n",
       "  & <dbl> & <dbl>\\\\\n",
       "\\hline\n",
       "\t1 & 1 & 2\\\\\n",
       "\t3 & 2 & 3\\\\\n",
       "\t4 & 3 & 5\\\\\n",
       "\\end{tabular}\n"
      ],
      "text/markdown": [
       "\n",
       "A data.frame: 3 × 2\n",
       "\n",
       "| <!--/--> | a &lt;dbl&gt; | b &lt;dbl&gt; |\n",
       "|---|---|---|\n",
       "| 1 | 1 | 2 |\n",
       "| 3 | 2 | 3 |\n",
       "| 4 | 3 | 5 |\n",
       "\n"
      ],
      "text/plain": [
       "  a b\n",
       "1 1 2\n",
       "3 2 3\n",
       "4 3 5"
      ]
     },
     "metadata": {},
     "output_type": "display_data"
    }
   ],
   "source": [
    "## Uniqueness of tuple\n",
    "data.frame(a = c(1,1,2,3), b = c(2,2,3,5)) |> unique()"
   ]
  },
  {
   "cell_type": "markdown",
   "id": "5abb06b0-166c-4784-8ef0-adb33e182a88",
   "metadata": {},
   "source": [
    "> 튜플의 유일성을 확보해주는 함수. 시리즈(벡터)에 적용하면 중복되지 않은 값이 몇개인지 알 수 있겠지..."
   ]
  },
  {
   "cell_type": "code",
   "execution_count": 27,
   "id": "d2c78ebe-b331-4667-96e9-b11427412053",
   "metadata": {},
   "outputs": [
    {
     "data": {
      "text/html": [
       "<table class=\"dataframe\">\n",
       "<caption>A data.frame: 3 × 3</caption>\n",
       "<thead>\n",
       "\t<tr><th scope=col>cust_id</th><th scope=col>buy_cnt.x</th><th scope=col>buy_cnt.y</th></tr>\n",
       "\t<tr><th scope=col>&lt;chr&gt;</th><th scope=col>&lt;dbl&gt;</th><th scope=col>&lt;dbl&gt;</th></tr>\n",
       "</thead>\n",
       "<tbody>\n",
       "\t<tr><td>c04</td><td>3</td><td>1</td></tr>\n",
       "\t<tr><td>c05</td><td>2</td><td>4</td></tr>\n",
       "\t<tr><td>c06</td><td>1</td><td>1</td></tr>\n",
       "</tbody>\n",
       "</table>\n"
      ],
      "text/latex": [
       "A data.frame: 3 × 3\n",
       "\\begin{tabular}{lll}\n",
       " cust\\_id & buy\\_cnt.x & buy\\_cnt.y\\\\\n",
       " <chr> & <dbl> & <dbl>\\\\\n",
       "\\hline\n",
       "\t c04 & 3 & 1\\\\\n",
       "\t c05 & 2 & 4\\\\\n",
       "\t c06 & 1 & 1\\\\\n",
       "\\end{tabular}\n"
      ],
      "text/markdown": [
       "\n",
       "A data.frame: 3 × 3\n",
       "\n",
       "| cust_id &lt;chr&gt; | buy_cnt.x &lt;dbl&gt; | buy_cnt.y &lt;dbl&gt; |\n",
       "|---|---|---|\n",
       "| c04 | 3 | 1 |\n",
       "| c05 | 2 | 4 |\n",
       "| c06 | 1 | 1 |\n",
       "\n"
      ],
      "text/plain": [
       "  cust_id buy_cnt.x buy_cnt.y\n",
       "1 c04     3         1        \n",
       "2 c05     2         4        \n",
       "3 c06     1         1        "
      ]
     },
     "metadata": {},
     "output_type": "display_data"
    },
    {
     "data": {
      "text/html": [
       "<table class=\"dataframe\">\n",
       "<caption>A data.frame: 4 × 3</caption>\n",
       "<thead>\n",
       "\t<tr><th scope=col>cust_id</th><th scope=col>buy_cnt.x</th><th scope=col>buy_cnt.y</th></tr>\n",
       "\t<tr><th scope=col>&lt;chr&gt;</th><th scope=col>&lt;dbl&gt;</th><th scope=col>&lt;dbl&gt;</th></tr>\n",
       "</thead>\n",
       "<tbody>\n",
       "\t<tr><td>c04</td><td>3</td><td> 1</td></tr>\n",
       "\t<tr><td>c05</td><td>2</td><td> 4</td></tr>\n",
       "\t<tr><td>c06</td><td>1</td><td> 1</td></tr>\n",
       "\t<tr><td>c07</td><td>3</td><td>NA</td></tr>\n",
       "</tbody>\n",
       "</table>\n"
      ],
      "text/latex": [
       "A data.frame: 4 × 3\n",
       "\\begin{tabular}{lll}\n",
       " cust\\_id & buy\\_cnt.x & buy\\_cnt.y\\\\\n",
       " <chr> & <dbl> & <dbl>\\\\\n",
       "\\hline\n",
       "\t c04 & 3 &  1\\\\\n",
       "\t c05 & 2 &  4\\\\\n",
       "\t c06 & 1 &  1\\\\\n",
       "\t c07 & 3 & NA\\\\\n",
       "\\end{tabular}\n"
      ],
      "text/markdown": [
       "\n",
       "A data.frame: 4 × 3\n",
       "\n",
       "| cust_id &lt;chr&gt; | buy_cnt.x &lt;dbl&gt; | buy_cnt.y &lt;dbl&gt; |\n",
       "|---|---|---|\n",
       "| c04 | 3 |  1 |\n",
       "| c05 | 2 |  4 |\n",
       "| c06 | 1 |  1 |\n",
       "| c07 | 3 | NA |\n",
       "\n"
      ],
      "text/plain": [
       "  cust_id buy_cnt.x buy_cnt.y\n",
       "1 c04     3          1       \n",
       "2 c05     2          4       \n",
       "3 c06     1          1       \n",
       "4 c07     3         NA       "
      ]
     },
     "metadata": {},
     "output_type": "display_data"
    },
    {
     "data": {
      "text/html": [
       "<table class=\"dataframe\">\n",
       "<caption>A data.frame: 4 × 3</caption>\n",
       "<thead>\n",
       "\t<tr><th scope=col>cust_id</th><th scope=col>buy_cnt.x</th><th scope=col>buy_cnt.y</th></tr>\n",
       "\t<tr><th scope=col>&lt;chr&gt;</th><th scope=col>&lt;dbl&gt;</th><th scope=col>&lt;dbl&gt;</th></tr>\n",
       "</thead>\n",
       "<tbody>\n",
       "\t<tr><td>c03</td><td>NA</td><td>3</td></tr>\n",
       "\t<tr><td>c04</td><td> 3</td><td>1</td></tr>\n",
       "\t<tr><td>c05</td><td> 2</td><td>4</td></tr>\n",
       "\t<tr><td>c06</td><td> 1</td><td>1</td></tr>\n",
       "</tbody>\n",
       "</table>\n"
      ],
      "text/latex": [
       "A data.frame: 4 × 3\n",
       "\\begin{tabular}{lll}\n",
       " cust\\_id & buy\\_cnt.x & buy\\_cnt.y\\\\\n",
       " <chr> & <dbl> & <dbl>\\\\\n",
       "\\hline\n",
       "\t c03 & NA & 3\\\\\n",
       "\t c04 &  3 & 1\\\\\n",
       "\t c05 &  2 & 4\\\\\n",
       "\t c06 &  1 & 1\\\\\n",
       "\\end{tabular}\n"
      ],
      "text/markdown": [
       "\n",
       "A data.frame: 4 × 3\n",
       "\n",
       "| cust_id &lt;chr&gt; | buy_cnt.x &lt;dbl&gt; | buy_cnt.y &lt;dbl&gt; |\n",
       "|---|---|---|\n",
       "| c03 | NA | 3 |\n",
       "| c04 |  3 | 1 |\n",
       "| c05 |  2 | 4 |\n",
       "| c06 |  1 | 1 |\n",
       "\n"
      ],
      "text/plain": [
       "  cust_id buy_cnt.x buy_cnt.y\n",
       "1 c03     NA        3        \n",
       "2 c04      3        1        \n",
       "3 c05      2        4        \n",
       "4 c06      1        1        "
      ]
     },
     "metadata": {},
     "output_type": "display_data"
    },
    {
     "data": {
      "text/html": [
       "<table class=\"dataframe\">\n",
       "<caption>A data.frame: 5 × 3</caption>\n",
       "<thead>\n",
       "\t<tr><th scope=col>cust_id</th><th scope=col>buy_cnt.x</th><th scope=col>buy_cnt.y</th></tr>\n",
       "\t<tr><th scope=col>&lt;chr&gt;</th><th scope=col>&lt;dbl&gt;</th><th scope=col>&lt;dbl&gt;</th></tr>\n",
       "</thead>\n",
       "<tbody>\n",
       "\t<tr><td>c03</td><td>NA</td><td> 3</td></tr>\n",
       "\t<tr><td>c04</td><td> 3</td><td> 1</td></tr>\n",
       "\t<tr><td>c05</td><td> 2</td><td> 4</td></tr>\n",
       "\t<tr><td>c06</td><td> 1</td><td> 1</td></tr>\n",
       "\t<tr><td>c07</td><td> 3</td><td>NA</td></tr>\n",
       "</tbody>\n",
       "</table>\n"
      ],
      "text/latex": [
       "A data.frame: 5 × 3\n",
       "\\begin{tabular}{lll}\n",
       " cust\\_id & buy\\_cnt.x & buy\\_cnt.y\\\\\n",
       " <chr> & <dbl> & <dbl>\\\\\n",
       "\\hline\n",
       "\t c03 & NA &  3\\\\\n",
       "\t c04 &  3 &  1\\\\\n",
       "\t c05 &  2 &  4\\\\\n",
       "\t c06 &  1 &  1\\\\\n",
       "\t c07 &  3 & NA\\\\\n",
       "\\end{tabular}\n"
      ],
      "text/markdown": [
       "\n",
       "A data.frame: 5 × 3\n",
       "\n",
       "| cust_id &lt;chr&gt; | buy_cnt.x &lt;dbl&gt; | buy_cnt.y &lt;dbl&gt; |\n",
       "|---|---|---|\n",
       "| c03 | NA |  3 |\n",
       "| c04 |  3 |  1 |\n",
       "| c05 |  2 |  4 |\n",
       "| c06 |  1 |  1 |\n",
       "| c07 |  3 | NA |\n",
       "\n"
      ],
      "text/plain": [
       "  cust_id buy_cnt.x buy_cnt.y\n",
       "1 c03     NA         3       \n",
       "2 c04      3         1       \n",
       "3 c05      2         4       \n",
       "4 c06      1         1       \n",
       "5 c07      3        NA       "
      ]
     },
     "metadata": {},
     "output_type": "display_data"
    }
   ],
   "source": [
    "## merge : expansion of join\n",
    "cust_mart_7 <- data.frame(cust_id = c(\"c03\", \"c04\", \"c05\", \"c06\"), buy_cnt = c(3,1,4,1))\n",
    "cust_mart_6 <- data.frame(cust_id = c(\"c04\", \"c05\", \"c06\", \"c07\"), buy_cnt = c(3,2,1,3))\n",
    "\n",
    "merge(cust_mart_6, cust_mart_7, by = 'cust_id')  ## Natural join\n",
    "merge(cust_mart_6, cust_mart_7, by = 'cust_id', all.x = TRUE)  ## left outer join\n",
    "merge(cust_mart_6, cust_mart_7, by = 'cust_id', all.y = TRUE)  ## right outer join\n",
    "merge(cust_mart_6, cust_mart_7, by = 'cust_id', all.x = TRUE, all.y = TRUE)  ## total outer join"
   ]
  },
  {
   "cell_type": "code",
   "execution_count": 30,
   "id": "2e233033-67ac-4ccd-8186-5320ce8a88d0",
   "metadata": {},
   "outputs": [
    {
     "data": {
      "text/html": [
       "'abc'"
      ],
      "text/latex": [
       "'abc'"
      ],
      "text/markdown": [
       "'abc'"
      ],
      "text/plain": [
       "[1] \"abc\""
      ]
     },
     "metadata": {},
     "output_type": "display_data"
    }
   ],
   "source": [
    "a = strsplit('abc', \"\")  ## split. list object\n",
    "paste(a[[1]], collapse = \"\")  ## +. sep = \"\" -> object saved by seperate vector"
   ]
  },
  {
   "cell_type": "code",
   "execution_count": 34,
   "id": "d0f47bfd-5ac2-4551-8507-e60c9ce6bcee",
   "metadata": {},
   "outputs": [
    {
     "data": {
      "text/html": [
       "3"
      ],
      "text/latex": [
       "3"
      ],
      "text/markdown": [
       "3"
      ],
      "text/plain": [
       "[1] 3"
      ]
     },
     "metadata": {},
     "output_type": "display_data"
    }
   ],
   "source": [
    "nchar('abc')  ## number of character"
   ]
  },
  {
   "cell_type": "code",
   "execution_count": 35,
   "id": "63650f62-034b-47a6-9f52-54597a468bf1",
   "metadata": {},
   "outputs": [
    {
     "data": {
      "text/html": [
       "<style>\n",
       ".list-inline {list-style: none; margin:0; padding: 0}\n",
       ".list-inline>li {display: inline-block}\n",
       ".list-inline>li:not(:last-child)::after {content: \"\\00b7\"; padding: 0 .5ex}\n",
       "</style>\n",
       "<ol class=list-inline><li>'koy koy'</li><li>'kold'</li><li>'kall'</li></ol>\n"
      ],
      "text/latex": [
       "\\begin{enumerate*}\n",
       "\\item 'koy koy'\n",
       "\\item 'kold'\n",
       "\\item 'kall'\n",
       "\\end{enumerate*}\n"
      ],
      "text/markdown": [
       "1. 'koy koy'\n",
       "2. 'kold'\n",
       "3. 'kall'\n",
       "\n",
       "\n"
      ],
      "text/plain": [
       "[1] \"koy koy\" \"kold\"    \"kall\"   "
      ]
     },
     "metadata": {},
     "output_type": "display_data"
    },
    {
     "data": {
      "text/html": [
       "<style>\n",
       ".list-inline {list-style: none; margin:0; padding: 0}\n",
       ".list-inline>li {display: inline-block}\n",
       ".list-inline>li:not(:last-child)::after {content: \"\\00b7\"; padding: 0 .5ex}\n",
       "</style>\n",
       "<ol class=list-inline><li>'koy toy'</li><li>'kold'</li><li>'kall'</li></ol>\n"
      ],
      "text/latex": [
       "\\begin{enumerate*}\n",
       "\\item 'koy toy'\n",
       "\\item 'kold'\n",
       "\\item 'kall'\n",
       "\\end{enumerate*}\n"
      ],
      "text/markdown": [
       "1. 'koy toy'\n",
       "2. 'kold'\n",
       "3. 'kall'\n",
       "\n",
       "\n"
      ],
      "text/plain": [
       "[1] \"koy toy\" \"kold\"    \"kall\"   "
      ]
     },
     "metadata": {},
     "output_type": "display_data"
    }
   ],
   "source": [
    "f = c('toy toy', 'told', 'tall')\n",
    "gsub('t', 'k', f)  ## substitude, 대체함.\n",
    "sub('t', 'k', f)  ## apply only first word"
   ]
  },
  {
   "cell_type": "code",
   "execution_count": null,
   "id": "2035f118-4af7-49d1-9e99-e42fab6fdd2d",
   "metadata": {},
   "outputs": [],
   "source": [
    "A = rnorm(100)\n",
    "aa = data.frame(a = rnorm(100), b = rpois(100, a))  ## 이게 되네\n",
    "\n",
    "write.table(file = \"s.txt\", aa)  ## 데이터프레임을 파일로 저장함\n",
    "a = read.table(file = \"s.txt\")  ## 테이블 데이터를 읽음\n",
    "write.csv(file = \"s.csv\", a)  ## csv파일로 저장하면 인덱스 열을 추가적으로 저장하여 삭제가 필요"
   ]
  },
  {
   "cell_type": "code",
   "execution_count": null,
   "id": "051abb58-70a5-425f-a56b-9b0026102d5c",
   "metadata": {},
   "outputs": [],
   "source": [
    "## 엑셀 파일 읽기\n",
    "install.packages(\"readxl\")\n",
    "library(readxl)\n",
    "read_excel(\"file name\", sheet, na = \"\")  ## sheet : 번호나 이름, na = 결측치 인식"
   ]
  },
  {
   "cell_type": "code",
   "execution_count": null,
   "id": "94fb07c0-76b7-43fa-903b-b8f39e991b05",
   "metadata": {},
   "outputs": [],
   "source": [
    "## saving working space environment\n",
    "v = array(1:40, c(2,2,10))\n",
    "save(file = \"s.Rdata\", aa, v)\n",
    "load(\"s.Rdata\")  ## 작업공간에 불러옴"
   ]
  },
  {
   "cell_type": "code",
   "execution_count": null,
   "id": "4142691c-55aa-4626-ad85-df35878ba43f",
   "metadata": {},
   "outputs": [],
   "source": [
    "## listing package function and data\n",
    "ls(package:packagename)"
   ]
  },
  {
   "cell_type": "code",
   "execution_count": 37,
   "id": "79024d5a-3b23-4cca-9dc5-7de2e82b5d1c",
   "metadata": {},
   "outputs": [],
   "source": [
    "## function\n",
    "sq_ <- function(a) {\n",
    "    a = a^2  ## local declaraion\n",
    "    return(a)\n",
    "}\n",
    "sq_x <- function(a) {\n",
    "    x <<- a^2  ## global declaration, not retuen function\n",
    "}"
   ]
  },
  {
   "cell_type": "code",
   "execution_count": 39,
   "id": "3e9377b9-3e1b-483c-98bd-e98f6305fc1e",
   "metadata": {},
   "outputs": [
    {
     "data": {
      "text/html": [
       "4"
      ],
      "text/latex": [
       "4"
      ],
      "text/markdown": [
       "4"
      ],
      "text/plain": [
       "[1] 4"
      ]
     },
     "metadata": {},
     "output_type": "display_data"
    },
    {
     "data": {
      "text/html": [
       "4"
      ],
      "text/latex": [
       "4"
      ],
      "text/markdown": [
       "4"
      ],
      "text/plain": [
       "[1] 4"
      ]
     },
     "metadata": {},
     "output_type": "display_data"
    }
   ],
   "source": [
    "sq_(2)\n",
    "sq_x(2)\n",
    "x"
   ]
  },
  {
   "cell_type": "code",
   "execution_count": 40,
   "id": "3c00ca2f-c2e4-40fd-a81d-eac66d003e0f",
   "metadata": {},
   "outputs": [
    {
     "name": "stderr",
     "output_type": "stream",
     "text": [
      "\n",
      "Attaching package: ‘dplyr’\n",
      "\n",
      "\n",
      "The following objects are masked from ‘package:stats’:\n",
      "\n",
      "    filter, lag\n",
      "\n",
      "\n",
      "The following objects are masked from ‘package:base’:\n",
      "\n",
      "    intersect, setdiff, setequal, union\n",
      "\n",
      "\n"
     ]
    }
   ],
   "source": [
    "## dplyr\n",
    "library(dplyr)"
   ]
  },
  {
   "cell_type": "code",
   "execution_count": null,
   "id": "1d070393-defa-41c5-87f1-c41a5f3e804f",
   "metadata": {},
   "outputs": [],
   "source": [
    "filter(data.frame, colname == \"asdf\")  ## select. 비교식을 적어놓음.\n",
    "select(data.frame, colnames, ends_with(\"end words\"), contains(\"char\"))  ## project. 선택할 열 이름을 적음. ends_with, contains는 여기서만 사용 가능\n",
    "mutate(data.frame, colnames operation)  ## assign(df.apply(function)), you can assign new column for operation other columns value\n",
    "arrange(data.frame, desc(colname))  ## arrange(colname) : ascending. sort_value() in R\n",
    "group_by(data.frame, colnames) %>% sumarise(col1 = n(), col2 = mean(col2, na.rm = TRUE))  ## make a groups and operate each groups\n",
    "distinct(data.frame, colname, .keep_all = TRUE)  ## each, unique. processing duplication. and keep another columns."
   ]
  },
  {
   "cell_type": "code",
   "execution_count": null,
   "id": "06883aa0-2c95-4594-a27e-0c344bea1ee3",
   "metadata": {},
   "outputs": [],
   "source": [
    "## operation in a chain\n",
    "df |> filter(conditions) |> select(colnames or ends_with()) ..."
   ]
  },
  {
   "cell_type": "code",
   "execution_count": null,
   "id": "b8717af0-db0c-4d1b-b4e4-5a41bc4dfdd8",
   "metadata": {},
   "outputs": [],
   "source": [
    "## normal dataset operater\n",
    "union(d1, d2)  ## union\n",
    "intersect(d1, d2)  ## intersection\n",
    "setdiff(d1, d2)  ## difference of sets\n",
    "expand(df1, df2, nesting(columns))  ## cartesian product"
   ]
  },
  {
   "cell_type": "code",
   "execution_count": null,
   "id": "d9231087-2ec9-4b69-8e42-b2fac2c268db",
   "metadata": {},
   "outputs": [],
   "source": [
    "## pure relationship operater\n",
    "inner_join(df1, df2, by = \"colname\")  ## merge(df1, df2, by = \"\")\n",
    "full_join(df1, df2, by = \"colname\")  ## merge(df1, df2, by = \"\", all.x = TRUE, all.y = TRUE)\n",
    "right_join(df1, df2, by = \"colname\")  ## merge(df1, df2, by = \"\", all.y = TRUE)\n",
    "left_join(df1, df2, by = \"colname\")  ## merge(df1, df2, by = \"\", all.x = TRUE)"
   ]
  }
 ],
 "metadata": {
  "kernelspec": {
   "display_name": "R",
   "language": "R",
   "name": "ir"
  },
  "language_info": {
   "codemirror_mode": "r",
   "file_extension": ".r",
   "mimetype": "text/x-r-source",
   "name": "R",
   "pygments_lexer": "r",
   "version": "4.3.3"
  }
 },
 "nbformat": 4,
 "nbformat_minor": 5
}
