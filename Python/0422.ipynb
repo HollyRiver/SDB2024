{
 "cells": [
  {
   "cell_type": "markdown",
   "id": "38d6745b-04b8-4681-b519-2b388fa67893",
   "metadata": {},
   "source": [
    "### Python basics & Packages"
   ]
  },
  {
   "cell_type": "code",
   "execution_count": 1,
   "id": "d59c2b32-d0cb-433b-94f9-3f1e44dc5c6d",
   "metadata": {},
   "outputs": [
    {
     "name": "stdout",
     "output_type": "stream",
     "text": [
      "hello world\n"
     ]
    }
   ],
   "source": [
    "print(\"hello world\")"
   ]
  },
  {
   "cell_type": "code",
   "execution_count": 2,
   "id": "a73aee28-2b16-4022-8ac9-9fc3d3aa4719",
   "metadata": {},
   "outputs": [
    {
     "data": {
      "text/plain": [
       "8.0"
      ]
     },
     "execution_count": 2,
     "metadata": {},
     "output_type": "execute_result"
    }
   ],
   "source": [
    "3.0 + 5"
   ]
  },
  {
   "cell_type": "markdown",
   "id": "8d91f01f-ba7c-4f57-b296-a2d077407a53",
   "metadata": {},
   "source": [
    "> 실수형과 정수형이 같이 연산되면 실수형으로 반환"
   ]
  },
  {
   "cell_type": "code",
   "execution_count": 6,
   "id": "e00d3c1d-2ea3-4367-9d57-94d7a61f4e0f",
   "metadata": {},
   "outputs": [
    {
     "name": "stdout",
     "output_type": "stream",
     "text": [
      "8 8\n"
     ]
    }
   ],
   "source": [
    "print(int(1.4 + 7), int(1.6 + 7))"
   ]
  },
  {
   "cell_type": "markdown",
   "id": "e841c645-a913-41e8-9b13-ee2b8f18eb9b",
   "metadata": {},
   "source": [
    "> 실수형으로 반환된 것을 내려서 정수형으로 변환(가우스기호)"
   ]
  },
  {
   "cell_type": "code",
   "execution_count": 7,
   "id": "970451f3-7a01-4fe4-905d-5ea9f434b28e",
   "metadata": {},
   "outputs": [
    {
     "data": {
      "text/plain": [
       "2.0"
      ]
     },
     "execution_count": 7,
     "metadata": {},
     "output_type": "execute_result"
    }
   ],
   "source": [
    "4/2"
   ]
  },
  {
   "cell_type": "markdown",
   "id": "6d81a2fa-9130-45d3-b848-cbf97b4906f7",
   "metadata": {},
   "source": [
    "> 나눗셈 연산은 자동으로 실수형으로 변환"
   ]
  },
  {
   "cell_type": "code",
   "execution_count": 8,
   "id": "ba5eb189-8e45-4031-a88a-ee76c175afb2",
   "metadata": {},
   "outputs": [
    {
     "data": {
      "text/plain": [
       "2.0"
      ]
     },
     "execution_count": 8,
     "metadata": {},
     "output_type": "execute_result"
    }
   ],
   "source": [
    "round(2.0012, 2)"
   ]
  },
  {
   "cell_type": "markdown",
   "id": "a2aa9e9b-7606-4760-a433-302e8c20703b",
   "metadata": {},
   "source": [
    "> 반올림"
   ]
  },
  {
   "cell_type": "code",
   "execution_count": 10,
   "id": "840e4594-49ed-4161-b1be-718d60b43e31",
   "metadata": {},
   "outputs": [
    {
     "name": "stdout",
     "output_type": "stream",
     "text": [
      "vb_3\n"
     ]
    }
   ],
   "source": [
    "print(\"vb_\" + \"3\")"
   ]
  },
  {
   "cell_type": "markdown",
   "id": "7425d728-1803-4f50-b8eb-063bebbce9c4",
   "metadata": {},
   "source": [
    "> 문자의 합은 결합"
   ]
  },
  {
   "cell_type": "code",
   "execution_count": 13,
   "id": "0652a880-e7e5-4688-9b2b-bf0c90d3a0d7",
   "metadata": {},
   "outputs": [
    {
     "name": "stdout",
     "output_type": "stream",
     "text": [
      "Usage: thingy [OPTIONS]\n",
      "     -h                        Display this usage message\n",
      "     -H hostname               Hostname to connect to\n",
      "\n"
     ]
    }
   ],
   "source": [
    "print(\"\"\"\\\n",
    "Usage: thingy [OPTIONS]\n",
    "     -h                        Display this usage message\n",
    "     -H hostname               Hostname to connect to\n",
    "\"\"\")  ## 주석처리에서도 용이"
   ]
  },
  {
   "cell_type": "code",
   "execution_count": 14,
   "id": "16b2168c-f5ff-4154-b691-ee311a05d196",
   "metadata": {},
   "outputs": [
    {
     "data": {
      "text/plain": [
       "'v'"
      ]
     },
     "execution_count": 14,
     "metadata": {},
     "output_type": "execute_result"
    }
   ],
   "source": [
    "a = 'abv'\n",
    "a[2]"
   ]
  },
  {
   "cell_type": "markdown",
   "id": "acb02f0a-ca48-4060-bd80-dc5fb64dabab",
   "metadata": {},
   "source": [
    "> 문자열은 각각의 인덱스를 가지고 있음. 슬라이싱, 스트라이딩 다 가능"
   ]
  },
  {
   "cell_type": "code",
   "execution_count": 17,
   "id": "17234b83-8f7d-4202-8853-e2c6e66219dd",
   "metadata": {},
   "outputs": [
    {
     "name": "stdout",
     "output_type": "stream",
     "text": [
      "a \n",
      "a\n",
      "azp\n"
     ]
    }
   ],
   "source": [
    "str = \"a zip gago sipda\"\n",
    "print(str[0:2])\n",
    "print(str[-1])  ## last words\n",
    "print(str[0:6:2])  ## striding"
   ]
  },
  {
   "cell_type": "code",
   "execution_count": 20,
   "id": "64336ab9-de43-47c7-92ce-a147986b55c6",
   "metadata": {},
   "outputs": [
    {
     "data": {
      "text/plain": [
       "16"
      ]
     },
     "execution_count": 20,
     "metadata": {},
     "output_type": "execute_result"
    }
   ],
   "source": [
    "len(str)"
   ]
  },
  {
   "cell_type": "code",
   "execution_count": 21,
   "id": "83b906d3-9441-4d93-b1b5-8b221d81be7a",
   "metadata": {},
   "outputs": [
    {
     "ename": "IndexError",
     "evalue": "string index out of range",
     "output_type": "error",
     "traceback": [
      "\u001b[0;31m---------------------------------------------------------------------------\u001b[0m",
      "\u001b[0;31mIndexError\u001b[0m                                Traceback (most recent call last)",
      "Cell \u001b[0;32mIn[21], line 1\u001b[0m\n\u001b[0;32m----> 1\u001b[0m \u001b[38;5;28mprint\u001b[39m(\u001b[38;5;28;43mstr\u001b[39;49m\u001b[43m[\u001b[49m\u001b[38;5;241;43m16\u001b[39;49m\u001b[43m]\u001b[49m)\n",
      "\u001b[0;31mIndexError\u001b[0m: string index out of range"
     ]
    }
   ],
   "source": [
    "print(str[16])"
   ]
  },
  {
   "cell_type": "code",
   "execution_count": 22,
   "id": "0f20d390-42d8-4a56-814a-d8c2a1468c0c",
   "metadata": {},
   "outputs": [
    {
     "ename": "TypeError",
     "evalue": "'str' object does not support item assignment",
     "output_type": "error",
     "traceback": [
      "\u001b[0;31m---------------------------------------------------------------------------\u001b[0m",
      "\u001b[0;31mTypeError\u001b[0m                                 Traceback (most recent call last)",
      "Cell \u001b[0;32mIn[22], line 1\u001b[0m\n\u001b[0;32m----> 1\u001b[0m \u001b[38;5;28;43mstr\u001b[39;49m\u001b[43m[\u001b[49m\u001b[38;5;241;43m0\u001b[39;49m\u001b[43m]\u001b[49m \u001b[38;5;241m=\u001b[39m \u001b[38;5;124m\"\u001b[39m\u001b[38;5;124ma\u001b[39m\u001b[38;5;124m\"\u001b[39m\n",
      "\u001b[0;31mTypeError\u001b[0m: 'str' object does not support item assignment"
     ]
    }
   ],
   "source": [
    "str[0] = \"a\""
   ]
  },
  {
   "cell_type": "markdown",
   "id": "970dd6a0-7001-4f88-a147-6cbd3660d848",
   "metadata": {},
   "source": [
    "> 문자열에 개별 단위로 값을 집어넣을 수는 없음. 어케하더라."
   ]
  },
  {
   "cell_type": "code",
   "execution_count": 24,
   "id": "747e29e5-880d-4f33-be52-f26c281ade66",
   "metadata": {},
   "outputs": [
    {
     "data": {
      "text/plain": [
       "[3, 4, 5, 2, 4]"
      ]
     },
     "execution_count": 24,
     "metadata": {},
     "output_type": "execute_result"
    }
   ],
   "source": [
    "[3,4,5] + [2,4]  ## 리스트의 합은 스택을 더 쌓는 거"
   ]
  },
  {
   "cell_type": "code",
   "execution_count": 26,
   "id": "b192a0dd-f483-4303-9bf9-8e7e43a5d7a1",
   "metadata": {},
   "outputs": [
    {
     "data": {
      "text/plain": [
       "[3, 4, 5, 4]"
      ]
     },
     "execution_count": 26,
     "metadata": {},
     "output_type": "execute_result"
    }
   ],
   "source": [
    "v = [3,4,5]\n",
    "v.append(4); v  ## append()보다 초기화하고 인덱스에 값을 넣어주는 것이 더 연산이 빠름(가능한 경우에)"
   ]
  },
  {
   "cell_type": "code",
   "execution_count": 27,
   "id": "1a6254bf-00f4-4974-b8e7-dadeff937737",
   "metadata": {},
   "outputs": [
    {
     "name": "stdout",
     "output_type": "stream",
     "text": [
      "[['f', 'h', 'j'], [1, 2, 3]]\n"
     ]
    }
   ],
   "source": [
    "a = ['f', 'h', 'j']\n",
    "n = [1,2,3]\n",
    "x = [a, n]  ## double list\n",
    "print(x)"
   ]
  },
  {
   "cell_type": "code",
   "execution_count": 42,
   "id": "f6b39f0d-2d44-4276-99df-b3d9392545af",
   "metadata": {},
   "outputs": [
    {
     "data": {
      "text/plain": [
       "[[], 'h', 'j']"
      ]
     },
     "execution_count": 42,
     "metadata": {},
     "output_type": "execute_result"
    }
   ],
   "source": [
    "a = ['f', 'h', 'j']\n",
    "a[0] = []\n",
    "a"
   ]
  },
  {
   "cell_type": "code",
   "execution_count": 43,
   "id": "109f3ec8-795e-4f72-b1f9-d70a83d74145",
   "metadata": {},
   "outputs": [
    {
     "data": {
      "text/plain": [
       "['h', 'j']"
      ]
     },
     "execution_count": 43,
     "metadata": {},
     "output_type": "execute_result"
    }
   ],
   "source": [
    "a[0:1] = []\n",
    "a"
   ]
  },
  {
   "cell_type": "markdown",
   "id": "144e2927-8d2a-4cf1-9dd4-d1505c66bc1e",
   "metadata": {},
   "source": [
    "> 순열로 잡은 경우 내용을 삭제."
   ]
  },
  {
   "cell_type": "code",
   "execution_count": 45,
   "id": "87a9cc3d-d1fe-4dc1-8124-7223a3fa46a1",
   "metadata": {},
   "outputs": [],
   "source": [
    "b = list(range(20))\n",
    "b[0:5] = []"
   ]
  },
  {
   "cell_type": "code",
   "execution_count": 46,
   "id": "cd388383-ef15-44c4-a650-bde8bc6756af",
   "metadata": {},
   "outputs": [
    {
     "data": {
      "text/plain": [
       "[5, 6, 7, 8, 9, 10, 11, 12, 13, 14, 15, 16, 17, 18, 19]"
      ]
     },
     "execution_count": 46,
     "metadata": {},
     "output_type": "execute_result"
    }
   ],
   "source": [
    "b"
   ]
  },
  {
   "cell_type": "code",
   "execution_count": 28,
   "id": "6066578f-e6c1-453a-9ccb-89e3ae36d521",
   "metadata": {},
   "outputs": [],
   "source": [
    "import numpy as np"
   ]
  },
  {
   "cell_type": "code",
   "execution_count": 32,
   "id": "cfee0236-e220-4c0a-a0e0-8c0984af21f3",
   "metadata": {},
   "outputs": [
    {
     "data": {
      "text/plain": [
       "array([2.        , 2.03448276, 2.06896552, 2.10344828, 2.13793103,\n",
       "       2.17241379, 2.20689655, 2.24137931, 2.27586207, 2.31034483,\n",
       "       2.34482759, 2.37931034, 2.4137931 , 2.44827586, 2.48275862,\n",
       "       2.51724138, 2.55172414, 2.5862069 , 2.62068966, 2.65517241,\n",
       "       2.68965517, 2.72413793, 2.75862069, 2.79310345, 2.82758621,\n",
       "       2.86206897, 2.89655172, 2.93103448, 2.96551724, 3.        ])"
      ]
     },
     "execution_count": 32,
     "metadata": {},
     "output_type": "execute_result"
    }
   ],
   "source": [
    "a = np.linspace(2, 3, 30)\n",
    "a"
   ]
  },
  {
   "cell_type": "code",
   "execution_count": 33,
   "id": "be3b5a55-4d18-4fed-91e8-d2eafbf5c0cd",
   "metadata": {},
   "outputs": [
    {
     "data": {
      "text/plain": [
       "array([2.51724138, 2.55172414, 2.5862069 , 2.62068966, 2.65517241,\n",
       "       2.68965517, 2.72413793, 2.75862069, 2.79310345, 2.82758621,\n",
       "       2.86206897, 2.89655172, 2.93103448, 2.96551724, 3.        ])"
      ]
     },
     "execution_count": 33,
     "metadata": {},
     "output_type": "execute_result"
    }
   ],
   "source": [
    "a[np.where(np.linspace(2, 3, 30) >= 2.5)]"
   ]
  },
  {
   "cell_type": "code",
   "execution_count": 49,
   "id": "b1fcdd93-4fe6-4627-984f-4fdbd60b9da5",
   "metadata": {},
   "outputs": [
    {
     "data": {
      "text/plain": [
       "(1, 1, 1)"
      ]
     },
     "execution_count": 49,
     "metadata": {},
     "output_type": "execute_result"
    }
   ],
   "source": [
    "a = np.array([[[2]]])\n",
    "a.shape"
   ]
  },
  {
   "cell_type": "code",
   "execution_count": 50,
   "id": "1e297dcc-8a49-4ad1-b6bc-eaecfcc44ff3",
   "metadata": {},
   "outputs": [
    {
     "data": {
      "text/plain": [
       "(3,)"
      ]
     },
     "execution_count": 50,
     "metadata": {},
     "output_type": "execute_result"
    }
   ],
   "source": [
    "np.array([2,3,4]).shape"
   ]
  },
  {
   "cell_type": "code",
   "execution_count": 52,
   "id": "275b2788-d9b9-4e8b-875f-3120e6e3f836",
   "metadata": {},
   "outputs": [
    {
     "data": {
      "text/plain": [
       "(2, 3)"
      ]
     },
     "execution_count": 52,
     "metadata": {},
     "output_type": "execute_result"
    }
   ],
   "source": [
    "np.array([[2,3,7],[4,5,6]]).shape"
   ]
  },
  {
   "cell_type": "code",
   "execution_count": 55,
   "id": "d6b34b7c-fc1e-4dd8-a401-3214b54922f2",
   "metadata": {},
   "outputs": [
    {
     "data": {
      "text/plain": [
       "array([[2, 3, 7],\n",
       "       [4, 5, 6]])"
      ]
     },
     "execution_count": 55,
     "metadata": {},
     "output_type": "execute_result"
    }
   ],
   "source": [
    "a = np.array([[2,3,7],[4,5,6]]);a"
   ]
  },
  {
   "cell_type": "markdown",
   "id": "d428fae6-0f47-4903-ba19-87647f0dbf40",
   "metadata": {},
   "source": [
    "* 배열을 슬라이싱"
   ]
  },
  {
   "cell_type": "code",
   "execution_count": 56,
   "id": "500a5c5e-2287-4a07-8c33-d4318a2934c1",
   "metadata": {},
   "outputs": [
    {
     "name": "stdout",
     "output_type": "stream",
     "text": [
      "[2 3]\n"
     ]
    }
   ],
   "source": [
    "print(a[0, 0:2])"
   ]
  },
  {
   "cell_type": "code",
   "execution_count": 63,
   "id": "323cdeaa-b383-4b1a-b8b0-7f68b64d9b4c",
   "metadata": {},
   "outputs": [
    {
     "name": "stdout",
     "output_type": "stream",
     "text": [
      "[15 16 17 18 19 20 21 22 23 24 25 26 27 28 29]\n"
     ]
    }
   ],
   "source": [
    "a = np.linspace(2, 3, 30)\n",
    "print(np.where(a >= 2.5)[0])  ## numpy array에서 리스트를 추출할 수 있음"
   ]
  },
  {
   "cell_type": "code",
   "execution_count": 61,
   "id": "c34cca22-f10c-4c79-9652-3634f83ec7ab",
   "metadata": {},
   "outputs": [
    {
     "data": {
      "text/plain": [
       "array([2.51724138, 2.55172414, 2.5862069 , 2.62068966, 2.65517241,\n",
       "       2.68965517, 2.72413793, 2.75862069, 2.79310345, 2.82758621,\n",
       "       2.86206897, 2.89655172, 2.93103448, 2.96551724, 3.        ])"
      ]
     },
     "execution_count": 61,
     "metadata": {},
     "output_type": "execute_result"
    }
   ],
   "source": [
    "a[np.where(a >= 2.5)]"
   ]
  },
  {
   "cell_type": "code",
   "execution_count": 64,
   "id": "adae4694-bc19-467f-8c08-70fb46089b07",
   "metadata": {},
   "outputs": [
    {
     "name": "stdout",
     "output_type": "stream",
     "text": [
      "[[2 3 4]\n",
      " [6 8 9]]\n",
      "(2, 2, 3)\n",
      "[6 8 9]\n"
     ]
    }
   ],
   "source": [
    "a = np.array([[[2,3,4],[5,6,7]],[[2,3,4],[6,8,9]]])\n",
    "print(a[1])\n",
    "print(a.shape)\n",
    "print(a[1,1,:])"
   ]
  },
  {
   "cell_type": "code",
   "execution_count": 72,
   "id": "144a2198-8592-408b-a319-273fe4b32559",
   "metadata": {},
   "outputs": [
    {
     "data": {
      "text/plain": [
       "array([[1., 1., 1., 1.],\n",
       "       [1., 1., 1., 1.],\n",
       "       [1., 1., 1., 1.]])"
      ]
     },
     "execution_count": 72,
     "metadata": {},
     "output_type": "execute_result"
    }
   ],
   "source": [
    "np.zeros(2); np.ones((3,4))"
   ]
  },
  {
   "cell_type": "code",
   "execution_count": 86,
   "id": "955474cc-363e-45fa-9c8e-cdaba416f5e1",
   "metadata": {},
   "outputs": [
    {
     "name": "stdout",
     "output_type": "stream",
     "text": [
      "[2 3 4 5]\n"
     ]
    }
   ],
   "source": [
    "a = np.array([3,2,4,5])\n",
    "a.sort()\n",
    "print(a)"
   ]
  },
  {
   "cell_type": "code",
   "execution_count": 121,
   "id": "8591acf3-cadc-44c9-9584-c42e1ecc2ef6",
   "metadata": {},
   "outputs": [
    {
     "data": {
      "text/plain": [
       "array([3, 2, 1, 0])"
      ]
     },
     "execution_count": 121,
     "metadata": {},
     "output_type": "execute_result"
    }
   ],
   "source": [
    "a = [6,5,4,3]\n",
    "np.argsort(a)  ## sorting을 하기 위한 index"
   ]
  },
  {
   "cell_type": "code",
   "execution_count": 94,
   "id": "df5a093e-4247-4599-8ec4-1bdac5ce8b1a",
   "metadata": {},
   "outputs": [
    {
     "ename": "TypeError",
     "evalue": "only integer scalar arrays can be converted to a scalar index",
     "output_type": "error",
     "traceback": [
      "\u001b[0;31m---------------------------------------------------------------------------\u001b[0m",
      "\u001b[0;31mTypeError\u001b[0m                                 Traceback (most recent call last)",
      "Cell \u001b[0;32mIn[94], line 1\u001b[0m\n\u001b[0;32m----> 1\u001b[0m \u001b[43ma\u001b[49m\u001b[43m[\u001b[49m\u001b[43mnp\u001b[49m\u001b[38;5;241;43m.\u001b[39;49m\u001b[43margsort\u001b[49m\u001b[43m(\u001b[49m\u001b[43ma\u001b[49m\u001b[43m)\u001b[49m\u001b[43m]\u001b[49m\n",
      "\u001b[0;31mTypeError\u001b[0m: only integer scalar arrays can be converted to a scalar index"
     ]
    }
   ],
   "source": [
    "a[np.argsort(a)]  ## 그냥 컴프리헨션 하자..."
   ]
  },
  {
   "cell_type": "code",
   "execution_count": 97,
   "id": "521cb900-f90a-40da-9e00-7a432891aad9",
   "metadata": {},
   "outputs": [
    {
     "name": "stdout",
     "output_type": "stream",
     "text": [
      "[1. 1. 1. 2. 4. 6.]\n"
     ]
    }
   ],
   "source": [
    "a = np.ones(3)\n",
    "b = np.array([2, 4, 6])\n",
    "print(np.concatenate((a, b), axis = 0))"
   ]
  },
  {
   "cell_type": "code",
   "execution_count": 104,
   "id": "99f723d3-4b2a-4214-ab25-a88f7e243a08",
   "metadata": {},
   "outputs": [
    {
     "data": {
      "text/plain": [
       "array([[1., 1., 1.],\n",
       "       [2., 4., 6.]])"
      ]
     },
     "execution_count": 104,
     "metadata": {},
     "output_type": "execute_result"
    }
   ],
   "source": [
    "np.stack((a, b), axis = 0)"
   ]
  },
  {
   "cell_type": "code",
   "execution_count": 105,
   "id": "288188ec-2b23-4ef4-a442-7a74ebec7f58",
   "metadata": {},
   "outputs": [],
   "source": [
    "a = np.append(a, 3)"
   ]
  },
  {
   "cell_type": "code",
   "execution_count": 107,
   "id": "d5c63f01-0374-45ee-bb93-8c5d818fb178",
   "metadata": {},
   "outputs": [
    {
     "data": {
      "text/plain": [
       "(4,)"
      ]
     },
     "execution_count": 107,
     "metadata": {},
     "output_type": "execute_result"
    }
   ],
   "source": [
    "a.shape"
   ]
  },
  {
   "cell_type": "code",
   "execution_count": 139,
   "id": "f4cb512a-3822-4142-9d3c-0e9d7d676643",
   "metadata": {},
   "outputs": [
    {
     "data": {
      "text/plain": [
       "array([[1, 2],\n",
       "       [3, 4]])"
      ]
     },
     "execution_count": 139,
     "metadata": {},
     "output_type": "execute_result"
    }
   ],
   "source": [
    "np.reshape([1,2,3,4], (2,2))  ## 행단위로 넣는 게 default. 애초에 이쪽이 연산이 쉬움"
   ]
  },
  {
   "cell_type": "code",
   "execution_count": 119,
   "id": "bc774785-69e1-44ad-bb16-c7ba58f68a1f",
   "metadata": {},
   "outputs": [
    {
     "data": {
      "text/plain": [
       "array([[1, 3],\n",
       "       [2, 4]])"
      ]
     },
     "execution_count": 119,
     "metadata": {},
     "output_type": "execute_result"
    }
   ],
   "source": [
    "np.reshape([1,2,3,4], (2,2), order = \"F\")"
   ]
  },
  {
   "cell_type": "markdown",
   "id": "f02d6c4b-50a7-4076-a770-fc686606d4f0",
   "metadata": {},
   "source": [
    "차원의 개수 / 원소의 개수 / 차원 벡터"
   ]
  },
  {
   "cell_type": "code",
   "execution_count": 128,
   "id": "efcbeef1-d2ac-495b-837d-500f2dde3b61",
   "metadata": {},
   "outputs": [
    {
     "name": "stdout",
     "output_type": "stream",
     "text": [
      "(4,)\n",
      "(2, 2)\n"
     ]
    }
   ],
   "source": [
    "a = np.ones(3)\n",
    "a = np.append(a,3)\n",
    "print(a.shape)\n",
    "a = np.reshape(a, (2,2))\n",
    "print(a.shape)\n",
    "b = np.array([[1,3],[3,4]])"
   ]
  },
  {
   "cell_type": "code",
   "execution_count": 132,
   "id": "c393cb7f-e944-4f4d-9258-1d7e57a90784",
   "metadata": {},
   "outputs": [
    {
     "name": "stdout",
     "output_type": "stream",
     "text": [
      "2\n",
      "8\n",
      "(2, 4)\n"
     ]
    }
   ],
   "source": [
    "v = np.concatenate((a, b), axis = 1)\n",
    "print(v.ndim)\n",
    "print(v.size)\n",
    "print(v.shape)"
   ]
  },
  {
   "cell_type": "code",
   "execution_count": 134,
   "id": "6c01c71d-2f98-474f-85e7-3b7d0727d98a",
   "metadata": {},
   "outputs": [
    {
     "name": "stdout",
     "output_type": "stream",
     "text": [
      "(3,)\n",
      "(3, 1)\n"
     ]
    }
   ],
   "source": [
    "v = np.array([3,4,5])\n",
    "print(v.shape)\n",
    "vv = np.array([[3], [4], [5]])\n",
    "print(vv.shape)"
   ]
  },
  {
   "cell_type": "markdown",
   "id": "e9a1879c-c150-45a6-af9c-a5ab969648ba",
   "metadata": {},
   "source": [
    "np.array operation"
   ]
  },
  {
   "cell_type": "code",
   "execution_count": 135,
   "id": "3c794e71-a862-49fd-983f-597d5f2b5da3",
   "metadata": {},
   "outputs": [
    {
     "data": {
      "text/plain": [
       "array([[6]])"
      ]
     },
     "execution_count": 135,
     "metadata": {},
     "output_type": "execute_result"
    }
   ],
   "source": [
    "np.array([3]) + np.array([[3]])  ## shape이 안맞아도 그냥 연산이 됨"
   ]
  },
  {
   "cell_type": "code",
   "execution_count": 136,
   "id": "dba0ec4a-67ee-488b-bb6a-6a0ee16d5f9c",
   "metadata": {},
   "outputs": [
    {
     "data": {
      "text/plain": [
       "array([[6, 8]])"
      ]
     },
     "execution_count": 136,
     "metadata": {},
     "output_type": "execute_result"
    }
   ],
   "source": [
    "np.array([3,4]) + np.array([[3,4]])"
   ]
  },
  {
   "cell_type": "code",
   "execution_count": 138,
   "id": "4a0294a6-0e72-4694-b862-f5e082bdccd6",
   "metadata": {},
   "outputs": [
    {
     "data": {
      "text/plain": [
       "array([[[1., 1.],\n",
       "        [1., 3.]]])"
      ]
     },
     "execution_count": 138,
     "metadata": {},
     "output_type": "execute_result"
    }
   ],
   "source": [
    "a[np.newaxis, :]  ## instance"
   ]
  },
  {
   "cell_type": "markdown",
   "id": "ab264c41-7899-41c7-8ca4-e05399ab36ee",
   "metadata": {},
   "source": [
    "> `np.newaxis`라는 인스턴스는 새로운 축 자체를 의미"
   ]
  },
  {
   "cell_type": "markdown",
   "id": "a8c594b6-e938-411d-9210-d3335d1863fb",
   "metadata": {},
   "source": [
    "* 차원을 바꿀 때 행이나 열 단위 지정을 하는 옵션"
   ]
  },
  {
   "cell_type": "code",
   "execution_count": 141,
   "id": "d94b342b-6932-417a-ada3-3ff6fde6ae4d",
   "metadata": {},
   "outputs": [
    {
     "name": "stdout",
     "output_type": "stream",
     "text": [
      "[[1 2 3 4]\n",
      " [5 6 7 8]\n",
      " [3 5 7 9]]\n",
      "[1 2 3 3]\n"
     ]
    }
   ],
   "source": [
    "aa = np.array([[1,2,3,4], [5,6,7,8], [3,5,7,9]])\n",
    "print(aa)\n",
    "print(aa[aa < 4])  ## 인덱스를 연산했을 때 차원이 달라짐."
   ]
  },
  {
   "cell_type": "code",
   "execution_count": 145,
   "id": "5ac47cc7-5661-422d-9a1a-035a02d74754",
   "metadata": {},
   "outputs": [
    {
     "data": {
      "text/plain": [
       "array([[False, False, False,  True],\n",
       "       [False, False, False, False],\n",
       "       [False, False, False, False]])"
      ]
     },
     "execution_count": 145,
     "metadata": {},
     "output_type": "execute_result"
    }
   ],
   "source": [
    "(aa > 3) & (aa < 5)"
   ]
  },
  {
   "cell_type": "code",
   "execution_count": 146,
   "id": "b6228633-6913-4828-a286-cbbddb8aa03c",
   "metadata": {},
   "outputs": [
    {
     "name": "stdout",
     "output_type": "stream",
     "text": [
      "[[2 3]\n",
      " [1 2]\n",
      " [1 4]\n",
      " [2 6]]\n",
      "[[2 3 1 4]\n",
      " [1 2 2 6]]\n"
     ]
    }
   ],
   "source": [
    "a = np.array([[2,3],[1,2]])\n",
    "b = np.array([[1,4],[2,6]])\n",
    "c = np.vstack([a,b])\n",
    "print(c)  ## np.concatenate((a, b), axis = 0)\n",
    "print(np.hstack([a,b]))  ## np.concatenate((a, b), axis = 1)"
   ]
  },
  {
   "cell_type": "markdown",
   "id": "f6ce1f0e-cd45-410f-bf48-ad6479242cd3",
   "metadata": {},
   "source": [
    "배열을 쪼개는 함수"
   ]
  },
  {
   "cell_type": "code",
   "execution_count": 151,
   "id": "163cc0bd-5a4e-47fa-b13f-92e8ae3e11d6",
   "metadata": {},
   "outputs": [
    {
     "name": "stdout",
     "output_type": "stream",
     "text": [
      "[[ 0  1  2  3  4  5]\n",
      " [ 6  7  8  9 10 11]\n",
      " [12 13 14 15 16 17]\n",
      " [18 19 20 21 22 23]\n",
      " [24 25 26 27 28 29]]\n",
      "[array([[ 0,  1,  2],\n",
      "       [ 6,  7,  8],\n",
      "       [12, 13, 14],\n",
      "       [18, 19, 20],\n",
      "       [24, 25, 26]]), array([[ 3,  4,  5],\n",
      "       [ 9, 10, 11],\n",
      "       [15, 16, 17],\n",
      "       [21, 22, 23],\n",
      "       [27, 28, 29]])]\n",
      "[[ 0  1  2]\n",
      " [ 6  7  8]\n",
      " [12 13 14]\n",
      " [18 19 20]\n",
      " [24 25 26]]\n"
     ]
    }
   ],
   "source": [
    "cc = np.arange(30).reshape(5,6)\n",
    "print(cc)\n",
    "nn = np.hsplit(cc, 2)\n",
    "print(nn)  ## 클래스가 두 개 들어가있는 이상한 구조\n",
    "print(nn[0])"
   ]
  }
 ],
 "metadata": {
  "kernelspec": {
   "display_name": "Python 3 (ipykernel)",
   "language": "python",
   "name": "python3"
  },
  "language_info": {
   "codemirror_mode": {
    "name": "ipython",
    "version": 3
   },
   "file_extension": ".py",
   "mimetype": "text/x-python",
   "name": "python",
   "nbconvert_exporter": "python",
   "pygments_lexer": "ipython3",
   "version": "3.10.13"
  }
 },
 "nbformat": 4,
 "nbformat_minor": 5
}
