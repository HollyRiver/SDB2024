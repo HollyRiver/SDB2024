{
 "cells": [
  {
   "cell_type": "markdown",
   "id": "dede1522-cac8-4ff8-bbde-ef41625a6f17",
   "metadata": {},
   "source": [
    "### R"
   ]
  },
  {
   "cell_type": "code",
   "execution_count": 4,
   "id": "30c22eb1-dbbe-4baf-88b1-4d711ef9cd24",
   "metadata": {},
   "outputs": [
    {
     "name": "stdout",
     "output_type": "stream",
     "text": [
      " [1]  4  8 12 16 20 24 28 32 36 40\n",
      "[1] 4 3\n"
     ]
    }
   ],
   "source": [
    "print(4*1:10) ## vector 기반 데이터 저장 방식\n",
    "print(2^2:3)"
   ]
  },
  {
   "cell_type": "code",
   "execution_count": 5,
   "id": "e9121393-df18-4cae-842f-d08e904f886c",
   "metadata": {},
   "outputs": [
    {
     "data": {
      "text/html": [
       "<style>\n",
       ".list-inline {list-style: none; margin:0; padding: 0}\n",
       ".list-inline>li {display: inline-block}\n",
       ".list-inline>li:not(:last-child)::after {content: \"\\00b7\"; padding: 0 .5ex}\n",
       "</style>\n",
       "<ol class=list-inline><li>4</li><li>3</li></ol>\n"
      ],
      "text/latex": [
       "\\begin{enumerate*}\n",
       "\\item 4\n",
       "\\item 3\n",
       "\\end{enumerate*}\n"
      ],
      "text/markdown": [
       "1. 4\n",
       "2. 3\n",
       "\n",
       "\n"
      ],
      "text/plain": [
       "[1] 4 3"
      ]
     },
     "metadata": {},
     "output_type": "display_data"
    }
   ],
   "source": [
    "2^2:3  ## ??? 순서가 바뀌었나봄"
   ]
  },
  {
   "cell_type": "code",
   "execution_count": 10,
   "id": "207494b7-1bd9-4dd5-85d8-6437bda9eec5",
   "metadata": {},
   "outputs": [
    {
     "data": {
      "text/html": [
       "FALSE"
      ],
      "text/latex": [
       "FALSE"
      ],
      "text/markdown": [
       "FALSE"
      ],
      "text/plain": [
       "[1] FALSE"
      ]
     },
     "metadata": {},
     "output_type": "display_data"
    }
   ],
   "source": [
    "5 > 3 && 3 > 4  ## 그냥 &도 됨, C에서 가져온듯?"
   ]
  },
  {
   "cell_type": "code",
   "execution_count": 11,
   "id": "326142fd-0a68-4892-b929-3989cecbba2c",
   "metadata": {},
   "outputs": [
    {
     "data": {
      "text/html": [
       "<style>\n",
       ".list-inline {list-style: none; margin:0; padding: 0}\n",
       ".list-inline>li {display: inline-block}\n",
       ".list-inline>li:not(:last-child)::after {content: \"\\00b7\"; padding: 0 .5ex}\n",
       "</style>\n",
       "<ol class=list-inline><li>FALSE</li><li>TRUE</li><li>TRUE</li><li>TRUE</li><li>TRUE</li><li>TRUE</li><li>TRUE</li><li>TRUE</li><li>TRUE</li><li>TRUE</li></ol>\n"
      ],
      "text/latex": [
       "\\begin{enumerate*}\n",
       "\\item FALSE\n",
       "\\item TRUE\n",
       "\\item TRUE\n",
       "\\item TRUE\n",
       "\\item TRUE\n",
       "\\item TRUE\n",
       "\\item TRUE\n",
       "\\item TRUE\n",
       "\\item TRUE\n",
       "\\item TRUE\n",
       "\\end{enumerate*}\n"
      ],
      "text/markdown": [
       "1. FALSE\n",
       "2. TRUE\n",
       "3. TRUE\n",
       "4. TRUE\n",
       "5. TRUE\n",
       "6. TRUE\n",
       "7. TRUE\n",
       "8. TRUE\n",
       "9. TRUE\n",
       "10. TRUE\n",
       "\n",
       "\n"
      ],
      "text/plain": [
       " [1] FALSE  TRUE  TRUE  TRUE  TRUE  TRUE  TRUE  TRUE  TRUE  TRUE"
      ]
     },
     "metadata": {},
     "output_type": "display_data"
    }
   ],
   "source": [
    "ex = 1:10\n",
    "1 < ex  ## 벡터와 스칼라가 만나면, 스칼라를 벡터로 변환"
   ]
  },
  {
   "cell_type": "code",
   "execution_count": 17,
   "id": "b8155bdc-fdb9-40e3-94dc-7f3c5fbfbd75",
   "metadata": {},
   "outputs": [
    {
     "data": {
      "text/html": [
       "<style>\n",
       ".list-inline {list-style: none; margin:0; padding: 0}\n",
       ".list-inline>li {display: inline-block}\n",
       ".list-inline>li:not(:last-child)::after {content: \"\\00b7\"; padding: 0 .5ex}\n",
       "</style>\n",
       "<ol class=list-inline><li>FALSE</li><li>FALSE</li><li>FALSE</li><li>FALSE</li><li>FALSE</li><li>FALSE</li><li>FALSE</li><li>FALSE</li><li>FALSE</li><li>FALSE</li></ol>\n"
      ],
      "text/latex": [
       "\\begin{enumerate*}\n",
       "\\item FALSE\n",
       "\\item FALSE\n",
       "\\item FALSE\n",
       "\\item FALSE\n",
       "\\item FALSE\n",
       "\\item FALSE\n",
       "\\item FALSE\n",
       "\\item FALSE\n",
       "\\item FALSE\n",
       "\\item FALSE\n",
       "\\end{enumerate*}\n"
      ],
      "text/markdown": [
       "1. FALSE\n",
       "2. FALSE\n",
       "3. FALSE\n",
       "4. FALSE\n",
       "5. FALSE\n",
       "6. FALSE\n",
       "7. FALSE\n",
       "8. FALSE\n",
       "9. FALSE\n",
       "10. FALSE\n",
       "\n",
       "\n"
      ],
      "text/plain": [
       " [1] FALSE FALSE FALSE FALSE FALSE FALSE FALSE FALSE FALSE FALSE"
      ]
     },
     "metadata": {},
     "output_type": "display_data"
    }
   ],
   "source": [
    "ex > 8 & ex < 2  ## &&은 안되네 여긴 왜"
   ]
  },
  {
   "cell_type": "markdown",
   "id": "526f4f38-a306-40b5-9f3a-911a40e96202",
   "metadata": {},
   "source": [
    "`-` 객체 종류 및 값 지정"
   ]
  },
  {
   "cell_type": "code",
   "execution_count": 36,
   "id": "667f3e5d-0ca2-4804-bde5-6efe28119796",
   "metadata": {},
   "outputs": [
    {
     "name": "stdout",
     "output_type": "stream",
     "text": [
      "[1] \"numeric numeric\"\n",
      "[1] \"character\"\n",
      "[1] \"logical\"\n",
      "[1] 1 2 3\n",
      "[1] \"factor\"\n",
      "[1] NaN\n",
      "[1] Inf\n"
     ]
    }
   ],
   "source": [
    "# Numeric : int / float\n",
    "print(paste(mode(1), mode(1.1)))\n",
    "# Character : string\n",
    "print(class(\"abc\"))\n",
    "# Logical : bool\n",
    "print(class(T))\n",
    "# Vector : list\n",
    "print(c(1,2,3))\n",
    "# Factor, 순서형\n",
    "print(class(as.factor(1:2)))\n",
    "# Nan\n",
    "print(0/0)\n",
    "# Inf\n",
    "print(1/0)"
   ]
  },
  {
   "cell_type": "markdown",
   "id": "60f5dfe6-7b77-41a6-a06a-cd6fb2cf4c71",
   "metadata": {},
   "source": [
    "`-` 객체 종류 및 값 지정"
   ]
  },
  {
   "cell_type": "code",
   "execution_count": 37,
   "id": "38064bec-7d57-4207-9393-7d5ca5112634",
   "metadata": {},
   "outputs": [
    {
     "data": {
      "text/html": [
       "<style>\n",
       ".list-inline {list-style: none; margin:0; padding: 0}\n",
       ".list-inline>li {display: inline-block}\n",
       ".list-inline>li:not(:last-child)::after {content: \"\\00b7\"; padding: 0 .5ex}\n",
       "</style>\n",
       "<ol class=list-inline><li>'T'</li><li>'FALSE'</li></ol>\n"
      ],
      "text/latex": [
       "\\begin{enumerate*}\n",
       "\\item 'T'\n",
       "\\item 'FALSE'\n",
       "\\end{enumerate*}\n"
      ],
      "text/markdown": [
       "1. 'T'\n",
       "2. 'FALSE'\n",
       "\n",
       "\n"
      ],
      "text/plain": [
       "[1] \"T\"     \"FALSE\""
      ]
     },
     "metadata": {},
     "output_type": "display_data"
    }
   ],
   "source": [
    "c(\"T\", F)  ## 서로 다른 값을 넣으면 하나로 병합됨"
   ]
  },
  {
   "cell_type": "code",
   "execution_count": 38,
   "id": "11c82329-6b95-4680-872c-7339f6e1244c",
   "metadata": {},
   "outputs": [
    {
     "data": {
      "text/html": [
       "<style>\n",
       ".list-inline {list-style: none; margin:0; padding: 0}\n",
       ".list-inline>li {display: inline-block}\n",
       ".list-inline>li:not(:last-child)::after {content: \"\\00b7\"; padding: 0 .5ex}\n",
       "</style>\n",
       "<ol class=list-inline><li>1</li><li>3</li></ol>\n"
      ],
      "text/latex": [
       "\\begin{enumerate*}\n",
       "\\item 1\n",
       "\\item 3\n",
       "\\end{enumerate*}\n"
      ],
      "text/markdown": [
       "1. 1\n",
       "2. 3\n",
       "\n",
       "\n"
      ],
      "text/plain": [
       "[1] 1 3"
      ]
     },
     "metadata": {},
     "output_type": "display_data"
    }
   ],
   "source": [
    "c(as.factor(2), 3)"
   ]
  },
  {
   "cell_type": "markdown",
   "id": "5594d5fd-1946-4e62-b2cd-65f30312df9f",
   "metadata": {},
   "source": [
    "> 문자 > 수치 / 논리 > factor"
   ]
  },
  {
   "cell_type": "code",
   "execution_count": 40,
   "id": "228defa0-2be1-4e6e-95d4-0cffe71add77",
   "metadata": {},
   "outputs": [
    {
     "name": "stderr",
     "output_type": "stream",
     "text": [
      "Warning message in 1:3 + 1:40:\n",
      "“longer object length is not a multiple of shorter object length”\n"
     ]
    },
    {
     "data": {
      "text/html": [
       "<style>\n",
       ".list-inline {list-style: none; margin:0; padding: 0}\n",
       ".list-inline>li {display: inline-block}\n",
       ".list-inline>li:not(:last-child)::after {content: \"\\00b7\"; padding: 0 .5ex}\n",
       "</style>\n",
       "<ol class=list-inline><li>2</li><li>4</li><li>6</li><li>5</li><li>7</li><li>9</li><li>8</li><li>10</li><li>12</li><li>11</li><li>13</li><li>15</li><li>14</li><li>16</li><li>18</li><li>17</li><li>19</li><li>21</li><li>20</li><li>22</li><li>24</li><li>23</li><li>25</li><li>27</li><li>26</li><li>28</li><li>30</li><li>29</li><li>31</li><li>33</li><li>32</li><li>34</li><li>36</li><li>35</li><li>37</li><li>39</li><li>38</li><li>40</li><li>42</li><li>41</li></ol>\n"
      ],
      "text/latex": [
       "\\begin{enumerate*}\n",
       "\\item 2\n",
       "\\item 4\n",
       "\\item 6\n",
       "\\item 5\n",
       "\\item 7\n",
       "\\item 9\n",
       "\\item 8\n",
       "\\item 10\n",
       "\\item 12\n",
       "\\item 11\n",
       "\\item 13\n",
       "\\item 15\n",
       "\\item 14\n",
       "\\item 16\n",
       "\\item 18\n",
       "\\item 17\n",
       "\\item 19\n",
       "\\item 21\n",
       "\\item 20\n",
       "\\item 22\n",
       "\\item 24\n",
       "\\item 23\n",
       "\\item 25\n",
       "\\item 27\n",
       "\\item 26\n",
       "\\item 28\n",
       "\\item 30\n",
       "\\item 29\n",
       "\\item 31\n",
       "\\item 33\n",
       "\\item 32\n",
       "\\item 34\n",
       "\\item 36\n",
       "\\item 35\n",
       "\\item 37\n",
       "\\item 39\n",
       "\\item 38\n",
       "\\item 40\n",
       "\\item 42\n",
       "\\item 41\n",
       "\\end{enumerate*}\n"
      ],
      "text/markdown": [
       "1. 2\n",
       "2. 4\n",
       "3. 6\n",
       "4. 5\n",
       "5. 7\n",
       "6. 9\n",
       "7. 8\n",
       "8. 10\n",
       "9. 12\n",
       "10. 11\n",
       "11. 13\n",
       "12. 15\n",
       "13. 14\n",
       "14. 16\n",
       "15. 18\n",
       "16. 17\n",
       "17. 19\n",
       "18. 21\n",
       "19. 20\n",
       "20. 22\n",
       "21. 24\n",
       "22. 23\n",
       "23. 25\n",
       "24. 27\n",
       "25. 26\n",
       "26. 28\n",
       "27. 30\n",
       "28. 29\n",
       "29. 31\n",
       "30. 33\n",
       "31. 32\n",
       "32. 34\n",
       "33. 36\n",
       "34. 35\n",
       "35. 37\n",
       "36. 39\n",
       "37. 38\n",
       "38. 40\n",
       "39. 42\n",
       "40. 41\n",
       "\n",
       "\n"
      ],
      "text/plain": [
       " [1]  2  4  6  5  7  9  8 10 12 11 13 15 14 16 18 17 19 21 20 22 24 23 25 27 26\n",
       "[26] 28 30 29 31 33 32 34 36 35 37 39 38 40 42 41"
      ]
     },
     "metadata": {},
     "output_type": "display_data"
    }
   ],
   "source": [
    "1:3 + 1:40  ## 짧은 쪽을 늘린다."
   ]
  },
  {
   "cell_type": "markdown",
   "id": "d04b69ac-8b25-4122-afa9-2b05986510e3",
   "metadata": {},
   "source": [
    "> 일반 문자 $\\to$ 숫자 (X)\n",
    ">\n",
    "> 숫자로 된 문자 $\\to$ 숫자 (O)\n",
    ">\n",
    "> 숫자 $\\to$ 문자 (O)\n",
    ">\n",
    "> 논리 $\\to$ 숫자 (O)"
   ]
  },
  {
   "cell_type": "code",
   "execution_count": 42,
   "id": "c9cf96da-dd58-4901-be5c-143c614e8bcd",
   "metadata": {},
   "outputs": [
    {
     "data": {
      "text/html": [
       "<style>\n",
       ".list-inline {list-style: none; margin:0; padding: 0}\n",
       ".list-inline>li {display: inline-block}\n",
       ".list-inline>li:not(:last-child)::after {content: \"\\00b7\"; padding: 0 .5ex}\n",
       "</style>\n",
       "<ol class=list-inline><li>'2'</li><li>'3'</li></ol>\n"
      ],
      "text/latex": [
       "\\begin{enumerate*}\n",
       "\\item '2'\n",
       "\\item '3'\n",
       "\\end{enumerate*}\n"
      ],
      "text/markdown": [
       "1. '2'\n",
       "2. '3'\n",
       "\n",
       "\n"
      ],
      "text/plain": [
       "[1] \"2\" \"3\""
      ]
     },
     "metadata": {},
     "output_type": "display_data"
    }
   ],
   "source": [
    "as.character(as.factor(2:3))"
   ]
  },
  {
   "cell_type": "code",
   "execution_count": 43,
   "id": "c1201804-b3ec-477e-9700-8bfe0b1b326f",
   "metadata": {},
   "outputs": [
    {
     "data": {
      "text/html": [
       "<style>\n",
       ".list-inline {list-style: none; margin:0; padding: 0}\n",
       ".list-inline>li {display: inline-block}\n",
       ".list-inline>li:not(:last-child)::after {content: \"\\00b7\"; padding: 0 .5ex}\n",
       "</style>\n",
       "<ol class=list-inline><li>1</li><li>2</li></ol>\n"
      ],
      "text/latex": [
       "\\begin{enumerate*}\n",
       "\\item 1\n",
       "\\item 2\n",
       "\\end{enumerate*}\n"
      ],
      "text/markdown": [
       "1. 1\n",
       "2. 2\n",
       "\n",
       "\n"
      ],
      "text/plain": [
       "[1] 1 2"
      ]
     },
     "metadata": {},
     "output_type": "display_data"
    }
   ],
   "source": [
    "as.numeric(as.factor(2:3))  ## 순서형 자료라 인덱스 반환"
   ]
  },
  {
   "cell_type": "markdown",
   "id": "02bb252b-d41f-4a03-aa2d-787872e97ca2",
   "metadata": {},
   "source": [
    "`-` 벡터 및 행렬연산"
   ]
  },
  {
   "cell_type": "code",
   "execution_count": 45,
   "id": "74536ede-6d89-497c-98dc-7398429b0525",
   "metadata": {},
   "outputs": [
    {
     "data": {
      "text/html": [
       "3"
      ],
      "text/latex": [
       "3"
      ],
      "text/markdown": [
       "3"
      ],
      "text/plain": [
       "[1] 3"
      ]
     },
     "metadata": {},
     "output_type": "display_data"
    }
   ],
   "source": [
    "a = c(2,3,6)\n",
    "which(a > 3)  ## index"
   ]
  },
  {
   "cell_type": "code",
   "execution_count": 46,
   "id": "61f36022-2af7-483a-835b-a82237c6d993",
   "metadata": {},
   "outputs": [
    {
     "data": {
      "text/html": [
       "<style>\n",
       ".list-inline {list-style: none; margin:0; padding: 0}\n",
       ".list-inline>li {display: inline-block}\n",
       ".list-inline>li:not(:last-child)::after {content: \"\\00b7\"; padding: 0 .5ex}\n",
       "</style>\n",
       "<ol class=list-inline><li>0</li><li>0</li><li>6</li></ol>\n"
      ],
      "text/latex": [
       "\\begin{enumerate*}\n",
       "\\item 0\n",
       "\\item 0\n",
       "\\item 6\n",
       "\\end{enumerate*}\n"
      ],
      "text/markdown": [
       "1. 0\n",
       "2. 0\n",
       "3. 6\n",
       "\n",
       "\n"
      ],
      "text/plain": [
       "[1] 0 0 6"
      ]
     },
     "metadata": {},
     "output_type": "display_data"
    }
   ],
   "source": [
    "a[which(a < 4)] = 0  ## 벡터 우선 연산\n",
    "a"
   ]
  },
  {
   "cell_type": "code",
   "execution_count": null,
   "id": "20f818e8-bd00-4396-8859-2f1801665055",
   "metadata": {},
   "outputs": [],
   "source": []
  }
 ],
 "metadata": {
  "kernelspec": {
   "display_name": "R",
   "language": "R",
   "name": "ir"
  },
  "language_info": {
   "codemirror_mode": "r",
   "file_extension": ".r",
   "mimetype": "text/x-r-source",
   "name": "R",
   "pygments_lexer": "r",
   "version": "4.3.3"
  }
 },
 "nbformat": 4,
 "nbformat_minor": 5
}
