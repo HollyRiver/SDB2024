{
 "cells": [
  {
   "cell_type": "markdown",
   "id": "dede1522-cac8-4ff8-bbde-ef41625a6f17",
   "metadata": {},
   "source": [
    "### R"
   ]
  },
  {
   "cell_type": "code",
   "execution_count": 4,
   "id": "30c22eb1-dbbe-4baf-88b1-4d711ef9cd24",
   "metadata": {},
   "outputs": [
    {
     "name": "stdout",
     "output_type": "stream",
     "text": [
      " [1]  4  8 12 16 20 24 28 32 36 40\n",
      "[1] 4 3\n"
     ]
    }
   ],
   "source": [
    "print(4*1:10) ## vector 기반 데이터 저장 방식\n",
    "print(2^2:3)"
   ]
  },
  {
   "cell_type": "code",
   "execution_count": 5,
   "id": "e9121393-df18-4cae-842f-d08e904f886c",
   "metadata": {},
   "outputs": [
    {
     "data": {
      "text/html": [
       "<style>\n",
       ".list-inline {list-style: none; margin:0; padding: 0}\n",
       ".list-inline>li {display: inline-block}\n",
       ".list-inline>li:not(:last-child)::after {content: \"\\00b7\"; padding: 0 .5ex}\n",
       "</style>\n",
       "<ol class=list-inline><li>4</li><li>3</li></ol>\n"
      ],
      "text/latex": [
       "\\begin{enumerate*}\n",
       "\\item 4\n",
       "\\item 3\n",
       "\\end{enumerate*}\n"
      ],
      "text/markdown": [
       "1. 4\n",
       "2. 3\n",
       "\n",
       "\n"
      ],
      "text/plain": [
       "[1] 4 3"
      ]
     },
     "metadata": {},
     "output_type": "display_data"
    }
   ],
   "source": [
    "2^2:3  ## ??? 순서가 바뀌었나봄"
   ]
  },
  {
   "cell_type": "code",
   "execution_count": 10,
   "id": "207494b7-1bd9-4dd5-85d8-6437bda9eec5",
   "metadata": {},
   "outputs": [
    {
     "data": {
      "text/html": [
       "FALSE"
      ],
      "text/latex": [
       "FALSE"
      ],
      "text/markdown": [
       "FALSE"
      ],
      "text/plain": [
       "[1] FALSE"
      ]
     },
     "metadata": {},
     "output_type": "display_data"
    }
   ],
   "source": [
    "5 > 3 && 3 > 4  ## 그냥 &도 됨, C에서 가져온듯?"
   ]
  },
  {
   "cell_type": "code",
   "execution_count": 11,
   "id": "326142fd-0a68-4892-b929-3989cecbba2c",
   "metadata": {},
   "outputs": [
    {
     "data": {
      "text/html": [
       "<style>\n",
       ".list-inline {list-style: none; margin:0; padding: 0}\n",
       ".list-inline>li {display: inline-block}\n",
       ".list-inline>li:not(:last-child)::after {content: \"\\00b7\"; padding: 0 .5ex}\n",
       "</style>\n",
       "<ol class=list-inline><li>FALSE</li><li>TRUE</li><li>TRUE</li><li>TRUE</li><li>TRUE</li><li>TRUE</li><li>TRUE</li><li>TRUE</li><li>TRUE</li><li>TRUE</li></ol>\n"
      ],
      "text/latex": [
       "\\begin{enumerate*}\n",
       "\\item FALSE\n",
       "\\item TRUE\n",
       "\\item TRUE\n",
       "\\item TRUE\n",
       "\\item TRUE\n",
       "\\item TRUE\n",
       "\\item TRUE\n",
       "\\item TRUE\n",
       "\\item TRUE\n",
       "\\item TRUE\n",
       "\\end{enumerate*}\n"
      ],
      "text/markdown": [
       "1. FALSE\n",
       "2. TRUE\n",
       "3. TRUE\n",
       "4. TRUE\n",
       "5. TRUE\n",
       "6. TRUE\n",
       "7. TRUE\n",
       "8. TRUE\n",
       "9. TRUE\n",
       "10. TRUE\n",
       "\n",
       "\n"
      ],
      "text/plain": [
       " [1] FALSE  TRUE  TRUE  TRUE  TRUE  TRUE  TRUE  TRUE  TRUE  TRUE"
      ]
     },
     "metadata": {},
     "output_type": "display_data"
    }
   ],
   "source": [
    "ex = 1:10\n",
    "1 < ex  ## 벡터와 스칼라가 만나면, 스칼라를 벡터로 변환"
   ]
  },
  {
   "cell_type": "code",
   "execution_count": 17,
   "id": "b8155bdc-fdb9-40e3-94dc-7f3c5fbfbd75",
   "metadata": {},
   "outputs": [
    {
     "data": {
      "text/html": [
       "<style>\n",
       ".list-inline {list-style: none; margin:0; padding: 0}\n",
       ".list-inline>li {display: inline-block}\n",
       ".list-inline>li:not(:last-child)::after {content: \"\\00b7\"; padding: 0 .5ex}\n",
       "</style>\n",
       "<ol class=list-inline><li>FALSE</li><li>FALSE</li><li>FALSE</li><li>FALSE</li><li>FALSE</li><li>FALSE</li><li>FALSE</li><li>FALSE</li><li>FALSE</li><li>FALSE</li></ol>\n"
      ],
      "text/latex": [
       "\\begin{enumerate*}\n",
       "\\item FALSE\n",
       "\\item FALSE\n",
       "\\item FALSE\n",
       "\\item FALSE\n",
       "\\item FALSE\n",
       "\\item FALSE\n",
       "\\item FALSE\n",
       "\\item FALSE\n",
       "\\item FALSE\n",
       "\\item FALSE\n",
       "\\end{enumerate*}\n"
      ],
      "text/markdown": [
       "1. FALSE\n",
       "2. FALSE\n",
       "3. FALSE\n",
       "4. FALSE\n",
       "5. FALSE\n",
       "6. FALSE\n",
       "7. FALSE\n",
       "8. FALSE\n",
       "9. FALSE\n",
       "10. FALSE\n",
       "\n",
       "\n"
      ],
      "text/plain": [
       " [1] FALSE FALSE FALSE FALSE FALSE FALSE FALSE FALSE FALSE FALSE"
      ]
     },
     "metadata": {},
     "output_type": "display_data"
    }
   ],
   "source": [
    "ex > 8 & ex < 2  ## &&은 안되네 여긴 왜"
   ]
  },
  {
   "cell_type": "markdown",
   "id": "526f4f38-a306-40b5-9f3a-911a40e96202",
   "metadata": {},
   "source": [
    "`-` 객체 종류 및 값 지정"
   ]
  },
  {
   "cell_type": "code",
   "execution_count": 36,
   "id": "667f3e5d-0ca2-4804-bde5-6efe28119796",
   "metadata": {},
   "outputs": [
    {
     "name": "stdout",
     "output_type": "stream",
     "text": [
      "[1] \"numeric numeric\"\n",
      "[1] \"character\"\n",
      "[1] \"logical\"\n",
      "[1] 1 2 3\n",
      "[1] \"factor\"\n",
      "[1] NaN\n",
      "[1] Inf\n"
     ]
    }
   ],
   "source": [
    "# Numeric : int / float\n",
    "print(paste(mode(1), mode(1.1)))\n",
    "# Character : string\n",
    "print(class(\"abc\"))\n",
    "# Logical : bool\n",
    "print(class(T))\n",
    "# Vector : list\n",
    "print(c(1,2,3))\n",
    "# Factor, 순서형\n",
    "print(class(as.factor(1:2)))\n",
    "# Nan\n",
    "print(0/0)\n",
    "# Inf\n",
    "print(1/0)"
   ]
  },
  {
   "cell_type": "markdown",
   "id": "60f5dfe6-7b77-41a6-a06a-cd6fb2cf4c71",
   "metadata": {},
   "source": [
    "`-` 객체 종류 및 값 지정"
   ]
  },
  {
   "cell_type": "code",
   "execution_count": 37,
   "id": "38064bec-7d57-4207-9393-7d5ca5112634",
   "metadata": {},
   "outputs": [
    {
     "data": {
      "text/html": [
       "<style>\n",
       ".list-inline {list-style: none; margin:0; padding: 0}\n",
       ".list-inline>li {display: inline-block}\n",
       ".list-inline>li:not(:last-child)::after {content: \"\\00b7\"; padding: 0 .5ex}\n",
       "</style>\n",
       "<ol class=list-inline><li>'T'</li><li>'FALSE'</li></ol>\n"
      ],
      "text/latex": [
       "\\begin{enumerate*}\n",
       "\\item 'T'\n",
       "\\item 'FALSE'\n",
       "\\end{enumerate*}\n"
      ],
      "text/markdown": [
       "1. 'T'\n",
       "2. 'FALSE'\n",
       "\n",
       "\n"
      ],
      "text/plain": [
       "[1] \"T\"     \"FALSE\""
      ]
     },
     "metadata": {},
     "output_type": "display_data"
    }
   ],
   "source": [
    "c(\"T\", F)  ## 서로 다른 값을 넣으면 하나로 병합됨"
   ]
  },
  {
   "cell_type": "code",
   "execution_count": 38,
   "id": "11c82329-6b95-4680-872c-7339f6e1244c",
   "metadata": {},
   "outputs": [
    {
     "data": {
      "text/html": [
       "<style>\n",
       ".list-inline {list-style: none; margin:0; padding: 0}\n",
       ".list-inline>li {display: inline-block}\n",
       ".list-inline>li:not(:last-child)::after {content: \"\\00b7\"; padding: 0 .5ex}\n",
       "</style>\n",
       "<ol class=list-inline><li>1</li><li>3</li></ol>\n"
      ],
      "text/latex": [
       "\\begin{enumerate*}\n",
       "\\item 1\n",
       "\\item 3\n",
       "\\end{enumerate*}\n"
      ],
      "text/markdown": [
       "1. 1\n",
       "2. 3\n",
       "\n",
       "\n"
      ],
      "text/plain": [
       "[1] 1 3"
      ]
     },
     "metadata": {},
     "output_type": "display_data"
    }
   ],
   "source": [
    "c(as.factor(2), 3)"
   ]
  },
  {
   "cell_type": "markdown",
   "id": "5594d5fd-1946-4e62-b2cd-65f30312df9f",
   "metadata": {},
   "source": [
    "> 문자 > 수치 / 논리 > factor"
   ]
  },
  {
   "cell_type": "code",
   "execution_count": 40,
   "id": "228defa0-2be1-4e6e-95d4-0cffe71add77",
   "metadata": {},
   "outputs": [
    {
     "name": "stderr",
     "output_type": "stream",
     "text": [
      "Warning message in 1:3 + 1:40:\n",
      "“longer object length is not a multiple of shorter object length”\n"
     ]
    },
    {
     "data": {
      "text/html": [
       "<style>\n",
       ".list-inline {list-style: none; margin:0; padding: 0}\n",
       ".list-inline>li {display: inline-block}\n",
       ".list-inline>li:not(:last-child)::after {content: \"\\00b7\"; padding: 0 .5ex}\n",
       "</style>\n",
       "<ol class=list-inline><li>2</li><li>4</li><li>6</li><li>5</li><li>7</li><li>9</li><li>8</li><li>10</li><li>12</li><li>11</li><li>13</li><li>15</li><li>14</li><li>16</li><li>18</li><li>17</li><li>19</li><li>21</li><li>20</li><li>22</li><li>24</li><li>23</li><li>25</li><li>27</li><li>26</li><li>28</li><li>30</li><li>29</li><li>31</li><li>33</li><li>32</li><li>34</li><li>36</li><li>35</li><li>37</li><li>39</li><li>38</li><li>40</li><li>42</li><li>41</li></ol>\n"
      ],
      "text/latex": [
       "\\begin{enumerate*}\n",
       "\\item 2\n",
       "\\item 4\n",
       "\\item 6\n",
       "\\item 5\n",
       "\\item 7\n",
       "\\item 9\n",
       "\\item 8\n",
       "\\item 10\n",
       "\\item 12\n",
       "\\item 11\n",
       "\\item 13\n",
       "\\item 15\n",
       "\\item 14\n",
       "\\item 16\n",
       "\\item 18\n",
       "\\item 17\n",
       "\\item 19\n",
       "\\item 21\n",
       "\\item 20\n",
       "\\item 22\n",
       "\\item 24\n",
       "\\item 23\n",
       "\\item 25\n",
       "\\item 27\n",
       "\\item 26\n",
       "\\item 28\n",
       "\\item 30\n",
       "\\item 29\n",
       "\\item 31\n",
       "\\item 33\n",
       "\\item 32\n",
       "\\item 34\n",
       "\\item 36\n",
       "\\item 35\n",
       "\\item 37\n",
       "\\item 39\n",
       "\\item 38\n",
       "\\item 40\n",
       "\\item 42\n",
       "\\item 41\n",
       "\\end{enumerate*}\n"
      ],
      "text/markdown": [
       "1. 2\n",
       "2. 4\n",
       "3. 6\n",
       "4. 5\n",
       "5. 7\n",
       "6. 9\n",
       "7. 8\n",
       "8. 10\n",
       "9. 12\n",
       "10. 11\n",
       "11. 13\n",
       "12. 15\n",
       "13. 14\n",
       "14. 16\n",
       "15. 18\n",
       "16. 17\n",
       "17. 19\n",
       "18. 21\n",
       "19. 20\n",
       "20. 22\n",
       "21. 24\n",
       "22. 23\n",
       "23. 25\n",
       "24. 27\n",
       "25. 26\n",
       "26. 28\n",
       "27. 30\n",
       "28. 29\n",
       "29. 31\n",
       "30. 33\n",
       "31. 32\n",
       "32. 34\n",
       "33. 36\n",
       "34. 35\n",
       "35. 37\n",
       "36. 39\n",
       "37. 38\n",
       "38. 40\n",
       "39. 42\n",
       "40. 41\n",
       "\n",
       "\n"
      ],
      "text/plain": [
       " [1]  2  4  6  5  7  9  8 10 12 11 13 15 14 16 18 17 19 21 20 22 24 23 25 27 26\n",
       "[26] 28 30 29 31 33 32 34 36 35 37 39 38 40 42 41"
      ]
     },
     "metadata": {},
     "output_type": "display_data"
    }
   ],
   "source": [
    "1:3 + 1:40  ## 짧은 쪽을 늘린다."
   ]
  },
  {
   "cell_type": "markdown",
   "id": "d04b69ac-8b25-4122-afa9-2b05986510e3",
   "metadata": {},
   "source": [
    "> 일반 문자 $\\to$ 숫자 (X)\n",
    ">\n",
    "> 숫자로 된 문자 $\\to$ 숫자 (O)\n",
    ">\n",
    "> 숫자 $\\to$ 문자 (O)\n",
    ">\n",
    "> 논리 $\\to$ 숫자 (O)"
   ]
  },
  {
   "cell_type": "code",
   "execution_count": 42,
   "id": "c9cf96da-dd58-4901-be5c-143c614e8bcd",
   "metadata": {},
   "outputs": [
    {
     "data": {
      "text/html": [
       "<style>\n",
       ".list-inline {list-style: none; margin:0; padding: 0}\n",
       ".list-inline>li {display: inline-block}\n",
       ".list-inline>li:not(:last-child)::after {content: \"\\00b7\"; padding: 0 .5ex}\n",
       "</style>\n",
       "<ol class=list-inline><li>'2'</li><li>'3'</li></ol>\n"
      ],
      "text/latex": [
       "\\begin{enumerate*}\n",
       "\\item '2'\n",
       "\\item '3'\n",
       "\\end{enumerate*}\n"
      ],
      "text/markdown": [
       "1. '2'\n",
       "2. '3'\n",
       "\n",
       "\n"
      ],
      "text/plain": [
       "[1] \"2\" \"3\""
      ]
     },
     "metadata": {},
     "output_type": "display_data"
    }
   ],
   "source": [
    "as.character(as.factor(2:3))"
   ]
  },
  {
   "cell_type": "code",
   "execution_count": 43,
   "id": "c1201804-b3ec-477e-9700-8bfe0b1b326f",
   "metadata": {},
   "outputs": [
    {
     "data": {
      "text/html": [
       "<style>\n",
       ".list-inline {list-style: none; margin:0; padding: 0}\n",
       ".list-inline>li {display: inline-block}\n",
       ".list-inline>li:not(:last-child)::after {content: \"\\00b7\"; padding: 0 .5ex}\n",
       "</style>\n",
       "<ol class=list-inline><li>1</li><li>2</li></ol>\n"
      ],
      "text/latex": [
       "\\begin{enumerate*}\n",
       "\\item 1\n",
       "\\item 2\n",
       "\\end{enumerate*}\n"
      ],
      "text/markdown": [
       "1. 1\n",
       "2. 2\n",
       "\n",
       "\n"
      ],
      "text/plain": [
       "[1] 1 2"
      ]
     },
     "metadata": {},
     "output_type": "display_data"
    }
   ],
   "source": [
    "as.numeric(as.factor(2:3))  ## 순서형 자료라 인덱스 반환"
   ]
  },
  {
   "cell_type": "markdown",
   "id": "02bb252b-d41f-4a03-aa2d-787872e97ca2",
   "metadata": {},
   "source": [
    "`-` 벡터 및 행렬연산"
   ]
  },
  {
   "cell_type": "code",
   "execution_count": 45,
   "id": "74536ede-6d89-497c-98dc-7398429b0525",
   "metadata": {},
   "outputs": [
    {
     "data": {
      "text/html": [
       "3"
      ],
      "text/latex": [
       "3"
      ],
      "text/markdown": [
       "3"
      ],
      "text/plain": [
       "[1] 3"
      ]
     },
     "metadata": {},
     "output_type": "display_data"
    }
   ],
   "source": [
    "a = c(2,3,6)\n",
    "which(a > 3)  ## index"
   ]
  },
  {
   "cell_type": "code",
   "execution_count": 46,
   "id": "61f36022-2af7-483a-835b-a82237c6d993",
   "metadata": {},
   "outputs": [
    {
     "data": {
      "text/html": [
       "<style>\n",
       ".list-inline {list-style: none; margin:0; padding: 0}\n",
       ".list-inline>li {display: inline-block}\n",
       ".list-inline>li:not(:last-child)::after {content: \"\\00b7\"; padding: 0 .5ex}\n",
       "</style>\n",
       "<ol class=list-inline><li>0</li><li>0</li><li>6</li></ol>\n"
      ],
      "text/latex": [
       "\\begin{enumerate*}\n",
       "\\item 0\n",
       "\\item 0\n",
       "\\item 6\n",
       "\\end{enumerate*}\n"
      ],
      "text/markdown": [
       "1. 0\n",
       "2. 0\n",
       "3. 6\n",
       "\n",
       "\n"
      ],
      "text/plain": [
       "[1] 0 0 6"
      ]
     },
     "metadata": {},
     "output_type": "display_data"
    }
   ],
   "source": [
    "a[which(a < 4)] = 0  ## 벡터 우선 연산\n",
    "a"
   ]
  },
  {
   "cell_type": "markdown",
   "id": "38d4ea03-5ae8-43c4-8940-8cdd4669f8ae",
   "metadata": {},
   "source": [
    "`-` matrix"
   ]
  },
  {
   "cell_type": "code",
   "execution_count": 8,
   "id": "3997a88a-d710-4752-b8b0-8b32b9598aa1",
   "metadata": {},
   "outputs": [
    {
     "data": {
      "text/html": [
       "<table class=\"dataframe\">\n",
       "<caption>A matrix: 2 × 20 of type int</caption>\n",
       "<tbody>\n",
       "\t<tr><td> 1</td><td> 2</td><td> 3</td><td> 4</td><td> 5</td><td> 6</td><td> 7</td><td> 8</td><td> 9</td><td>10</td><td>11</td><td>12</td><td>13</td><td>14</td><td>15</td><td>16</td><td>17</td><td>18</td><td>19</td><td>20</td></tr>\n",
       "\t<tr><td>21</td><td>22</td><td>23</td><td>24</td><td>25</td><td>26</td><td>27</td><td>28</td><td>29</td><td>30</td><td>31</td><td>32</td><td>33</td><td>34</td><td>35</td><td>36</td><td>37</td><td>38</td><td>39</td><td>40</td></tr>\n",
       "</tbody>\n",
       "</table>\n"
      ],
      "text/latex": [
       "A matrix: 2 × 20 of type int\n",
       "\\begin{tabular}{llllllllllllllllllll}\n",
       "\t  1 &  2 &  3 &  4 &  5 &  6 &  7 &  8 &  9 & 10 & 11 & 12 & 13 & 14 & 15 & 16 & 17 & 18 & 19 & 20\\\\\n",
       "\t 21 & 22 & 23 & 24 & 25 & 26 & 27 & 28 & 29 & 30 & 31 & 32 & 33 & 34 & 35 & 36 & 37 & 38 & 39 & 40\\\\\n",
       "\\end{tabular}\n"
      ],
      "text/markdown": [
       "\n",
       "A matrix: 2 × 20 of type int\n",
       "\n",
       "|  1 |  2 |  3 |  4 |  5 |  6 |  7 |  8 |  9 | 10 | 11 | 12 | 13 | 14 | 15 | 16 | 17 | 18 | 19 | 20 |\n",
       "| 21 | 22 | 23 | 24 | 25 | 26 | 27 | 28 | 29 | 30 | 31 | 32 | 33 | 34 | 35 | 36 | 37 | 38 | 39 | 40 |\n",
       "\n"
      ],
      "text/plain": [
       "     [,1] [,2] [,3] [,4] [,5] [,6] [,7] [,8] [,9] [,10] [,11] [,12] [,13] [,14]\n",
       "[1,]  1    2    3    4    5    6    7    8    9   10    11    12    13    14   \n",
       "[2,] 21   22   23   24   25   26   27   28   29   30    31    32    33    34   \n",
       "     [,15] [,16] [,17] [,18] [,19] [,20]\n",
       "[1,] 15    16    17    18    19    20   \n",
       "[2,] 35    36    37    38    39    40   "
      ]
     },
     "metadata": {},
     "output_type": "display_data"
    }
   ],
   "source": [
    "A = matrix(1:40, 2, 20, byrow = TRUE)  ## 디폴트는 열단위로 집어넣음(시리즈로)\n",
    "A"
   ]
  },
  {
   "cell_type": "code",
   "execution_count": 5,
   "id": "09b615a3-d1d3-4e9c-b6ab-c0d367e324a6",
   "metadata": {},
   "outputs": [
    {
     "data": {
      "text/html": [
       "<table class=\"dataframe\">\n",
       "<caption>A matrix: 2 × 2 of type dbl</caption>\n",
       "<tbody>\n",
       "\t<tr><td>2</td><td>2</td></tr>\n",
       "\t<tr><td>4</td><td>4</td></tr>\n",
       "</tbody>\n",
       "</table>\n"
      ],
      "text/latex": [
       "A matrix: 2 × 2 of type dbl\n",
       "\\begin{tabular}{ll}\n",
       "\t 2 & 2\\\\\n",
       "\t 4 & 4\\\\\n",
       "\\end{tabular}\n"
      ],
      "text/markdown": [
       "\n",
       "A matrix: 2 × 2 of type dbl\n",
       "\n",
       "| 2 | 2 |\n",
       "| 4 | 4 |\n",
       "\n"
      ],
      "text/plain": [
       "     [,1] [,2]\n",
       "[1,] 2    2   \n",
       "[2,] 4    4   "
      ]
     },
     "metadata": {},
     "output_type": "display_data"
    }
   ],
   "source": [
    "matrix(c(2, 4), 2,2)  ## 차수가 벡터의 차수의 배수라면 원소의 수가 적어도 넣을 수 있음(벡터연산과 동일)"
   ]
  },
  {
   "cell_type": "code",
   "execution_count": 10,
   "id": "81c2cfb9-1a67-413e-b19b-8634d36630c0",
   "metadata": {},
   "outputs": [
    {
     "name": "stdout",
     "output_type": "stream",
     "text": [
      "[1]  2 20\n"
     ]
    },
    {
     "data": {
      "text/html": [
       "<style>\n",
       ".list-inline {list-style: none; margin:0; padding: 0}\n",
       ".list-inline>li {display: inline-block}\n",
       ".list-inline>li:not(:last-child)::after {content: \"\\00b7\"; padding: 0 .5ex}\n",
       "</style>\n",
       "<ol class=list-inline><li>1</li><li>22</li></ol>\n"
      ],
      "text/latex": [
       "\\begin{enumerate*}\n",
       "\\item 1\n",
       "\\item 22\n",
       "\\end{enumerate*}\n"
      ],
      "text/markdown": [
       "1. 1\n",
       "2. 22\n",
       "\n",
       "\n"
      ],
      "text/plain": [
       "[1]  1 22"
      ]
     },
     "metadata": {},
     "output_type": "display_data"
    }
   ],
   "source": [
    "print(dim(A), diag(A))"
   ]
  },
  {
   "cell_type": "markdown",
   "id": "6ecb0ba6-75c8-4e53-a798-d2ed0d6a0310",
   "metadata": {},
   "source": [
    "`-` matrix에 `which()`를 쓰면"
   ]
  },
  {
   "cell_type": "code",
   "execution_count": 12,
   "id": "2bdaeb04-bc40-4de0-9f31-704e61710274",
   "metadata": {},
   "outputs": [
    {
     "data": {
      "text/html": [
       "<style>\n",
       ".list-inline {list-style: none; margin:0; padding: 0}\n",
       ".list-inline>li {display: inline-block}\n",
       ".list-inline>li:not(:last-child)::after {content: \"\\00b7\"; padding: 0 .5ex}\n",
       "</style>\n",
       "<ol class=list-inline><li>1</li><li>3</li><li>5</li><li>7</li><li>9</li><li>11</li><li>13</li><li>15</li><li>17</li><li>19</li><li>21</li><li>23</li><li>25</li><li>27</li><li>29</li><li>31</li><li>33</li><li>35</li><li>37</li><li>39</li></ol>\n"
      ],
      "text/latex": [
       "\\begin{enumerate*}\n",
       "\\item 1\n",
       "\\item 3\n",
       "\\item 5\n",
       "\\item 7\n",
       "\\item 9\n",
       "\\item 11\n",
       "\\item 13\n",
       "\\item 15\n",
       "\\item 17\n",
       "\\item 19\n",
       "\\item 21\n",
       "\\item 23\n",
       "\\item 25\n",
       "\\item 27\n",
       "\\item 29\n",
       "\\item 31\n",
       "\\item 33\n",
       "\\item 35\n",
       "\\item 37\n",
       "\\item 39\n",
       "\\end{enumerate*}\n"
      ],
      "text/markdown": [
       "1. 1\n",
       "2. 3\n",
       "3. 5\n",
       "4. 7\n",
       "5. 9\n",
       "6. 11\n",
       "7. 13\n",
       "8. 15\n",
       "9. 17\n",
       "10. 19\n",
       "11. 21\n",
       "12. 23\n",
       "13. 25\n",
       "14. 27\n",
       "15. 29\n",
       "16. 31\n",
       "17. 33\n",
       "18. 35\n",
       "19. 37\n",
       "20. 39\n",
       "\n",
       "\n"
      ],
      "text/plain": [
       " [1]  1  3  5  7  9 11 13 15 17 19 21 23 25 27 29 31 33 35 37 39"
      ]
     },
     "metadata": {},
     "output_type": "display_data"
    }
   ],
   "source": [
    "which(A <= 20)"
   ]
  },
  {
   "cell_type": "markdown",
   "id": "e600eece-ae91-40d0-a8d6-4e520ccde06b",
   "metadata": {},
   "source": [
    "> 위에서 아래로 넣었다고 간주하여 연산한다."
   ]
  },
  {
   "cell_type": "code",
   "execution_count": 22,
   "id": "b55c9fd7-9177-4ced-8795-fb2df2afb906",
   "metadata": {},
   "outputs": [
    {
     "data": {
      "text/html": [
       "<style>\n",
       ".list-inline {list-style: none; margin:0; padding: 0}\n",
       ".list-inline>li {display: inline-block}\n",
       ".list-inline>li:not(:last-child)::after {content: \"\\00b7\"; padding: 0 .5ex}\n",
       "</style>\n",
       "<ol class=list-inline><li>1</li><li>2</li><li>3</li><li>4</li><li>5</li><li>6</li><li>7</li><li>8</li><li>9</li><li>10</li><li>11</li><li>12</li><li>13</li><li>14</li><li>15</li><li>16</li><li>17</li><li>18</li><li>19</li><li>20</li></ol>\n"
      ],
      "text/latex": [
       "\\begin{enumerate*}\n",
       "\\item 1\n",
       "\\item 2\n",
       "\\item 3\n",
       "\\item 4\n",
       "\\item 5\n",
       "\\item 6\n",
       "\\item 7\n",
       "\\item 8\n",
       "\\item 9\n",
       "\\item 10\n",
       "\\item 11\n",
       "\\item 12\n",
       "\\item 13\n",
       "\\item 14\n",
       "\\item 15\n",
       "\\item 16\n",
       "\\item 17\n",
       "\\item 18\n",
       "\\item 19\n",
       "\\item 20\n",
       "\\end{enumerate*}\n"
      ],
      "text/markdown": [
       "1. 1\n",
       "2. 2\n",
       "3. 3\n",
       "4. 4\n",
       "5. 5\n",
       "6. 6\n",
       "7. 7\n",
       "8. 8\n",
       "9. 9\n",
       "10. 10\n",
       "11. 11\n",
       "12. 12\n",
       "13. 13\n",
       "14. 14\n",
       "15. 15\n",
       "16. 16\n",
       "17. 17\n",
       "18. 18\n",
       "19. 19\n",
       "20. 20\n",
       "\n",
       "\n"
      ],
      "text/plain": [
       " [1]  1  2  3  4  5  6  7  8  9 10 11 12 13 14 15 16 17 18 19 20"
      ]
     },
     "metadata": {},
     "output_type": "display_data"
    }
   ],
   "source": [
    "A[which(A <= 20)]  ## 왠만해선 matrix 전체를 대상으로 which문은 사용하지 마세요."
   ]
  },
  {
   "cell_type": "code",
   "execution_count": 26,
   "id": "7cf8cfb6-b7a5-4fd5-b39a-f1359f183cac",
   "metadata": {},
   "outputs": [
    {
     "data": {
      "text/html": [
       "<table class=\"dataframe\">\n",
       "<caption>A matrix: 2 × 5 of type dbl</caption>\n",
       "<tbody>\n",
       "\t<tr><td>-2.302346</td><td>0.3940541</td><td>-0.1595768</td><td>-1.620470</td><td>0.4811246</td></tr>\n",
       "\t<tr><td>-0.170876</td><td>0.7975285</td><td> 0.3265492</td><td>-2.265996</td><td>0.7419716</td></tr>\n",
       "</tbody>\n",
       "</table>\n"
      ],
      "text/latex": [
       "A matrix: 2 × 5 of type dbl\n",
       "\\begin{tabular}{lllll}\n",
       "\t -2.302346 & 0.3940541 & -0.1595768 & -1.620470 & 0.4811246\\\\\n",
       "\t -0.170876 & 0.7975285 &  0.3265492 & -2.265996 & 0.7419716\\\\\n",
       "\\end{tabular}\n"
      ],
      "text/markdown": [
       "\n",
       "A matrix: 2 × 5 of type dbl\n",
       "\n",
       "| -2.302346 | 0.3940541 | -0.1595768 | -1.620470 | 0.4811246 |\n",
       "| -0.170876 | 0.7975285 |  0.3265492 | -2.265996 | 0.7419716 |\n",
       "\n"
      ],
      "text/plain": [
       "     [,1]      [,2]      [,3]       [,4]      [,5]     \n",
       "[1,] -2.302346 0.3940541 -0.1595768 -1.620470 0.4811246\n",
       "[2,] -0.170876 0.7975285  0.3265492 -2.265996 0.7419716"
      ]
     },
     "metadata": {},
     "output_type": "display_data"
    }
   ],
   "source": [
    "set.seed(111)\n",
    "a = matrix(rnorm(100), 10, 10)\n",
    "aa = a[c(4,5), 1:5]; aa"
   ]
  },
  {
   "cell_type": "code",
   "execution_count": 27,
   "id": "fb49f881-19b4-403a-9640-d1a8e5ab9886",
   "metadata": {},
   "outputs": [
    {
     "data": {
      "text/html": [
       "<table class=\"dataframe\">\n",
       "<caption>A matrix: 5 × 2 of type dbl</caption>\n",
       "<tbody>\n",
       "\t<tr><td>-2.3023457</td><td>-0.1708760</td></tr>\n",
       "\t<tr><td> 0.3940541</td><td> 0.7975285</td></tr>\n",
       "\t<tr><td>-0.1595768</td><td> 0.3265492</td></tr>\n",
       "\t<tr><td>-1.6204700</td><td>-2.2659960</td></tr>\n",
       "\t<tr><td> 0.4811246</td><td> 0.7419716</td></tr>\n",
       "</tbody>\n",
       "</table>\n"
      ],
      "text/latex": [
       "A matrix: 5 × 2 of type dbl\n",
       "\\begin{tabular}{ll}\n",
       "\t -2.3023457 & -0.1708760\\\\\n",
       "\t  0.3940541 &  0.7975285\\\\\n",
       "\t -0.1595768 &  0.3265492\\\\\n",
       "\t -1.6204700 & -2.2659960\\\\\n",
       "\t  0.4811246 &  0.7419716\\\\\n",
       "\\end{tabular}\n"
      ],
      "text/markdown": [
       "\n",
       "A matrix: 5 × 2 of type dbl\n",
       "\n",
       "| -2.3023457 | -0.1708760 |\n",
       "|  0.3940541 |  0.7975285 |\n",
       "| -0.1595768 |  0.3265492 |\n",
       "| -1.6204700 | -2.2659960 |\n",
       "|  0.4811246 |  0.7419716 |\n",
       "\n"
      ],
      "text/plain": [
       "     [,1]       [,2]      \n",
       "[1,] -2.3023457 -0.1708760\n",
       "[2,]  0.3940541  0.7975285\n",
       "[3,] -0.1595768  0.3265492\n",
       "[4,] -1.6204700 -2.2659960\n",
       "[5,]  0.4811246  0.7419716"
      ]
     },
     "metadata": {},
     "output_type": "display_data"
    }
   ],
   "source": [
    "t(aa) ## transpose"
   ]
  },
  {
   "cell_type": "code",
   "execution_count": 28,
   "id": "4ff4511d-1dce-4003-a8a9-b3a8a4ccbfcd",
   "metadata": {},
   "outputs": [
    {
     "data": {
      "text/html": [
       "<table class=\"dataframe\">\n",
       "<caption>A matrix: 2 × 2 of type dbl</caption>\n",
       "<tbody>\n",
       "\t<tr><td>8.338943</td><td>4.684535</td></tr>\n",
       "\t<tr><td>4.684535</td><td>6.457144</td></tr>\n",
       "</tbody>\n",
       "</table>\n"
      ],
      "text/latex": [
       "A matrix: 2 × 2 of type dbl\n",
       "\\begin{tabular}{ll}\n",
       "\t 8.338943 & 4.684535\\\\\n",
       "\t 4.684535 & 6.457144\\\\\n",
       "\\end{tabular}\n"
      ],
      "text/markdown": [
       "\n",
       "A matrix: 2 × 2 of type dbl\n",
       "\n",
       "| 8.338943 | 4.684535 |\n",
       "| 4.684535 | 6.457144 |\n",
       "\n"
      ],
      "text/plain": [
       "     [,1]     [,2]    \n",
       "[1,] 8.338943 4.684535\n",
       "[2,] 4.684535 6.457144"
      ]
     },
     "metadata": {},
     "output_type": "display_data"
    }
   ],
   "source": [
    "aa %*% t(aa)"
   ]
  },
  {
   "cell_type": "code",
   "execution_count": 36,
   "id": "8f4ca530-12ab-4e97-9dbd-f930711f3964",
   "metadata": {},
   "outputs": [
    {
     "data": {
      "text/html": [
       "<table class=\"dataframe\">\n",
       "<caption>A matrix: 4 × 4 of type dbl</caption>\n",
       "<tbody>\n",
       "\t<tr><td> 4.808390</td><td>-9.788799</td><td>-2.6991982</td><td> 1.828429</td></tr>\n",
       "\t<tr><td>-2.238740</td><td> 4.886830</td><td> 0.7409947</td><td>-1.031018</td></tr>\n",
       "\t<tr><td>-6.910127</td><td>12.327412</td><td> 3.9774536</td><td>-3.015182</td></tr>\n",
       "\t<tr><td>-3.829393</td><td> 8.035072</td><td> 2.4566288</td><td>-1.877991</td></tr>\n",
       "</tbody>\n",
       "</table>\n"
      ],
      "text/latex": [
       "A matrix: 4 × 4 of type dbl\n",
       "\\begin{tabular}{llll}\n",
       "\t  4.808390 & -9.788799 & -2.6991982 &  1.828429\\\\\n",
       "\t -2.238740 &  4.886830 &  0.7409947 & -1.031018\\\\\n",
       "\t -6.910127 & 12.327412 &  3.9774536 & -3.015182\\\\\n",
       "\t -3.829393 &  8.035072 &  2.4566288 & -1.877991\\\\\n",
       "\\end{tabular}\n"
      ],
      "text/markdown": [
       "\n",
       "A matrix: 4 × 4 of type dbl\n",
       "\n",
       "|  4.808390 | -9.788799 | -2.6991982 |  1.828429 |\n",
       "| -2.238740 |  4.886830 |  0.7409947 | -1.031018 |\n",
       "| -6.910127 | 12.327412 |  3.9774536 | -3.015182 |\n",
       "| -3.829393 |  8.035072 |  2.4566288 | -1.877991 |\n",
       "\n"
      ],
      "text/plain": [
       "     [,1]      [,2]      [,3]       [,4]     \n",
       "[1,]  4.808390 -9.788799 -2.6991982  1.828429\n",
       "[2,] -2.238740  4.886830  0.7409947 -1.031018\n",
       "[3,] -6.910127 12.327412  3.9774536 -3.015182\n",
       "[4,] -3.829393  8.035072  2.4566288 -1.877991"
      ]
     },
     "metadata": {},
     "output_type": "display_data"
    }
   ],
   "source": [
    "set.seed(111)\n",
    "A = matrix(rnorm(16), 4,4)\n",
    "solve(A)"
   ]
  },
  {
   "cell_type": "markdown",
   "id": "218234e3-7f58-476b-a1cc-12fae9cf9e8c",
   "metadata": {},
   "source": [
    "`-` solve()는 Ax = b에서 x의 해를 내놓는 함수임."
   ]
  },
  {
   "cell_type": "code",
   "execution_count": 37,
   "id": "6bc45e15-72d8-45c2-a917-47b034d125e5",
   "metadata": {},
   "outputs": [
    {
     "data": {
      "text/html": [
       "<style>\n",
       ".list-inline {list-style: none; margin:0; padding: 0}\n",
       ".list-inline>li {display: inline-block}\n",
       ".list-inline>li:not(:last-child)::after {content: \"\\00b7\"; padding: 0 .5ex}\n",
       "</style>\n",
       "<ol class=list-inline><li>-15.5530883548615</li><li>5.63383228479694</li><li>17.61632901259</li><li>12.0986752604559</li></ol>\n"
      ],
      "text/latex": [
       "\\begin{enumerate*}\n",
       "\\item -15.5530883548615\n",
       "\\item 5.63383228479694\n",
       "\\item 17.61632901259\n",
       "\\item 12.0986752604559\n",
       "\\end{enumerate*}\n"
      ],
      "text/markdown": [
       "1. -15.5530883548615\n",
       "2. 5.63383228479694\n",
       "3. 17.61632901259\n",
       "4. 12.0986752604559\n",
       "\n",
       "\n"
      ],
      "text/plain": [
       "[1] -15.553088   5.633832  17.616329  12.098675"
      ]
     },
     "metadata": {},
     "output_type": "display_data"
    }
   ],
   "source": [
    "b = c(1,2,3,4)\n",
    "solve(A, b)"
   ]
  },
  {
   "cell_type": "code",
   "execution_count": 38,
   "id": "e113dbc7-2da3-4e73-9aa0-ed1b9d9719d0",
   "metadata": {},
   "outputs": [
    {
     "ename": "ERROR",
     "evalue": "Error in A * B: non-conformable arrays\n",
     "output_type": "error",
     "traceback": [
      "Error in A * B: non-conformable arrays\nTraceback:\n"
     ]
    }
   ],
   "source": [
    "A = matrix(c(2,3,3,6),2,2)\n",
    "B = matrix(c(2,7,6,3,5,4), 2,3)\n",
    "A*B  ## 아예 안됨, 굳"
   ]
  },
  {
   "cell_type": "markdown",
   "id": "071ae3c1-c44d-491e-ac8f-6eb110fc3aa4",
   "metadata": {},
   "source": [
    "`-` 배열"
   ]
  },
  {
   "cell_type": "code",
   "execution_count": 39,
   "id": "c0f9e754-bc8e-4dd8-a700-5a8b2c003b18",
   "metadata": {},
   "outputs": [
    {
     "data": {
      "text/html": [
       "'array'"
      ],
      "text/latex": [
       "'array'"
      ],
      "text/markdown": [
       "'array'"
      ],
      "text/plain": [
       "[1] \"array\""
      ]
     },
     "metadata": {},
     "output_type": "display_data"
    },
    {
     "data": {
      "text/html": [
       "'numeric'"
      ],
      "text/latex": [
       "'numeric'"
      ],
      "text/markdown": [
       "'numeric'"
      ],
      "text/plain": [
       "[1] \"numeric\""
      ]
     },
     "metadata": {},
     "output_type": "display_data"
    }
   ],
   "source": [
    "a = array(1:12, c(3,2,2))\n",
    "class(a); mode(a)"
   ]
  },
  {
   "cell_type": "code",
   "execution_count": 40,
   "id": "8f9dc33e-f5d4-474c-b47e-6ef0774465bb",
   "metadata": {},
   "outputs": [
    {
     "name": "stdout",
     "output_type": "stream",
     "text": [
      ", , 1\n",
      "\n",
      "     [,1] [,2]\n",
      "[1,]    1    4\n",
      "[2,]    2    5\n",
      "[3,]    3    6\n",
      "\n",
      ", , 2\n",
      "\n",
      "     [,1] [,2]\n",
      "[1,]    7   10\n",
      "[2,]    8   11\n",
      "[3,]    9   12\n",
      "\n"
     ]
    }
   ],
   "source": [
    "print(a)"
   ]
  },
  {
   "cell_type": "markdown",
   "id": "ffeb33a1-3e5c-40d7-a5e9-55db4987caab",
   "metadata": {},
   "source": [
    "> 행렬 구조를 유지하고자 함.\n",
    "\n",
    "행렬과 배열은 모든 원소의 자료형이 동일해야 한다. 따라서 각 열의 자료형을 유지시키기 위해 데이터프레임을 사용해야 한다."
   ]
  },
  {
   "cell_type": "markdown",
   "id": "959e5f52-d0ea-4e8f-b566-3d4e7845cd8c",
   "metadata": {},
   "source": [
    "R의 경우 정수(integer)를 입력해도 기본적으로 실수(double)로 받아들인다."
   ]
  },
  {
   "cell_type": "code",
   "execution_count": 44,
   "id": "cee1da2c-47e2-445a-a8f0-89037b023d6f",
   "metadata": {},
   "outputs": [
    {
     "name": "stdout",
     "output_type": "stream",
     "text": [
      "  a  b\n",
      "1 2 a1\n",
      "2 3 a2\n",
      "3 4 a3\n"
     ]
    }
   ],
   "source": [
    "a = c(2,3,4)\n",
    "b = paste('a', 1:3, sep = \"\")\n",
    "df = data.frame(a,b)\n",
    "print(df)"
   ]
  },
  {
   "cell_type": "code",
   "execution_count": 47,
   "id": "1585f9a9-7015-4b59-8874-7f152bb4bb92",
   "metadata": {},
   "outputs": [
    {
     "data": {
      "text/html": [
       "'list'"
      ],
      "text/latex": [
       "'list'"
      ],
      "text/markdown": [
       "'list'"
      ],
      "text/plain": [
       "[1] \"list\""
      ]
     },
     "metadata": {},
     "output_type": "display_data"
    }
   ],
   "source": [
    "mode(df)"
   ]
  },
  {
   "cell_type": "markdown",
   "id": "6e83c1a1-8a2e-4da1-88b2-1110d97182bc",
   "metadata": {},
   "source": [
    "> 데이터프레임은 리스트의 특별한 유형이라고 볼 수 있다. (Json 파일 구조 / dictionary 구조와 유사)"
   ]
  },
  {
   "cell_type": "markdown",
   "id": "9f0a92f7-adc8-48d9-aee9-43f8d71601b0",
   "metadata": {},
   "source": [
    "`-` `list` : 원소가 벡터만이 아닌 다른 어떤 것이든 가능"
   ]
  },
  {
   "cell_type": "code",
   "execution_count": 49,
   "id": "9538d20f-250b-4dac-b567-9de7295830dd",
   "metadata": {},
   "outputs": [
    {
     "data": {
      "text/html": [
       "<ol>\n",
       "\t<li><style>\n",
       ".list-inline {list-style: none; margin:0; padding: 0}\n",
       ".list-inline>li {display: inline-block}\n",
       ".list-inline>li:not(:last-child)::after {content: \"\\00b7\"; padding: 0 .5ex}\n",
       "</style>\n",
       "<ol class=list-inline><li>2</li><li>3</li><li>4</li></ol>\n",
       "</li>\n",
       "\t<li><table class=\"dataframe\">\n",
       "<caption>A matrix: 2 × 2 of type int</caption>\n",
       "<tbody>\n",
       "\t<tr><td>1</td><td>3</td></tr>\n",
       "\t<tr><td>2</td><td>4</td></tr>\n",
       "</tbody>\n",
       "</table>\n",
       "</li>\n",
       "</ol>\n"
      ],
      "text/latex": [
       "\\begin{enumerate}\n",
       "\\item \\begin{enumerate*}\n",
       "\\item 2\n",
       "\\item 3\n",
       "\\item 4\n",
       "\\end{enumerate*}\n",
       "\n",
       "\\item A matrix: 2 × 2 of type int\n",
       "\\begin{tabular}{ll}\n",
       "\t 1 & 3\\\\\n",
       "\t 2 & 4\\\\\n",
       "\\end{tabular}\n",
       "\n",
       "\\end{enumerate}\n"
      ],
      "text/markdown": [
       "1. 1. 2\n",
       "2. 3\n",
       "3. 4\n",
       "\n",
       "\n",
       "\n",
       "2. \n",
       "A matrix: 2 × 2 of type int\n",
       "\n",
       "| 1 | 3 |\n",
       "| 2 | 4 |\n",
       "\n",
       "\n",
       "\n",
       "\n"
      ],
      "text/plain": [
       "[[1]]\n",
       "[1] 2 3 4\n",
       "\n",
       "[[2]]\n",
       "     [,1] [,2]\n",
       "[1,]    1    3\n",
       "[2,]    2    4\n"
      ]
     },
     "metadata": {},
     "output_type": "display_data"
    }
   ],
   "source": [
    "a = c(2,3,4)\n",
    "A = matrix(1:4, 2,2)\n",
    "lst_a = list(a, A)  ## 벡터와 데이터프레임이 들어가있음\n",
    "lst_a"
   ]
  },
  {
   "cell_type": "code",
   "execution_count": 51,
   "id": "134ca4e0-2c57-4ee9-b706-cd2f954b69e6",
   "metadata": {},
   "outputs": [],
   "source": [
    "lst_b = list(lst_a, c(\"w\", \"e\", \"f\"))"
   ]
  },
  {
   "cell_type": "markdown",
   "id": "5aa8fcbc-b5d6-4537-b006-ca44d90119cf",
   "metadata": {},
   "source": [
    "`-` 자료형 변환"
   ]
  },
  {
   "cell_type": "code",
   "execution_count": 52,
   "id": "c39f7157-f7a8-4c98-acbc-51399db43a05",
   "metadata": {},
   "outputs": [
    {
     "name": "stderr",
     "output_type": "stream",
     "text": [
      "Warning message in eval(expr, envir, enclos):\n",
      "“NAs introduced by coercion”\n"
     ]
    },
    {
     "data": {
      "text/html": [
       "&lt;NA&gt;"
      ],
      "text/latex": [
       "<NA>"
      ],
      "text/markdown": [
       "&lt;NA&gt;"
      ],
      "text/plain": [
       "[1] NA"
      ]
     },
     "metadata": {},
     "output_type": "display_data"
    },
    {
     "data": {
      "text/html": [
       "'23'"
      ],
      "text/latex": [
       "'23'"
      ],
      "text/markdown": [
       "'23'"
      ],
      "text/plain": [
       "[1] \"23\""
      ]
     },
     "metadata": {},
     "output_type": "display_data"
    },
    {
     "data": {
      "text/html": [
       "3"
      ],
      "text/latex": [
       "3"
      ],
      "text/markdown": [
       "3"
      ],
      "text/plain": [
       "[1] 3"
      ]
     },
     "metadata": {},
     "output_type": "display_data"
    },
    {
     "data": {
      "text/html": [
       "<ol>\n",
       "\t<li>1</li>\n",
       "\t<li>1</li>\n",
       "</ol>\n"
      ],
      "text/latex": [
       "\\begin{enumerate}\n",
       "\\item 1\n",
       "\\item 1\n",
       "\\end{enumerate}\n"
      ],
      "text/markdown": [
       "1. 1\n",
       "2. 1\n",
       "\n",
       "\n"
      ],
      "text/plain": [
       "[[1]]\n",
       "[1] 1\n",
       "\n",
       "[[2]]\n",
       "[1] 1\n"
      ]
     },
     "metadata": {},
     "output_type": "display_data"
    },
    {
     "data": {
      "text/html": [
       "<table class=\"dataframe\">\n",
       "<caption>A data.frame: 2 × 2</caption>\n",
       "<thead>\n",
       "\t<tr><th scope=col>V1</th><th scope=col>V2</th></tr>\n",
       "\t<tr><th scope=col>&lt;int&gt;</th><th scope=col>&lt;int&gt;</th></tr>\n",
       "</thead>\n",
       "<tbody>\n",
       "\t<tr><td>1</td><td>3</td></tr>\n",
       "\t<tr><td>2</td><td>4</td></tr>\n",
       "</tbody>\n",
       "</table>\n"
      ],
      "text/latex": [
       "A data.frame: 2 × 2\n",
       "\\begin{tabular}{ll}\n",
       " V1 & V2\\\\\n",
       " <int> & <int>\\\\\n",
       "\\hline\n",
       "\t 1 & 3\\\\\n",
       "\t 2 & 4\\\\\n",
       "\\end{tabular}\n"
      ],
      "text/markdown": [
       "\n",
       "A data.frame: 2 × 2\n",
       "\n",
       "| V1 &lt;int&gt; | V2 &lt;int&gt; |\n",
       "|---|---|\n",
       "| 1 | 3 |\n",
       "| 2 | 4 |\n",
       "\n"
      ],
      "text/plain": [
       "  V1 V2\n",
       "1 1  3 \n",
       "2 2  4 "
      ]
     },
     "metadata": {},
     "output_type": "display_data"
    }
   ],
   "source": [
    "aa = \"ahhhh i wanna go home\"\n",
    "as.numeric(aa)\n",
    "as.character(23)\n",
    "as.double(3)\n",
    "as.list(rep(1,2))\n",
    "as.data.frame(A)"
   ]
  },
  {
   "cell_type": "code",
   "execution_count": 53,
   "id": "cd0ebd39-a375-4200-a4c8-fc90c49cf185",
   "metadata": {},
   "outputs": [
    {
     "data": {
      "text/html": [
       "10"
      ],
      "text/latex": [
       "10"
      ],
      "text/markdown": [
       "10"
      ],
      "text/plain": [
       "[1] 10"
      ]
     },
     "metadata": {},
     "output_type": "display_data"
    }
   ],
   "source": [
    "a = 1:10\n",
    "length(a)  ## 데이터프레임이나 행렬의 경우 총 원소의 개수"
   ]
  },
  {
   "cell_type": "code",
   "execution_count": 54,
   "id": "2b88af04-300c-497d-86f4-974b41a58eaa",
   "metadata": {},
   "outputs": [
    {
     "name": "stdout",
     "output_type": "stream",
     "text": [
      "[1] \"a\" \"b\" \"b\" \"b\"\n",
      "[1] \"a\" \"a\" \"b\" \"b\"\n",
      "[1] \"a\" \"b\" \"a\" \"b\"\n"
     ]
    }
   ],
   "source": [
    "print(rep(c(\"a\", \"b\"), c(1,3)))\n",
    "print(rep(c(\"a\", \"b\"), each = 2))  ## 각각 2회\n",
    "print(rep(c(\"a\", \"b\"), 2))  ## 앞의 것을 2회 반복"
   ]
  },
  {
   "cell_type": "code",
   "execution_count": 56,
   "id": "4dbb6372-df9f-4fce-bebb-a6fb779633bd",
   "metadata": {},
   "outputs": [
    {
     "data": {
      "text/html": [
       "<style>\n",
       ".list-inline {list-style: none; margin:0; padding: 0}\n",
       ".list-inline>li {display: inline-block}\n",
       ".list-inline>li:not(:last-child)::after {content: \"\\00b7\"; padding: 0 .5ex}\n",
       "</style>\n",
       "<ol class=list-inline><li>0</li><li>1</li><li>2</li><li>3</li><li>4</li><li>5</li><li>6</li><li>7</li><li>8</li><li>9</li><li>10</li></ol>\n"
      ],
      "text/latex": [
       "\\begin{enumerate*}\n",
       "\\item 0\n",
       "\\item 1\n",
       "\\item 2\n",
       "\\item 3\n",
       "\\item 4\n",
       "\\item 5\n",
       "\\item 6\n",
       "\\item 7\n",
       "\\item 8\n",
       "\\item 9\n",
       "\\item 10\n",
       "\\end{enumerate*}\n"
      ],
      "text/markdown": [
       "1. 0\n",
       "2. 1\n",
       "3. 2\n",
       "4. 3\n",
       "5. 4\n",
       "6. 5\n",
       "7. 6\n",
       "8. 7\n",
       "9. 8\n",
       "10. 9\n",
       "11. 10\n",
       "\n",
       "\n"
      ],
      "text/plain": [
       " [1]  0  1  2  3  4  5  6  7  8  9 10"
      ]
     },
     "metadata": {},
     "output_type": "display_data"
    }
   ],
   "source": [
    "seq(0, 10, length = 11)"
   ]
  },
  {
   "cell_type": "code",
   "execution_count": null,
   "id": "ff64555c-3a2d-4ced-b4fa-473fe1c02f07",
   "metadata": {},
   "outputs": [],
   "source": [
    "v = data.frame(a=a, b=b)"
   ]
  },
  {
   "cell_type": "markdown",
   "id": "016f8882-82ab-40ac-8a7b-35dcf05ae54a",
   "metadata": {},
   "source": [
    "`-` `rbind`, `cbind`, `merge`"
   ]
  },
  {
   "cell_type": "code",
   "execution_count": 60,
   "id": "274f3a4f-d250-417d-a6be-3ad5962ce02c",
   "metadata": {},
   "outputs": [
    {
     "name": "stderr",
     "output_type": "stream",
     "text": [
      "Warning message in rbind(a, b):\n",
      "“number of columns of result is not a multiple of vector length (arg 2)”\n"
     ]
    },
    {
     "data": {
      "text/html": [
       "<table class=\"dataframe\">\n",
       "<caption>A matrix: 6 × 2 of type int</caption>\n",
       "<tbody>\n",
       "\t<tr><th scope=row></th><td>1</td><td> 6</td></tr>\n",
       "\t<tr><th scope=row></th><td>2</td><td> 7</td></tr>\n",
       "\t<tr><th scope=row></th><td>3</td><td> 8</td></tr>\n",
       "\t<tr><th scope=row></th><td>4</td><td> 9</td></tr>\n",
       "\t<tr><th scope=row></th><td>5</td><td>10</td></tr>\n",
       "\t<tr><th scope=row>b</th><td>1</td><td> 2</td></tr>\n",
       "</tbody>\n",
       "</table>\n"
      ],
      "text/latex": [
       "A matrix: 6 × 2 of type int\n",
       "\\begin{tabular}{r|ll}\n",
       "\t & 1 &  6\\\\\n",
       "\t & 2 &  7\\\\\n",
       "\t & 3 &  8\\\\\n",
       "\t & 4 &  9\\\\\n",
       "\t & 5 & 10\\\\\n",
       "\tb & 1 &  2\\\\\n",
       "\\end{tabular}\n"
      ],
      "text/markdown": [
       "\n",
       "A matrix: 6 × 2 of type int\n",
       "\n",
       "| <!----> | 1 |  6 |\n",
       "| <!----> | 2 |  7 |\n",
       "| <!----> | 3 |  8 |\n",
       "| <!----> | 4 |  9 |\n",
       "| <!----> | 5 | 10 |\n",
       "| b | 1 |  2 |\n",
       "\n"
      ],
      "text/plain": [
       "  [,1] [,2]\n",
       "  1     6  \n",
       "  2     7  \n",
       "  3     8  \n",
       "  4     9  \n",
       "  5    10  \n",
       "b 1     2  "
      ]
     },
     "metadata": {},
     "output_type": "display_data"
    }
   ],
   "source": [
    "a = matrix(1:10, 5,2)\n",
    "b = 1:5\n",
    "\n",
    "bb = rbind(a,b)\n",
    "bb"
   ]
  },
  {
   "cell_type": "code",
   "execution_count": 61,
   "id": "fb004fd9-0805-41cb-a212-388fc391ebe8",
   "metadata": {},
   "outputs": [
    {
     "data": {
      "text/html": [
       "<table class=\"dataframe\">\n",
       "<caption>A matrix: 6 × 2 of type int</caption>\n",
       "<tbody>\n",
       "\t<tr><th scope=row></th><td>1</td><td> 6</td></tr>\n",
       "\t<tr><th scope=row></th><td>2</td><td> 7</td></tr>\n",
       "\t<tr><th scope=row></th><td>3</td><td> 8</td></tr>\n",
       "\t<tr><th scope=row></th><td>4</td><td> 9</td></tr>\n",
       "\t<tr><th scope=row></th><td>5</td><td>10</td></tr>\n",
       "\t<tr><th scope=row>b</th><td>1</td><td> 2</td></tr>\n",
       "</tbody>\n",
       "</table>\n"
      ],
      "text/latex": [
       "A matrix: 6 × 2 of type int\n",
       "\\begin{tabular}{r|ll}\n",
       "\t & 1 &  6\\\\\n",
       "\t & 2 &  7\\\\\n",
       "\t & 3 &  8\\\\\n",
       "\t & 4 &  9\\\\\n",
       "\t & 5 & 10\\\\\n",
       "\tb & 1 &  2\\\\\n",
       "\\end{tabular}\n"
      ],
      "text/markdown": [
       "\n",
       "A matrix: 6 × 2 of type int\n",
       "\n",
       "| <!----> | 1 |  6 |\n",
       "| <!----> | 2 |  7 |\n",
       "| <!----> | 3 |  8 |\n",
       "| <!----> | 4 |  9 |\n",
       "| <!----> | 5 | 10 |\n",
       "| b | 1 |  2 |\n",
       "\n"
      ],
      "text/plain": [
       "  [,1] [,2]\n",
       "  1     6  \n",
       "  2     7  \n",
       "  3     8  \n",
       "  4     9  \n",
       "  5    10  \n",
       "b 1     2  "
      ]
     },
     "metadata": {},
     "output_type": "display_data"
    }
   ],
   "source": [
    "unique(bb)  ## 튜플의 유일성을 확인하는 구문, 중복을 없애줌"
   ]
  },
  {
   "cell_type": "code",
   "execution_count": 63,
   "id": "7fd5776f-9b2a-4a13-b9d4-59c60b00ba41",
   "metadata": {},
   "outputs": [
    {
     "data": {
      "text/html": [
       "<table class=\"dataframe\">\n",
       "<caption>A data.frame: 3 × 3</caption>\n",
       "<thead>\n",
       "\t<tr><th scope=col>cust_id</th><th scope=col>buy_cnt.x</th><th scope=col>buy_cnt.y</th></tr>\n",
       "\t<tr><th scope=col>&lt;chr&gt;</th><th scope=col>&lt;dbl&gt;</th><th scope=col>&lt;dbl&gt;</th></tr>\n",
       "</thead>\n",
       "<tbody>\n",
       "\t<tr><td>c04</td><td>3</td><td>1</td></tr>\n",
       "\t<tr><td>c05</td><td>2</td><td>4</td></tr>\n",
       "\t<tr><td>c06</td><td>1</td><td>1</td></tr>\n",
       "</tbody>\n",
       "</table>\n"
      ],
      "text/latex": [
       "A data.frame: 3 × 3\n",
       "\\begin{tabular}{lll}\n",
       " cust\\_id & buy\\_cnt.x & buy\\_cnt.y\\\\\n",
       " <chr> & <dbl> & <dbl>\\\\\n",
       "\\hline\n",
       "\t c04 & 3 & 1\\\\\n",
       "\t c05 & 2 & 4\\\\\n",
       "\t c06 & 1 & 1\\\\\n",
       "\\end{tabular}\n"
      ],
      "text/markdown": [
       "\n",
       "A data.frame: 3 × 3\n",
       "\n",
       "| cust_id &lt;chr&gt; | buy_cnt.x &lt;dbl&gt; | buy_cnt.y &lt;dbl&gt; |\n",
       "|---|---|---|\n",
       "| c04 | 3 | 1 |\n",
       "| c05 | 2 | 4 |\n",
       "| c06 | 1 | 1 |\n",
       "\n"
      ],
      "text/plain": [
       "  cust_id buy_cnt.x buy_cnt.y\n",
       "1 c04     3         1        \n",
       "2 c05     2         4        \n",
       "3 c06     1         1        "
      ]
     },
     "metadata": {},
     "output_type": "display_data"
    }
   ],
   "source": [
    "cust_mart_7 <- data.frame(cust_id = c(\"c03\", \"c04\", \"c05\", \"c06\"), buy_cnt = c(3,1,4,1))\n",
    "cust_mart_6 <- data.frame(cust_id = c(\"c04\", \"c05\", \"c06\", \"c07\"), buy_cnt = c(3,2,1,3))\n",
    "\n",
    "merge(cust_mart_6, cust_mart_7, by = \"cust_id\")  ## pd.merge()"
   ]
  },
  {
   "cell_type": "code",
   "execution_count": 64,
   "id": "fab3c416-ad0c-40ce-a67f-4b3b4a4a6edc",
   "metadata": {},
   "outputs": [
    {
     "data": {
      "text/html": [
       "<table class=\"dataframe\">\n",
       "<caption>A data.frame: 5 × 3</caption>\n",
       "<thead>\n",
       "\t<tr><th scope=col>cust_id</th><th scope=col>buy_cnt.x</th><th scope=col>buy_cnt.y</th></tr>\n",
       "\t<tr><th scope=col>&lt;chr&gt;</th><th scope=col>&lt;dbl&gt;</th><th scope=col>&lt;dbl&gt;</th></tr>\n",
       "</thead>\n",
       "<tbody>\n",
       "\t<tr><td>c03</td><td>NA</td><td> 3</td></tr>\n",
       "\t<tr><td>c04</td><td> 3</td><td> 1</td></tr>\n",
       "\t<tr><td>c05</td><td> 2</td><td> 4</td></tr>\n",
       "\t<tr><td>c06</td><td> 1</td><td> 1</td></tr>\n",
       "\t<tr><td>c07</td><td> 3</td><td>NA</td></tr>\n",
       "</tbody>\n",
       "</table>\n"
      ],
      "text/latex": [
       "A data.frame: 5 × 3\n",
       "\\begin{tabular}{lll}\n",
       " cust\\_id & buy\\_cnt.x & buy\\_cnt.y\\\\\n",
       " <chr> & <dbl> & <dbl>\\\\\n",
       "\\hline\n",
       "\t c03 & NA &  3\\\\\n",
       "\t c04 &  3 &  1\\\\\n",
       "\t c05 &  2 &  4\\\\\n",
       "\t c06 &  1 &  1\\\\\n",
       "\t c07 &  3 & NA\\\\\n",
       "\\end{tabular}\n"
      ],
      "text/markdown": [
       "\n",
       "A data.frame: 5 × 3\n",
       "\n",
       "| cust_id &lt;chr&gt; | buy_cnt.x &lt;dbl&gt; | buy_cnt.y &lt;dbl&gt; |\n",
       "|---|---|---|\n",
       "| c03 | NA |  3 |\n",
       "| c04 |  3 |  1 |\n",
       "| c05 |  2 |  4 |\n",
       "| c06 |  1 |  1 |\n",
       "| c07 |  3 | NA |\n",
       "\n"
      ],
      "text/plain": [
       "  cust_id buy_cnt.x buy_cnt.y\n",
       "1 c03     NA         3       \n",
       "2 c04      3         1       \n",
       "3 c05      2         4       \n",
       "4 c06      1         1       \n",
       "5 c07      3        NA       "
      ]
     },
     "metadata": {},
     "output_type": "display_data"
    }
   ],
   "source": [
    "merge(cust_mart_6, cust_mart_7, by = \"cust_id\", all.x = TRUE, all.y = TRUE)  ## 전체 외부조인"
   ]
  },
  {
   "cell_type": "markdown",
   "id": "6dc58626-1a31-4d78-9414-ab41c1f75227",
   "metadata": {},
   "source": [
    "> x만 살리면 왼쪽 외부조인 / y만 살리면 오른쪽 외부조인"
   ]
  }
 ],
 "metadata": {
  "kernelspec": {
   "display_name": "R",
   "language": "R",
   "name": "ir"
  },
  "language_info": {
   "codemirror_mode": "r",
   "file_extension": ".r",
   "mimetype": "text/x-r-source",
   "name": "R",
   "pygments_lexer": "r",
   "version": "4.3.3"
  }
 },
 "nbformat": 4,
 "nbformat_minor": 5
}
