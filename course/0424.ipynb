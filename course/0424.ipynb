{
 "cells": [
  {
   "cell_type": "markdown",
   "id": "332c5c47-7404-453f-835a-716c79090d80",
   "metadata": {},
   "source": [
    "### loadmap"
   ]
  },
  {
   "cell_type": "markdown",
   "id": "106741b2-98f4-4c7e-8e26-6898bac3ed12",
   "metadata": {},
   "source": [
    "* 데이터베이스 구축 : 모델링\n",
    "\n",
    "> 제약조건 중 정규형까지\n",
    "\n",
    "하드 위에 간단한 릴레이션을 쌓아놓는 정도의 DB를 구축하고, 접근하는 것을 배울 겁니다. `SQLite`"
   ]
  },
  {
   "cell_type": "markdown",
   "id": "b91dffc2-ce2c-44a9-a6b2-8c5d64b548c2",
   "metadata": {},
   "source": [
    "* 교수님과 상담하여 데이터 주제를 결정하고, 해당 데이터를 수집하여 DB를 구성... 해당 내용을 정리해서 발표\n",
    "\n",
    "1. 이미 있는 데이터를 재구성\n",
    "2. 데이터를 직접 수집... duckduckgo?\n",
    "\n",
    "> 발표 : 모델링부터\n",
    ">\n",
    "> 데이터베이스의 E-R 다이어그램, 릴레이션 구성 방법(관계의 테이블 연결 등), 스키마와 제약조건, 키 속성, \n",
    ">\n",
    "> 릴레이션을 이렇게 구성했고, 그건 E-R 다이어그램의 어떤 부분이고..., etc"
   ]
  },
  {
   "cell_type": "code",
   "execution_count": null,
   "id": "38d05bec-a6d7-4db6-85c4-2121657f8656",
   "metadata": {},
   "outputs": [],
   "source": []
  },
  {
   "cell_type": "code",
   "execution_count": null,
   "id": "a7dd1b51-f91b-4824-898a-505c10ae9401",
   "metadata": {},
   "outputs": [],
   "source": []
  }
 ],
 "metadata": {
  "kernelspec": {
   "display_name": "Python 3 (ipykernel)",
   "language": "python",
   "name": "python3"
  },
  "language_info": {
   "codemirror_mode": {
    "name": "ipython",
    "version": 3
   },
   "file_extension": ".py",
   "mimetype": "text/x-python",
   "name": "python",
   "nbconvert_exporter": "python",
   "pygments_lexer": "ipython3",
   "version": "3.10.13"
  }
 },
 "nbformat": 4,
 "nbformat_minor": 5
}
