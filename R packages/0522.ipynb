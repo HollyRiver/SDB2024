{
 "cells": [
  {
   "cell_type": "markdown",
   "id": "61ef21e3-c913-4654-9fa3-b875fb8038bd",
   "metadata": {},
   "source": [
    "데이터베이스 면담\n",
    "\n",
    "> DB에 사용할 데이터 관련.\n",
    "\n",
    "퀴즈는 기말발표 전주 쯤에 볼 듯. 범위는 프로그래밍 이전."
   ]
  },
  {
   "cell_type": "markdown",
   "id": "a60dd796-1d20-4112-ba13-51efcece3a58",
   "metadata": {},
   "source": [
    "### SQLite"
   ]
  },
  {
   "cell_type": "markdown",
   "id": "72226034-a13c-4ee7-b892-249238c20e8f",
   "metadata": {},
   "source": [
    "오픈 소스, 가벼운 유형으로 모든 시스템에서 사용이 가능하다.\n",
    "\n",
    "데이터 형식의 다양성(스키마 지정), 수평 확장성(데이터베이스 네트워크 간 확장), 데이터 관리의 엄격성에서는 다소 약점이 있고 이런 부분에서는 MySQL이 강점을 가지고 있다.\n",
    "\n",
    "> 실제 상황과의 괴리 : 실제는 서버에서 돌아가고, 대용량 데이터가 여러 데이터베이스간 교차하여 작동함."
   ]
  },
  {
   "cell_type": "markdown",
   "id": "a88c5f69-5b2d-4777-917e-b25865a84150",
   "metadata": {},
   "source": [
    "지원하는 데이터 유형\n",
    "\n",
    "* TEXT 문자열(UTF-8, UTF-16BE, UTF16LE)\n",
    "* REAL 8바이트 부동 소수점 값. float32\n",
    "* NULL\n",
    "* INTEGER 8바이트 정수값. int32\n",
    "* BLOB 입력형태 그대로 저장(이미지, 오디오, 멀티미디어 파일)"
   ]
  },
  {
   "cell_type": "code",
   "execution_count": 5,
   "id": "ddd49201-2c66-4965-8c62-828c93d4d503",
   "metadata": {},
   "outputs": [
    {
     "name": "stderr",
     "output_type": "stream",
     "text": [
      "Updating HTML index of packages in '.Library'\n",
      "\n",
      "Making 'packages.html' ...\n",
      " done\n",
      "\n",
      "also installing the dependency ‘plogr’\n",
      "\n",
      "\n",
      "Warning message in install.packages(\"RSQLite\"):\n",
      "“installation of package ‘RSQLite’ had non-zero exit status”\n",
      "Updating HTML index of packages in '.Library'\n",
      "\n",
      "Making 'packages.html' ...\n",
      " done\n",
      "\n"
     ]
    },
    {
     "ename": "ERROR",
     "evalue": "Error in library(RSQLite): there is no package called ‘RSQLite’\n",
     "output_type": "error",
     "traceback": [
      "Error in library(RSQLite): there is no package called ‘RSQLite’\nTraceback:\n",
      "1. library(RSQLite)"
     ]
    }
   ],
   "source": [
    "install.packages(\"DBI\")\n",
    "install.packages(\"RSQLite\")\n",
    "library(DBI)\n",
    "library(RSQLite)"
   ]
  },
  {
   "cell_type": "code",
   "execution_count": 8,
   "id": "c20f8dcf-5474-427f-87ed-0cc7e778917b",
   "metadata": {},
   "outputs": [
    {
     "name": "stderr",
     "output_type": "stream",
     "text": [
      "Warning message in install.packages(\"RSQLite\"):\n",
      "“installation of package ‘RSQLite’ had non-zero exit status”\n",
      "Updating HTML index of packages in '.Library'\n",
      "\n",
      "Making 'packages.html' ...\n",
      " done\n",
      "\n"
     ]
    }
   ],
   "source": [
    "install.packages(\"RSQLite\")"
   ]
  },
  {
   "cell_type": "markdown",
   "id": "02b5ec86-a923-4318-864f-d71138b42436",
   "metadata": {},
   "source": [
    "conn = dbConne"
   ]
  }
 ],
 "metadata": {
  "kernelspec": {
   "display_name": "R",
   "language": "R",
   "name": "ir"
  },
  "language_info": {
   "codemirror_mode": "r",
   "file_extension": ".r",
   "mimetype": "text/x-r-source",
   "name": "R",
   "pygments_lexer": "r",
   "version": "4.3.3"
  }
 },
 "nbformat": 4,
 "nbformat_minor": 5
}
