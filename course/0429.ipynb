{
 "cells": [
  {
   "cell_type": "markdown",
   "id": "76b44b0d-c78f-4244-8d9d-d991bbee476c",
   "metadata": {},
   "source": [
    "`-` 과제 설명"
   ]
  },
  {
   "cell_type": "markdown",
   "id": "1c17e9ed-8624-4a5a-97ab-4f24ecbf22ff",
   "metadata": {},
   "source": [
    "* $\\sigma$ : select\n",
    "\n",
    "1. 충청도 북쪽 > 속성의 값으로 이해한다면 틀린말은 아님. 하지만 일반적으로 속성의 특징으로 나타낸다.\n",
    "2. 차집합 연산 > 차수가 같고, 릴레이션 별 대응되는 속성의 도메인이 같아야 한다. DB 구성 시 구동이 안되게 만들어둬야 한다.\n",
    "\n",
    "* 무결성\n",
    "\n",
    "1. 개체 무결성 제약\n",
    "2. 참조 무결성 제약\n",
    "3. 기타 무결성 제약조건"
   ]
  }
 ],
 "metadata": {
  "kernelspec": {
   "display_name": "Python 3 (ipykernel)",
   "language": "python",
   "name": "python3"
  },
  "language_info": {
   "codemirror_mode": {
    "name": "ipython",
    "version": 3
   },
   "file_extension": ".py",
   "mimetype": "text/x-python",
   "name": "python",
   "nbconvert_exporter": "python",
   "pygments_lexer": "ipython3",
   "version": "3.10.13"
  }
 },
 "nbformat": 4,
 "nbformat_minor": 5
}
