{
 "cells": [
  {
   "cell_type": "markdown",
   "id": "5545c871-7564-40f2-8d53-5c8f6770b805",
   "metadata": {},
   "source": [
    "`-` R 패키지\n",
    "\n",
    "> CRAN에서 pdf를 다운받으면 그 설명이 가장 상세하다."
   ]
  },
  {
   "cell_type": "code",
   "execution_count": null,
   "id": "a8a9ac7e-84d4-4b9e-8c54-04dd281ec45f",
   "metadata": {},
   "outputs": [],
   "source": [
    "install.packages(\"remotes\")\n",
    "library(remotes)"
   ]
  },
  {
   "cell_type": "code",
   "execution_count": null,
   "id": "4beb3684-6154-4133-be90-59c00c5ec525",
   "metadata": {},
   "outputs": [],
   "source": [
    "install_github(\"URL\", force = TRUE)  ## 깃허브에 있는 것을 직접 인스톨하는 것"
   ]
  }
 ],
 "metadata": {
  "kernelspec": {
   "display_name": "R",
   "language": "R",
   "name": "ir"
  },
  "language_info": {
   "codemirror_mode": "r",
   "file_extension": ".r",
   "mimetype": "text/x-r-source",
   "name": "R",
   "pygments_lexer": "r",
   "version": "4.3.3"
  }
 },
 "nbformat": 4,
 "nbformat_minor": 5
}
